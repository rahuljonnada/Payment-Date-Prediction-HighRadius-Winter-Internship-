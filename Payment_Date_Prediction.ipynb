{
  "cells": [
    {
      "cell_type": "markdown",
      "source": [
        "# Payment Date Prediction "
      ],
      "metadata": {
        "id": "wcq6dWzy1ZR0"
      },
      "id": "wcq6dWzy1ZR0"
    },
    {
      "cell_type": "markdown",
      "id": "2778654e",
      "metadata": {
        "id": "2778654e"
      },
      "source": [
        "\n",
        "### Importing related Libraries "
      ]
    },
    {
      "cell_type": "code",
      "execution_count": null,
      "id": "304c9e38",
      "metadata": {
        "id": "304c9e38"
      },
      "outputs": [],
      "source": [
        "import pandas as pd\n",
        "import numpy as np\n",
        "import matplotlib.pyplot as plt\n",
        "import seaborn as sns\n",
        "from sklearn.model_selection import train_test_split\n",
        "import warnings\n",
        "warnings.filterwarnings('ignore')"
      ]
    },
    {
      "cell_type": "markdown",
      "id": "8724f5ee",
      "metadata": {
        "id": "8724f5ee"
      },
      "source": [
        "### Store the dataset into the Dataframe\n"
      ]
    },
    {
      "cell_type": "code",
      "execution_count": null,
      "id": "415db50a",
      "metadata": {
        "id": "415db50a"
      },
      "outputs": [],
      "source": [
        "df=pd.read_csv(\"dataset.csv\")\n"
      ]
    },
    {
      "cell_type": "markdown",
      "id": "42e37f05",
      "metadata": {
        "id": "42e37f05"
      },
      "source": [
        "### Check the shape of the dataframe\n"
      ]
    },
    {
      "cell_type": "code",
      "execution_count": null,
      "id": "27cc0907",
      "metadata": {
        "id": "27cc0907",
        "colab": {
          "base_uri": "https://localhost:8080/"
        },
        "outputId": "bafee289-e21c-4caf-932d-b3f5884a6f74"
      },
      "outputs": [
        {
          "output_type": "execute_result",
          "data": {
            "text/plain": [
              "(50000, 19)"
            ]
          },
          "metadata": {},
          "execution_count": 161
        }
      ],
      "source": [
        "df.shape"
      ]
    },
    {
      "cell_type": "markdown",
      "id": "b68c955d",
      "metadata": {
        "id": "b68c955d"
      },
      "source": [
        "### Check the Detail information of the dataframe"
      ]
    },
    {
      "cell_type": "code",
      "execution_count": null,
      "id": "e092ec9e",
      "metadata": {
        "id": "e092ec9e",
        "colab": {
          "base_uri": "https://localhost:8080/"
        },
        "outputId": "644f2dc1-833d-4c39-ca6c-76efc07b5624"
      },
      "outputs": [
        {
          "output_type": "stream",
          "name": "stdout",
          "text": [
            "<class 'pandas.core.frame.DataFrame'>\n",
            "RangeIndex: 50000 entries, 0 to 49999\n",
            "Data columns (total 19 columns):\n",
            " #   Column                  Non-Null Count  Dtype  \n",
            "---  ------                  --------------  -----  \n",
            " 0   business_code           50000 non-null  object \n",
            " 1   cust_number             50000 non-null  object \n",
            " 2   name_customer           50000 non-null  object \n",
            " 3   clear_date              40000 non-null  object \n",
            " 4   buisness_year           50000 non-null  float64\n",
            " 5   doc_id                  50000 non-null  float64\n",
            " 6   posting_date            50000 non-null  object \n",
            " 7   document_create_date    50000 non-null  int64  \n",
            " 8   document_create_date.1  50000 non-null  int64  \n",
            " 9   due_in_date             50000 non-null  float64\n",
            " 10  invoice_currency        50000 non-null  object \n",
            " 11  document type           50000 non-null  object \n",
            " 12  posting_id              50000 non-null  float64\n",
            " 13  area_business           0 non-null      float64\n",
            " 14  total_open_amount       50000 non-null  float64\n",
            " 15  baseline_create_date    50000 non-null  float64\n",
            " 16  cust_payment_terms      50000 non-null  object \n",
            " 17  invoice_id              49994 non-null  float64\n",
            " 18  isOpen                  50000 non-null  int64  \n",
            "dtypes: float64(8), int64(3), object(8)\n",
            "memory usage: 7.2+ MB\n"
          ]
        }
      ],
      "source": [
        "df.info()"
      ]
    },
    {
      "cell_type": "markdown",
      "id": "112f2d0e",
      "metadata": {
        "id": "112f2d0e"
      },
      "source": [
        "### Display All the column names"
      ]
    },
    {
      "cell_type": "code",
      "execution_count": null,
      "id": "1416e2fd",
      "metadata": {
        "id": "1416e2fd",
        "colab": {
          "base_uri": "https://localhost:8080/"
        },
        "outputId": "6a13a13c-3530-41b7-dcd9-40fe0bc17fdf"
      },
      "outputs": [
        {
          "output_type": "execute_result",
          "data": {
            "text/plain": [
              "Index(['business_code', 'cust_number', 'name_customer', 'clear_date',\n",
              "       'buisness_year', 'doc_id', 'posting_date', 'document_create_date',\n",
              "       'document_create_date.1', 'due_in_date', 'invoice_currency',\n",
              "       'document type', 'posting_id', 'area_business', 'total_open_amount',\n",
              "       'baseline_create_date', 'cust_payment_terms', 'invoice_id', 'isOpen'],\n",
              "      dtype='object')"
            ]
          },
          "metadata": {},
          "execution_count": 163
        }
      ],
      "source": [
        "df.columns"
      ]
    },
    {
      "cell_type": "markdown",
      "id": "d465ed7a",
      "metadata": {
        "id": "d465ed7a"
      },
      "source": [
        "### Describe the entire dataset"
      ]
    },
    {
      "cell_type": "code",
      "execution_count": null,
      "id": "25f65e1b",
      "metadata": {
        "id": "25f65e1b",
        "colab": {
          "base_uri": "https://localhost:8080/",
          "height": 364
        },
        "outputId": "15de7bec-cb84-4201-e82d-48e9251295c2"
      },
      "outputs": [
        {
          "output_type": "execute_result",
          "data": {
            "text/plain": [
              "       buisness_year        doc_id  document_create_date  \\\n",
              "count   50000.000000  5.000000e+04          5.000000e+04   \n",
              "mean     2019.305700  2.012238e+09          2.019351e+07   \n",
              "std         0.460708  2.885235e+08          4.496041e+03   \n",
              "min      2019.000000  1.928502e+09          2.018123e+07   \n",
              "25%      2019.000000  1.929342e+09          2.019050e+07   \n",
              "50%      2019.000000  1.929964e+09          2.019091e+07   \n",
              "75%      2020.000000  1.930619e+09          2.020013e+07   \n",
              "max      2020.000000  9.500000e+09          2.020052e+07   \n",
              "\n",
              "       document_create_date.1   due_in_date  posting_id  area_business  \\\n",
              "count            5.000000e+04  5.000000e+04     50000.0            0.0   \n",
              "mean             2.019354e+07  2.019368e+07         1.0            NaN   \n",
              "std              4.482134e+03  4.470614e+03         0.0            NaN   \n",
              "min              2.018123e+07  2.018122e+07         1.0            NaN   \n",
              "25%              2.019051e+07  2.019052e+07         1.0            NaN   \n",
              "50%              2.019091e+07  2.019093e+07         1.0            NaN   \n",
              "75%              2.020013e+07  2.020022e+07         1.0            NaN   \n",
              "max              2.020052e+07  2.020071e+07         1.0            NaN   \n",
              "\n",
              "       total_open_amount  baseline_create_date    invoice_id        isOpen  \n",
              "count       50000.000000          5.000000e+04  4.999400e+04  50000.000000  \n",
              "mean        32337.021651          2.019354e+07  2.011340e+09      0.200000  \n",
              "std         39205.975231          4.482701e+03  2.766335e+08      0.400004  \n",
              "min             0.720000          2.018121e+07  1.928502e+09      0.000000  \n",
              "25%          4928.312500          2.019050e+07  1.929342e+09      0.000000  \n",
              "50%         17609.010000          2.019091e+07  1.929964e+09      0.000000  \n",
              "75%         47133.635000          2.020013e+07  1.930619e+09      0.000000  \n",
              "max        668593.360000          2.020052e+07  2.960636e+09      1.000000  "
            ],
            "text/html": [
              "\n",
              "  <div id=\"df-58ce2091-f752-4c1e-b797-8b9b6a806fd2\">\n",
              "    <div class=\"colab-df-container\">\n",
              "      <div>\n",
              "<style scoped>\n",
              "    .dataframe tbody tr th:only-of-type {\n",
              "        vertical-align: middle;\n",
              "    }\n",
              "\n",
              "    .dataframe tbody tr th {\n",
              "        vertical-align: top;\n",
              "    }\n",
              "\n",
              "    .dataframe thead th {\n",
              "        text-align: right;\n",
              "    }\n",
              "</style>\n",
              "<table border=\"1\" class=\"dataframe\">\n",
              "  <thead>\n",
              "    <tr style=\"text-align: right;\">\n",
              "      <th></th>\n",
              "      <th>buisness_year</th>\n",
              "      <th>doc_id</th>\n",
              "      <th>document_create_date</th>\n",
              "      <th>document_create_date.1</th>\n",
              "      <th>due_in_date</th>\n",
              "      <th>posting_id</th>\n",
              "      <th>area_business</th>\n",
              "      <th>total_open_amount</th>\n",
              "      <th>baseline_create_date</th>\n",
              "      <th>invoice_id</th>\n",
              "      <th>isOpen</th>\n",
              "    </tr>\n",
              "  </thead>\n",
              "  <tbody>\n",
              "    <tr>\n",
              "      <th>count</th>\n",
              "      <td>50000.000000</td>\n",
              "      <td>5.000000e+04</td>\n",
              "      <td>5.000000e+04</td>\n",
              "      <td>5.000000e+04</td>\n",
              "      <td>5.000000e+04</td>\n",
              "      <td>50000.0</td>\n",
              "      <td>0.0</td>\n",
              "      <td>50000.000000</td>\n",
              "      <td>5.000000e+04</td>\n",
              "      <td>4.999400e+04</td>\n",
              "      <td>50000.000000</td>\n",
              "    </tr>\n",
              "    <tr>\n",
              "      <th>mean</th>\n",
              "      <td>2019.305700</td>\n",
              "      <td>2.012238e+09</td>\n",
              "      <td>2.019351e+07</td>\n",
              "      <td>2.019354e+07</td>\n",
              "      <td>2.019368e+07</td>\n",
              "      <td>1.0</td>\n",
              "      <td>NaN</td>\n",
              "      <td>32337.021651</td>\n",
              "      <td>2.019354e+07</td>\n",
              "      <td>2.011340e+09</td>\n",
              "      <td>0.200000</td>\n",
              "    </tr>\n",
              "    <tr>\n",
              "      <th>std</th>\n",
              "      <td>0.460708</td>\n",
              "      <td>2.885235e+08</td>\n",
              "      <td>4.496041e+03</td>\n",
              "      <td>4.482134e+03</td>\n",
              "      <td>4.470614e+03</td>\n",
              "      <td>0.0</td>\n",
              "      <td>NaN</td>\n",
              "      <td>39205.975231</td>\n",
              "      <td>4.482701e+03</td>\n",
              "      <td>2.766335e+08</td>\n",
              "      <td>0.400004</td>\n",
              "    </tr>\n",
              "    <tr>\n",
              "      <th>min</th>\n",
              "      <td>2019.000000</td>\n",
              "      <td>1.928502e+09</td>\n",
              "      <td>2.018123e+07</td>\n",
              "      <td>2.018123e+07</td>\n",
              "      <td>2.018122e+07</td>\n",
              "      <td>1.0</td>\n",
              "      <td>NaN</td>\n",
              "      <td>0.720000</td>\n",
              "      <td>2.018121e+07</td>\n",
              "      <td>1.928502e+09</td>\n",
              "      <td>0.000000</td>\n",
              "    </tr>\n",
              "    <tr>\n",
              "      <th>25%</th>\n",
              "      <td>2019.000000</td>\n",
              "      <td>1.929342e+09</td>\n",
              "      <td>2.019050e+07</td>\n",
              "      <td>2.019051e+07</td>\n",
              "      <td>2.019052e+07</td>\n",
              "      <td>1.0</td>\n",
              "      <td>NaN</td>\n",
              "      <td>4928.312500</td>\n",
              "      <td>2.019050e+07</td>\n",
              "      <td>1.929342e+09</td>\n",
              "      <td>0.000000</td>\n",
              "    </tr>\n",
              "    <tr>\n",
              "      <th>50%</th>\n",
              "      <td>2019.000000</td>\n",
              "      <td>1.929964e+09</td>\n",
              "      <td>2.019091e+07</td>\n",
              "      <td>2.019091e+07</td>\n",
              "      <td>2.019093e+07</td>\n",
              "      <td>1.0</td>\n",
              "      <td>NaN</td>\n",
              "      <td>17609.010000</td>\n",
              "      <td>2.019091e+07</td>\n",
              "      <td>1.929964e+09</td>\n",
              "      <td>0.000000</td>\n",
              "    </tr>\n",
              "    <tr>\n",
              "      <th>75%</th>\n",
              "      <td>2020.000000</td>\n",
              "      <td>1.930619e+09</td>\n",
              "      <td>2.020013e+07</td>\n",
              "      <td>2.020013e+07</td>\n",
              "      <td>2.020022e+07</td>\n",
              "      <td>1.0</td>\n",
              "      <td>NaN</td>\n",
              "      <td>47133.635000</td>\n",
              "      <td>2.020013e+07</td>\n",
              "      <td>1.930619e+09</td>\n",
              "      <td>0.000000</td>\n",
              "    </tr>\n",
              "    <tr>\n",
              "      <th>max</th>\n",
              "      <td>2020.000000</td>\n",
              "      <td>9.500000e+09</td>\n",
              "      <td>2.020052e+07</td>\n",
              "      <td>2.020052e+07</td>\n",
              "      <td>2.020071e+07</td>\n",
              "      <td>1.0</td>\n",
              "      <td>NaN</td>\n",
              "      <td>668593.360000</td>\n",
              "      <td>2.020052e+07</td>\n",
              "      <td>2.960636e+09</td>\n",
              "      <td>1.000000</td>\n",
              "    </tr>\n",
              "  </tbody>\n",
              "</table>\n",
              "</div>\n",
              "      <button class=\"colab-df-convert\" onclick=\"convertToInteractive('df-58ce2091-f752-4c1e-b797-8b9b6a806fd2')\"\n",
              "              title=\"Convert this dataframe to an interactive table.\"\n",
              "              style=\"display:none;\">\n",
              "        \n",
              "  <svg xmlns=\"http://www.w3.org/2000/svg\" height=\"24px\"viewBox=\"0 0 24 24\"\n",
              "       width=\"24px\">\n",
              "    <path d=\"M0 0h24v24H0V0z\" fill=\"none\"/>\n",
              "    <path d=\"M18.56 5.44l.94 2.06.94-2.06 2.06-.94-2.06-.94-.94-2.06-.94 2.06-2.06.94zm-11 1L8.5 8.5l.94-2.06 2.06-.94-2.06-.94L8.5 2.5l-.94 2.06-2.06.94zm10 10l.94 2.06.94-2.06 2.06-.94-2.06-.94-.94-2.06-.94 2.06-2.06.94z\"/><path d=\"M17.41 7.96l-1.37-1.37c-.4-.4-.92-.59-1.43-.59-.52 0-1.04.2-1.43.59L10.3 9.45l-7.72 7.72c-.78.78-.78 2.05 0 2.83L4 21.41c.39.39.9.59 1.41.59.51 0 1.02-.2 1.41-.59l7.78-7.78 2.81-2.81c.8-.78.8-2.07 0-2.86zM5.41 20L4 18.59l7.72-7.72 1.47 1.35L5.41 20z\"/>\n",
              "  </svg>\n",
              "      </button>\n",
              "      \n",
              "  <style>\n",
              "    .colab-df-container {\n",
              "      display:flex;\n",
              "      flex-wrap:wrap;\n",
              "      gap: 12px;\n",
              "    }\n",
              "\n",
              "    .colab-df-convert {\n",
              "      background-color: #E8F0FE;\n",
              "      border: none;\n",
              "      border-radius: 50%;\n",
              "      cursor: pointer;\n",
              "      display: none;\n",
              "      fill: #1967D2;\n",
              "      height: 32px;\n",
              "      padding: 0 0 0 0;\n",
              "      width: 32px;\n",
              "    }\n",
              "\n",
              "    .colab-df-convert:hover {\n",
              "      background-color: #E2EBFA;\n",
              "      box-shadow: 0px 1px 2px rgba(60, 64, 67, 0.3), 0px 1px 3px 1px rgba(60, 64, 67, 0.15);\n",
              "      fill: #174EA6;\n",
              "    }\n",
              "\n",
              "    [theme=dark] .colab-df-convert {\n",
              "      background-color: #3B4455;\n",
              "      fill: #D2E3FC;\n",
              "    }\n",
              "\n",
              "    [theme=dark] .colab-df-convert:hover {\n",
              "      background-color: #434B5C;\n",
              "      box-shadow: 0px 1px 3px 1px rgba(0, 0, 0, 0.15);\n",
              "      filter: drop-shadow(0px 1px 2px rgba(0, 0, 0, 0.3));\n",
              "      fill: #FFFFFF;\n",
              "    }\n",
              "  </style>\n",
              "\n",
              "      <script>\n",
              "        const buttonEl =\n",
              "          document.querySelector('#df-58ce2091-f752-4c1e-b797-8b9b6a806fd2 button.colab-df-convert');\n",
              "        buttonEl.style.display =\n",
              "          google.colab.kernel.accessAllowed ? 'block' : 'none';\n",
              "\n",
              "        async function convertToInteractive(key) {\n",
              "          const element = document.querySelector('#df-58ce2091-f752-4c1e-b797-8b9b6a806fd2');\n",
              "          const dataTable =\n",
              "            await google.colab.kernel.invokeFunction('convertToInteractive',\n",
              "                                                     [key], {});\n",
              "          if (!dataTable) return;\n",
              "\n",
              "          const docLinkHtml = 'Like what you see? Visit the ' +\n",
              "            '<a target=\"_blank\" href=https://colab.research.google.com/notebooks/data_table.ipynb>data table notebook</a>'\n",
              "            + ' to learn more about interactive tables.';\n",
              "          element.innerHTML = '';\n",
              "          dataTable['output_type'] = 'display_data';\n",
              "          await google.colab.output.renderOutput(dataTable, element);\n",
              "          const docLink = document.createElement('div');\n",
              "          docLink.innerHTML = docLinkHtml;\n",
              "          element.appendChild(docLink);\n",
              "        }\n",
              "      </script>\n",
              "    </div>\n",
              "  </div>\n",
              "  "
            ]
          },
          "metadata": {},
          "execution_count": 164
        }
      ],
      "source": [
        "df.describe()"
      ]
    },
    {
      "cell_type": "markdown",
      "id": "0f2c8d02",
      "metadata": {
        "id": "0f2c8d02"
      },
      "source": [
        "# Data Cleaning\n",
        "\n",
        "- Show top 5 records from the dataset"
      ]
    },
    {
      "cell_type": "code",
      "execution_count": null,
      "id": "8f876212",
      "metadata": {
        "id": "8f876212",
        "colab": {
          "base_uri": "https://localhost:8080/",
          "height": 357
        },
        "outputId": "0a0fcb3c-b38d-4b06-a125-ba62cfe471b8"
      },
      "outputs": [
        {
          "output_type": "execute_result",
          "data": {
            "text/plain": [
              "  business_code cust_number       name_customer           clear_date  \\\n",
              "0          U001  0200769623        WAL-MAR corp  2020-02-11 00:00:00   \n",
              "1          U001  0200980828              BEN E   2019-08-08 00:00:00   \n",
              "2          U001  0200792734          MDV/ trust  2019-12-30 00:00:00   \n",
              "3          CA02  0140105686            SYSC llc                  NaN   \n",
              "4          U001  0200769623  WAL-MAR foundation  2019-11-25 00:00:00   \n",
              "\n",
              "   buisness_year        doc_id posting_date  document_create_date  \\\n",
              "0         2020.0  1.930438e+09   2020-01-26              20200125   \n",
              "1         2019.0  1.929646e+09   2019-07-22              20190722   \n",
              "2         2019.0  1.929874e+09   2019-09-14              20190914   \n",
              "3         2020.0  2.960623e+09   2020-03-30              20200330   \n",
              "4         2019.0  1.930148e+09   2019-11-13              20191113   \n",
              "\n",
              "   document_create_date.1  due_in_date invoice_currency document type  \\\n",
              "0                20200126   20200210.0              USD            RV   \n",
              "1                20190722   20190811.0              USD            RV   \n",
              "2                20190914   20190929.0              USD            RV   \n",
              "3                20200330   20200410.0              CAD            RV   \n",
              "4                20191113   20191128.0              USD            RV   \n",
              "\n",
              "   posting_id  area_business  total_open_amount  baseline_create_date  \\\n",
              "0         1.0            NaN           54273.28            20200126.0   \n",
              "1         1.0            NaN           79656.60            20190722.0   \n",
              "2         1.0            NaN            2253.86            20190914.0   \n",
              "3         1.0            NaN            3299.70            20200331.0   \n",
              "4         1.0            NaN           33133.29            20191113.0   \n",
              "\n",
              "  cust_payment_terms    invoice_id  isOpen  \n",
              "0               NAH4  1.930438e+09       0  \n",
              "1               NAD1  1.929646e+09       0  \n",
              "2               NAA8  1.929874e+09       0  \n",
              "3               CA10  2.960623e+09       1  \n",
              "4               NAH4  1.930148e+09       0  "
            ],
            "text/html": [
              "\n",
              "  <div id=\"df-6eca3f02-db53-4a06-a6a8-173f202c8f27\">\n",
              "    <div class=\"colab-df-container\">\n",
              "      <div>\n",
              "<style scoped>\n",
              "    .dataframe tbody tr th:only-of-type {\n",
              "        vertical-align: middle;\n",
              "    }\n",
              "\n",
              "    .dataframe tbody tr th {\n",
              "        vertical-align: top;\n",
              "    }\n",
              "\n",
              "    .dataframe thead th {\n",
              "        text-align: right;\n",
              "    }\n",
              "</style>\n",
              "<table border=\"1\" class=\"dataframe\">\n",
              "  <thead>\n",
              "    <tr style=\"text-align: right;\">\n",
              "      <th></th>\n",
              "      <th>business_code</th>\n",
              "      <th>cust_number</th>\n",
              "      <th>name_customer</th>\n",
              "      <th>clear_date</th>\n",
              "      <th>buisness_year</th>\n",
              "      <th>doc_id</th>\n",
              "      <th>posting_date</th>\n",
              "      <th>document_create_date</th>\n",
              "      <th>document_create_date.1</th>\n",
              "      <th>due_in_date</th>\n",
              "      <th>invoice_currency</th>\n",
              "      <th>document type</th>\n",
              "      <th>posting_id</th>\n",
              "      <th>area_business</th>\n",
              "      <th>total_open_amount</th>\n",
              "      <th>baseline_create_date</th>\n",
              "      <th>cust_payment_terms</th>\n",
              "      <th>invoice_id</th>\n",
              "      <th>isOpen</th>\n",
              "    </tr>\n",
              "  </thead>\n",
              "  <tbody>\n",
              "    <tr>\n",
              "      <th>0</th>\n",
              "      <td>U001</td>\n",
              "      <td>0200769623</td>\n",
              "      <td>WAL-MAR corp</td>\n",
              "      <td>2020-02-11 00:00:00</td>\n",
              "      <td>2020.0</td>\n",
              "      <td>1.930438e+09</td>\n",
              "      <td>2020-01-26</td>\n",
              "      <td>20200125</td>\n",
              "      <td>20200126</td>\n",
              "      <td>20200210.0</td>\n",
              "      <td>USD</td>\n",
              "      <td>RV</td>\n",
              "      <td>1.0</td>\n",
              "      <td>NaN</td>\n",
              "      <td>54273.28</td>\n",
              "      <td>20200126.0</td>\n",
              "      <td>NAH4</td>\n",
              "      <td>1.930438e+09</td>\n",
              "      <td>0</td>\n",
              "    </tr>\n",
              "    <tr>\n",
              "      <th>1</th>\n",
              "      <td>U001</td>\n",
              "      <td>0200980828</td>\n",
              "      <td>BEN E</td>\n",
              "      <td>2019-08-08 00:00:00</td>\n",
              "      <td>2019.0</td>\n",
              "      <td>1.929646e+09</td>\n",
              "      <td>2019-07-22</td>\n",
              "      <td>20190722</td>\n",
              "      <td>20190722</td>\n",
              "      <td>20190811.0</td>\n",
              "      <td>USD</td>\n",
              "      <td>RV</td>\n",
              "      <td>1.0</td>\n",
              "      <td>NaN</td>\n",
              "      <td>79656.60</td>\n",
              "      <td>20190722.0</td>\n",
              "      <td>NAD1</td>\n",
              "      <td>1.929646e+09</td>\n",
              "      <td>0</td>\n",
              "    </tr>\n",
              "    <tr>\n",
              "      <th>2</th>\n",
              "      <td>U001</td>\n",
              "      <td>0200792734</td>\n",
              "      <td>MDV/ trust</td>\n",
              "      <td>2019-12-30 00:00:00</td>\n",
              "      <td>2019.0</td>\n",
              "      <td>1.929874e+09</td>\n",
              "      <td>2019-09-14</td>\n",
              "      <td>20190914</td>\n",
              "      <td>20190914</td>\n",
              "      <td>20190929.0</td>\n",
              "      <td>USD</td>\n",
              "      <td>RV</td>\n",
              "      <td>1.0</td>\n",
              "      <td>NaN</td>\n",
              "      <td>2253.86</td>\n",
              "      <td>20190914.0</td>\n",
              "      <td>NAA8</td>\n",
              "      <td>1.929874e+09</td>\n",
              "      <td>0</td>\n",
              "    </tr>\n",
              "    <tr>\n",
              "      <th>3</th>\n",
              "      <td>CA02</td>\n",
              "      <td>0140105686</td>\n",
              "      <td>SYSC llc</td>\n",
              "      <td>NaN</td>\n",
              "      <td>2020.0</td>\n",
              "      <td>2.960623e+09</td>\n",
              "      <td>2020-03-30</td>\n",
              "      <td>20200330</td>\n",
              "      <td>20200330</td>\n",
              "      <td>20200410.0</td>\n",
              "      <td>CAD</td>\n",
              "      <td>RV</td>\n",
              "      <td>1.0</td>\n",
              "      <td>NaN</td>\n",
              "      <td>3299.70</td>\n",
              "      <td>20200331.0</td>\n",
              "      <td>CA10</td>\n",
              "      <td>2.960623e+09</td>\n",
              "      <td>1</td>\n",
              "    </tr>\n",
              "    <tr>\n",
              "      <th>4</th>\n",
              "      <td>U001</td>\n",
              "      <td>0200769623</td>\n",
              "      <td>WAL-MAR foundation</td>\n",
              "      <td>2019-11-25 00:00:00</td>\n",
              "      <td>2019.0</td>\n",
              "      <td>1.930148e+09</td>\n",
              "      <td>2019-11-13</td>\n",
              "      <td>20191113</td>\n",
              "      <td>20191113</td>\n",
              "      <td>20191128.0</td>\n",
              "      <td>USD</td>\n",
              "      <td>RV</td>\n",
              "      <td>1.0</td>\n",
              "      <td>NaN</td>\n",
              "      <td>33133.29</td>\n",
              "      <td>20191113.0</td>\n",
              "      <td>NAH4</td>\n",
              "      <td>1.930148e+09</td>\n",
              "      <td>0</td>\n",
              "    </tr>\n",
              "  </tbody>\n",
              "</table>\n",
              "</div>\n",
              "      <button class=\"colab-df-convert\" onclick=\"convertToInteractive('df-6eca3f02-db53-4a06-a6a8-173f202c8f27')\"\n",
              "              title=\"Convert this dataframe to an interactive table.\"\n",
              "              style=\"display:none;\">\n",
              "        \n",
              "  <svg xmlns=\"http://www.w3.org/2000/svg\" height=\"24px\"viewBox=\"0 0 24 24\"\n",
              "       width=\"24px\">\n",
              "    <path d=\"M0 0h24v24H0V0z\" fill=\"none\"/>\n",
              "    <path d=\"M18.56 5.44l.94 2.06.94-2.06 2.06-.94-2.06-.94-.94-2.06-.94 2.06-2.06.94zm-11 1L8.5 8.5l.94-2.06 2.06-.94-2.06-.94L8.5 2.5l-.94 2.06-2.06.94zm10 10l.94 2.06.94-2.06 2.06-.94-2.06-.94-.94-2.06-.94 2.06-2.06.94z\"/><path d=\"M17.41 7.96l-1.37-1.37c-.4-.4-.92-.59-1.43-.59-.52 0-1.04.2-1.43.59L10.3 9.45l-7.72 7.72c-.78.78-.78 2.05 0 2.83L4 21.41c.39.39.9.59 1.41.59.51 0 1.02-.2 1.41-.59l7.78-7.78 2.81-2.81c.8-.78.8-2.07 0-2.86zM5.41 20L4 18.59l7.72-7.72 1.47 1.35L5.41 20z\"/>\n",
              "  </svg>\n",
              "      </button>\n",
              "      \n",
              "  <style>\n",
              "    .colab-df-container {\n",
              "      display:flex;\n",
              "      flex-wrap:wrap;\n",
              "      gap: 12px;\n",
              "    }\n",
              "\n",
              "    .colab-df-convert {\n",
              "      background-color: #E8F0FE;\n",
              "      border: none;\n",
              "      border-radius: 50%;\n",
              "      cursor: pointer;\n",
              "      display: none;\n",
              "      fill: #1967D2;\n",
              "      height: 32px;\n",
              "      padding: 0 0 0 0;\n",
              "      width: 32px;\n",
              "    }\n",
              "\n",
              "    .colab-df-convert:hover {\n",
              "      background-color: #E2EBFA;\n",
              "      box-shadow: 0px 1px 2px rgba(60, 64, 67, 0.3), 0px 1px 3px 1px rgba(60, 64, 67, 0.15);\n",
              "      fill: #174EA6;\n",
              "    }\n",
              "\n",
              "    [theme=dark] .colab-df-convert {\n",
              "      background-color: #3B4455;\n",
              "      fill: #D2E3FC;\n",
              "    }\n",
              "\n",
              "    [theme=dark] .colab-df-convert:hover {\n",
              "      background-color: #434B5C;\n",
              "      box-shadow: 0px 1px 3px 1px rgba(0, 0, 0, 0.15);\n",
              "      filter: drop-shadow(0px 1px 2px rgba(0, 0, 0, 0.3));\n",
              "      fill: #FFFFFF;\n",
              "    }\n",
              "  </style>\n",
              "\n",
              "      <script>\n",
              "        const buttonEl =\n",
              "          document.querySelector('#df-6eca3f02-db53-4a06-a6a8-173f202c8f27 button.colab-df-convert');\n",
              "        buttonEl.style.display =\n",
              "          google.colab.kernel.accessAllowed ? 'block' : 'none';\n",
              "\n",
              "        async function convertToInteractive(key) {\n",
              "          const element = document.querySelector('#df-6eca3f02-db53-4a06-a6a8-173f202c8f27');\n",
              "          const dataTable =\n",
              "            await google.colab.kernel.invokeFunction('convertToInteractive',\n",
              "                                                     [key], {});\n",
              "          if (!dataTable) return;\n",
              "\n",
              "          const docLinkHtml = 'Like what you see? Visit the ' +\n",
              "            '<a target=\"_blank\" href=https://colab.research.google.com/notebooks/data_table.ipynb>data table notebook</a>'\n",
              "            + ' to learn more about interactive tables.';\n",
              "          element.innerHTML = '';\n",
              "          dataTable['output_type'] = 'display_data';\n",
              "          await google.colab.output.renderOutput(dataTable, element);\n",
              "          const docLink = document.createElement('div');\n",
              "          docLink.innerHTML = docLinkHtml;\n",
              "          element.appendChild(docLink);\n",
              "        }\n",
              "      </script>\n",
              "    </div>\n",
              "  </div>\n",
              "  "
            ]
          },
          "metadata": {},
          "execution_count": 165
        }
      ],
      "source": [
        "df.head()"
      ]
    },
    {
      "cell_type": "markdown",
      "id": "92b044e4",
      "metadata": {
        "id": "92b044e4"
      },
      "source": [
        "### Display the Null values percentage against every columns (compare to the total number of records)\n",
        "\n",
        "- Output expected : area_business - 100% null, clear_data = 20% null, invoice_id = 0.12% null"
      ]
    },
    {
      "cell_type": "code",
      "execution_count": null,
      "id": "24c7b13d",
      "metadata": {
        "id": "24c7b13d",
        "colab": {
          "base_uri": "https://localhost:8080/"
        },
        "outputId": "2c3917b3-aa3a-4da1-c561-c22822fb0ca1"
      },
      "outputs": [
        {
          "output_type": "execute_result",
          "data": {
            "text/plain": [
              "business_code               0.000\n",
              "cust_number                 0.000\n",
              "name_customer               0.000\n",
              "clear_date                 20.000\n",
              "buisness_year               0.000\n",
              "doc_id                      0.000\n",
              "posting_date                0.000\n",
              "document_create_date        0.000\n",
              "document_create_date.1      0.000\n",
              "due_in_date                 0.000\n",
              "invoice_currency            0.000\n",
              "document type               0.000\n",
              "posting_id                  0.000\n",
              "area_business             100.000\n",
              "total_open_amount           0.000\n",
              "baseline_create_date        0.000\n",
              "cust_payment_terms          0.000\n",
              "invoice_id                  0.012\n",
              "isOpen                      0.000\n",
              "dtype: float64"
            ]
          },
          "metadata": {},
          "execution_count": 166
        }
      ],
      "source": [
        "null=(df.isna().mean().round(5) * 100)\n",
        "null"
      ]
    },
    {
      "cell_type": "markdown",
      "id": "2c46a98b",
      "metadata": {
        "id": "2c46a98b"
      },
      "source": [
        "### Display Invoice_id and Doc_Id\n",
        "\n",
        "- Note - Many of the would have same invoice_id and doc_id\n"
      ]
    },
    {
      "cell_type": "code",
      "execution_count": null,
      "id": "038f24bb",
      "metadata": {
        "id": "038f24bb",
        "colab": {
          "base_uri": "https://localhost:8080/",
          "height": 424
        },
        "outputId": "873cf83f-ee28-47c1-ad88-71bd3ffecb05"
      },
      "outputs": [
        {
          "output_type": "execute_result",
          "data": {
            "text/plain": [
              "         invoice_id        doc_id\n",
              "0      1.930438e+09  1.930438e+09\n",
              "1      1.929646e+09  1.929646e+09\n",
              "2      1.929874e+09  1.929874e+09\n",
              "3      2.960623e+09  2.960623e+09\n",
              "4      1.930148e+09  1.930148e+09\n",
              "...             ...           ...\n",
              "49995  1.930797e+09  1.930797e+09\n",
              "49996  1.929744e+09  1.929744e+09\n",
              "49997  1.930537e+09  1.930537e+09\n",
              "49998  1.930199e+09  1.930199e+09\n",
              "49999  1.928576e+09  1.928576e+09\n",
              "\n",
              "[50000 rows x 2 columns]"
            ],
            "text/html": [
              "\n",
              "  <div id=\"df-087a1dcf-d915-49b3-abef-509fcb20d8a0\">\n",
              "    <div class=\"colab-df-container\">\n",
              "      <div>\n",
              "<style scoped>\n",
              "    .dataframe tbody tr th:only-of-type {\n",
              "        vertical-align: middle;\n",
              "    }\n",
              "\n",
              "    .dataframe tbody tr th {\n",
              "        vertical-align: top;\n",
              "    }\n",
              "\n",
              "    .dataframe thead th {\n",
              "        text-align: right;\n",
              "    }\n",
              "</style>\n",
              "<table border=\"1\" class=\"dataframe\">\n",
              "  <thead>\n",
              "    <tr style=\"text-align: right;\">\n",
              "      <th></th>\n",
              "      <th>invoice_id</th>\n",
              "      <th>doc_id</th>\n",
              "    </tr>\n",
              "  </thead>\n",
              "  <tbody>\n",
              "    <tr>\n",
              "      <th>0</th>\n",
              "      <td>1.930438e+09</td>\n",
              "      <td>1.930438e+09</td>\n",
              "    </tr>\n",
              "    <tr>\n",
              "      <th>1</th>\n",
              "      <td>1.929646e+09</td>\n",
              "      <td>1.929646e+09</td>\n",
              "    </tr>\n",
              "    <tr>\n",
              "      <th>2</th>\n",
              "      <td>1.929874e+09</td>\n",
              "      <td>1.929874e+09</td>\n",
              "    </tr>\n",
              "    <tr>\n",
              "      <th>3</th>\n",
              "      <td>2.960623e+09</td>\n",
              "      <td>2.960623e+09</td>\n",
              "    </tr>\n",
              "    <tr>\n",
              "      <th>4</th>\n",
              "      <td>1.930148e+09</td>\n",
              "      <td>1.930148e+09</td>\n",
              "    </tr>\n",
              "    <tr>\n",
              "      <th>...</th>\n",
              "      <td>...</td>\n",
              "      <td>...</td>\n",
              "    </tr>\n",
              "    <tr>\n",
              "      <th>49995</th>\n",
              "      <td>1.930797e+09</td>\n",
              "      <td>1.930797e+09</td>\n",
              "    </tr>\n",
              "    <tr>\n",
              "      <th>49996</th>\n",
              "      <td>1.929744e+09</td>\n",
              "      <td>1.929744e+09</td>\n",
              "    </tr>\n",
              "    <tr>\n",
              "      <th>49997</th>\n",
              "      <td>1.930537e+09</td>\n",
              "      <td>1.930537e+09</td>\n",
              "    </tr>\n",
              "    <tr>\n",
              "      <th>49998</th>\n",
              "      <td>1.930199e+09</td>\n",
              "      <td>1.930199e+09</td>\n",
              "    </tr>\n",
              "    <tr>\n",
              "      <th>49999</th>\n",
              "      <td>1.928576e+09</td>\n",
              "      <td>1.928576e+09</td>\n",
              "    </tr>\n",
              "  </tbody>\n",
              "</table>\n",
              "<p>50000 rows × 2 columns</p>\n",
              "</div>\n",
              "      <button class=\"colab-df-convert\" onclick=\"convertToInteractive('df-087a1dcf-d915-49b3-abef-509fcb20d8a0')\"\n",
              "              title=\"Convert this dataframe to an interactive table.\"\n",
              "              style=\"display:none;\">\n",
              "        \n",
              "  <svg xmlns=\"http://www.w3.org/2000/svg\" height=\"24px\"viewBox=\"0 0 24 24\"\n",
              "       width=\"24px\">\n",
              "    <path d=\"M0 0h24v24H0V0z\" fill=\"none\"/>\n",
              "    <path d=\"M18.56 5.44l.94 2.06.94-2.06 2.06-.94-2.06-.94-.94-2.06-.94 2.06-2.06.94zm-11 1L8.5 8.5l.94-2.06 2.06-.94-2.06-.94L8.5 2.5l-.94 2.06-2.06.94zm10 10l.94 2.06.94-2.06 2.06-.94-2.06-.94-.94-2.06-.94 2.06-2.06.94z\"/><path d=\"M17.41 7.96l-1.37-1.37c-.4-.4-.92-.59-1.43-.59-.52 0-1.04.2-1.43.59L10.3 9.45l-7.72 7.72c-.78.78-.78 2.05 0 2.83L4 21.41c.39.39.9.59 1.41.59.51 0 1.02-.2 1.41-.59l7.78-7.78 2.81-2.81c.8-.78.8-2.07 0-2.86zM5.41 20L4 18.59l7.72-7.72 1.47 1.35L5.41 20z\"/>\n",
              "  </svg>\n",
              "      </button>\n",
              "      \n",
              "  <style>\n",
              "    .colab-df-container {\n",
              "      display:flex;\n",
              "      flex-wrap:wrap;\n",
              "      gap: 12px;\n",
              "    }\n",
              "\n",
              "    .colab-df-convert {\n",
              "      background-color: #E8F0FE;\n",
              "      border: none;\n",
              "      border-radius: 50%;\n",
              "      cursor: pointer;\n",
              "      display: none;\n",
              "      fill: #1967D2;\n",
              "      height: 32px;\n",
              "      padding: 0 0 0 0;\n",
              "      width: 32px;\n",
              "    }\n",
              "\n",
              "    .colab-df-convert:hover {\n",
              "      background-color: #E2EBFA;\n",
              "      box-shadow: 0px 1px 2px rgba(60, 64, 67, 0.3), 0px 1px 3px 1px rgba(60, 64, 67, 0.15);\n",
              "      fill: #174EA6;\n",
              "    }\n",
              "\n",
              "    [theme=dark] .colab-df-convert {\n",
              "      background-color: #3B4455;\n",
              "      fill: #D2E3FC;\n",
              "    }\n",
              "\n",
              "    [theme=dark] .colab-df-convert:hover {\n",
              "      background-color: #434B5C;\n",
              "      box-shadow: 0px 1px 3px 1px rgba(0, 0, 0, 0.15);\n",
              "      filter: drop-shadow(0px 1px 2px rgba(0, 0, 0, 0.3));\n",
              "      fill: #FFFFFF;\n",
              "    }\n",
              "  </style>\n",
              "\n",
              "      <script>\n",
              "        const buttonEl =\n",
              "          document.querySelector('#df-087a1dcf-d915-49b3-abef-509fcb20d8a0 button.colab-df-convert');\n",
              "        buttonEl.style.display =\n",
              "          google.colab.kernel.accessAllowed ? 'block' : 'none';\n",
              "\n",
              "        async function convertToInteractive(key) {\n",
              "          const element = document.querySelector('#df-087a1dcf-d915-49b3-abef-509fcb20d8a0');\n",
              "          const dataTable =\n",
              "            await google.colab.kernel.invokeFunction('convertToInteractive',\n",
              "                                                     [key], {});\n",
              "          if (!dataTable) return;\n",
              "\n",
              "          const docLinkHtml = 'Like what you see? Visit the ' +\n",
              "            '<a target=\"_blank\" href=https://colab.research.google.com/notebooks/data_table.ipynb>data table notebook</a>'\n",
              "            + ' to learn more about interactive tables.';\n",
              "          element.innerHTML = '';\n",
              "          dataTable['output_type'] = 'display_data';\n",
              "          await google.colab.output.renderOutput(dataTable, element);\n",
              "          const docLink = document.createElement('div');\n",
              "          docLink.innerHTML = docLinkHtml;\n",
              "          element.appendChild(docLink);\n",
              "        }\n",
              "      </script>\n",
              "    </div>\n",
              "  </div>\n",
              "  "
            ]
          },
          "metadata": {},
          "execution_count": 167
        }
      ],
      "source": [
        "df[['invoice_id','doc_id']]"
      ]
    },
    {
      "cell_type": "markdown",
      "id": "18cfe10a",
      "metadata": {
        "id": "18cfe10a"
      },
      "source": [
        "#### Write a code to check - 'baseline_create_date',\"document_create_date\",'document_create_date.1' - these columns are almost same.\n",
        "\n",
        "- Please note, if they are same, we need to drop them later\n",
        "\n"
      ]
    },
    {
      "cell_type": "code",
      "execution_count": null,
      "id": "cf5b40ff",
      "metadata": {
        "id": "cf5b40ff",
        "colab": {
          "base_uri": "https://localhost:8080/",
          "height": 424
        },
        "outputId": "176f3c91-d8b9-404d-eecb-2e95a607080b"
      },
      "outputs": [
        {
          "output_type": "execute_result",
          "data": {
            "text/plain": [
              "       baseline_create_date  document_create_date  document_create_date.1\n",
              "0                20200126.0              20200125                20200126\n",
              "1                20190722.0              20190722                20190722\n",
              "2                20190914.0              20190914                20190914\n",
              "3                20200331.0              20200330                20200330\n",
              "4                20191113.0              20191113                20191113\n",
              "...                     ...                   ...                     ...\n",
              "49995            20200421.0              20200417                20200421\n",
              "49996            20190815.0              20190814                20190815\n",
              "49997            20200219.0              20200218                20200219\n",
              "49998            20191127.0              20191126                20191127\n",
              "49999            20190101.0              20190105                20190105\n",
              "\n",
              "[50000 rows x 3 columns]"
            ],
            "text/html": [
              "\n",
              "  <div id=\"df-9f2a49b9-6451-4b10-8180-92c0242822be\">\n",
              "    <div class=\"colab-df-container\">\n",
              "      <div>\n",
              "<style scoped>\n",
              "    .dataframe tbody tr th:only-of-type {\n",
              "        vertical-align: middle;\n",
              "    }\n",
              "\n",
              "    .dataframe tbody tr th {\n",
              "        vertical-align: top;\n",
              "    }\n",
              "\n",
              "    .dataframe thead th {\n",
              "        text-align: right;\n",
              "    }\n",
              "</style>\n",
              "<table border=\"1\" class=\"dataframe\">\n",
              "  <thead>\n",
              "    <tr style=\"text-align: right;\">\n",
              "      <th></th>\n",
              "      <th>baseline_create_date</th>\n",
              "      <th>document_create_date</th>\n",
              "      <th>document_create_date.1</th>\n",
              "    </tr>\n",
              "  </thead>\n",
              "  <tbody>\n",
              "    <tr>\n",
              "      <th>0</th>\n",
              "      <td>20200126.0</td>\n",
              "      <td>20200125</td>\n",
              "      <td>20200126</td>\n",
              "    </tr>\n",
              "    <tr>\n",
              "      <th>1</th>\n",
              "      <td>20190722.0</td>\n",
              "      <td>20190722</td>\n",
              "      <td>20190722</td>\n",
              "    </tr>\n",
              "    <tr>\n",
              "      <th>2</th>\n",
              "      <td>20190914.0</td>\n",
              "      <td>20190914</td>\n",
              "      <td>20190914</td>\n",
              "    </tr>\n",
              "    <tr>\n",
              "      <th>3</th>\n",
              "      <td>20200331.0</td>\n",
              "      <td>20200330</td>\n",
              "      <td>20200330</td>\n",
              "    </tr>\n",
              "    <tr>\n",
              "      <th>4</th>\n",
              "      <td>20191113.0</td>\n",
              "      <td>20191113</td>\n",
              "      <td>20191113</td>\n",
              "    </tr>\n",
              "    <tr>\n",
              "      <th>...</th>\n",
              "      <td>...</td>\n",
              "      <td>...</td>\n",
              "      <td>...</td>\n",
              "    </tr>\n",
              "    <tr>\n",
              "      <th>49995</th>\n",
              "      <td>20200421.0</td>\n",
              "      <td>20200417</td>\n",
              "      <td>20200421</td>\n",
              "    </tr>\n",
              "    <tr>\n",
              "      <th>49996</th>\n",
              "      <td>20190815.0</td>\n",
              "      <td>20190814</td>\n",
              "      <td>20190815</td>\n",
              "    </tr>\n",
              "    <tr>\n",
              "      <th>49997</th>\n",
              "      <td>20200219.0</td>\n",
              "      <td>20200218</td>\n",
              "      <td>20200219</td>\n",
              "    </tr>\n",
              "    <tr>\n",
              "      <th>49998</th>\n",
              "      <td>20191127.0</td>\n",
              "      <td>20191126</td>\n",
              "      <td>20191127</td>\n",
              "    </tr>\n",
              "    <tr>\n",
              "      <th>49999</th>\n",
              "      <td>20190101.0</td>\n",
              "      <td>20190105</td>\n",
              "      <td>20190105</td>\n",
              "    </tr>\n",
              "  </tbody>\n",
              "</table>\n",
              "<p>50000 rows × 3 columns</p>\n",
              "</div>\n",
              "      <button class=\"colab-df-convert\" onclick=\"convertToInteractive('df-9f2a49b9-6451-4b10-8180-92c0242822be')\"\n",
              "              title=\"Convert this dataframe to an interactive table.\"\n",
              "              style=\"display:none;\">\n",
              "        \n",
              "  <svg xmlns=\"http://www.w3.org/2000/svg\" height=\"24px\"viewBox=\"0 0 24 24\"\n",
              "       width=\"24px\">\n",
              "    <path d=\"M0 0h24v24H0V0z\" fill=\"none\"/>\n",
              "    <path d=\"M18.56 5.44l.94 2.06.94-2.06 2.06-.94-2.06-.94-.94-2.06-.94 2.06-2.06.94zm-11 1L8.5 8.5l.94-2.06 2.06-.94-2.06-.94L8.5 2.5l-.94 2.06-2.06.94zm10 10l.94 2.06.94-2.06 2.06-.94-2.06-.94-.94-2.06-.94 2.06-2.06.94z\"/><path d=\"M17.41 7.96l-1.37-1.37c-.4-.4-.92-.59-1.43-.59-.52 0-1.04.2-1.43.59L10.3 9.45l-7.72 7.72c-.78.78-.78 2.05 0 2.83L4 21.41c.39.39.9.59 1.41.59.51 0 1.02-.2 1.41-.59l7.78-7.78 2.81-2.81c.8-.78.8-2.07 0-2.86zM5.41 20L4 18.59l7.72-7.72 1.47 1.35L5.41 20z\"/>\n",
              "  </svg>\n",
              "      </button>\n",
              "      \n",
              "  <style>\n",
              "    .colab-df-container {\n",
              "      display:flex;\n",
              "      flex-wrap:wrap;\n",
              "      gap: 12px;\n",
              "    }\n",
              "\n",
              "    .colab-df-convert {\n",
              "      background-color: #E8F0FE;\n",
              "      border: none;\n",
              "      border-radius: 50%;\n",
              "      cursor: pointer;\n",
              "      display: none;\n",
              "      fill: #1967D2;\n",
              "      height: 32px;\n",
              "      padding: 0 0 0 0;\n",
              "      width: 32px;\n",
              "    }\n",
              "\n",
              "    .colab-df-convert:hover {\n",
              "      background-color: #E2EBFA;\n",
              "      box-shadow: 0px 1px 2px rgba(60, 64, 67, 0.3), 0px 1px 3px 1px rgba(60, 64, 67, 0.15);\n",
              "      fill: #174EA6;\n",
              "    }\n",
              "\n",
              "    [theme=dark] .colab-df-convert {\n",
              "      background-color: #3B4455;\n",
              "      fill: #D2E3FC;\n",
              "    }\n",
              "\n",
              "    [theme=dark] .colab-df-convert:hover {\n",
              "      background-color: #434B5C;\n",
              "      box-shadow: 0px 1px 3px 1px rgba(0, 0, 0, 0.15);\n",
              "      filter: drop-shadow(0px 1px 2px rgba(0, 0, 0, 0.3));\n",
              "      fill: #FFFFFF;\n",
              "    }\n",
              "  </style>\n",
              "\n",
              "      <script>\n",
              "        const buttonEl =\n",
              "          document.querySelector('#df-9f2a49b9-6451-4b10-8180-92c0242822be button.colab-df-convert');\n",
              "        buttonEl.style.display =\n",
              "          google.colab.kernel.accessAllowed ? 'block' : 'none';\n",
              "\n",
              "        async function convertToInteractive(key) {\n",
              "          const element = document.querySelector('#df-9f2a49b9-6451-4b10-8180-92c0242822be');\n",
              "          const dataTable =\n",
              "            await google.colab.kernel.invokeFunction('convertToInteractive',\n",
              "                                                     [key], {});\n",
              "          if (!dataTable) return;\n",
              "\n",
              "          const docLinkHtml = 'Like what you see? Visit the ' +\n",
              "            '<a target=\"_blank\" href=https://colab.research.google.com/notebooks/data_table.ipynb>data table notebook</a>'\n",
              "            + ' to learn more about interactive tables.';\n",
              "          element.innerHTML = '';\n",
              "          dataTable['output_type'] = 'display_data';\n",
              "          await google.colab.output.renderOutput(dataTable, element);\n",
              "          const docLink = document.createElement('div');\n",
              "          docLink.innerHTML = docLinkHtml;\n",
              "          element.appendChild(docLink);\n",
              "        }\n",
              "      </script>\n",
              "    </div>\n",
              "  </div>\n",
              "  "
            ]
          },
          "metadata": {},
          "execution_count": 168
        }
      ],
      "source": [
        "df[[\"baseline_create_date\",\"document_create_date\",\"document_create_date.1\"]]"
      ]
    },
    {
      "cell_type": "markdown",
      "id": "33110576",
      "metadata": {
        "id": "33110576"
      },
      "source": [
        "#### Please check, Column 'posting_id' is constant columns or not\n"
      ]
    },
    {
      "cell_type": "code",
      "execution_count": null,
      "id": "ecce2664",
      "metadata": {
        "id": "ecce2664",
        "colab": {
          "base_uri": "https://localhost:8080/"
        },
        "outputId": "44556537-5f70-4a55-d711-08f5e22c2daf"
      },
      "outputs": [
        {
          "output_type": "execute_result",
          "data": {
            "text/plain": [
              "1"
            ]
          },
          "metadata": {},
          "execution_count": 169
        }
      ],
      "source": [
        "df['posting_id'].nunique()"
      ]
    },
    {
      "cell_type": "markdown",
      "id": "e5fb8daf",
      "metadata": {
        "id": "e5fb8daf"
      },
      "source": [
        "#### Please check 'isOpen' is a constant column and relevant column for this project or not"
      ]
    },
    {
      "cell_type": "code",
      "execution_count": null,
      "id": "8db9956b",
      "metadata": {
        "id": "8db9956b",
        "colab": {
          "base_uri": "https://localhost:8080/"
        },
        "outputId": "a1005ec6-8c75-4488-8b76-fa7ca9d00a03"
      },
      "outputs": [
        {
          "output_type": "execute_result",
          "data": {
            "text/plain": [
              "2"
            ]
          },
          "metadata": {},
          "execution_count": 170
        }
      ],
      "source": [
        "df['isOpen'].nunique()"
      ]
    },
    {
      "cell_type": "markdown",
      "id": "45a11a62",
      "metadata": {
        "id": "45a11a62"
      },
      "source": [
        "### Write the code to drop all the following columns from the dataframe\n",
        "\n",
        "- 'area_business'\n",
        "- \"posting_id\"\n",
        "- \"invoice_id\"\n",
        "- \"document_create_date\"\n",
        "- \"isOpen\"\n",
        "- 'document type' \n",
        "- 'document_create_date.1"
      ]
    },
    {
      "cell_type": "code",
      "execution_count": null,
      "id": "270d85d1",
      "metadata": {
        "id": "270d85d1"
      },
      "outputs": [],
      "source": [
        "df.drop(df[['area_business',\"posting_id\",\"invoice_id\",\"document_create_date\",\"isOpen\",'document type','document_create_date.1']], axis = 1, inplace = True)"
      ]
    },
    {
      "cell_type": "markdown",
      "source": [
        "### Please check from the dataframe whether all the columns are removed or not "
      ],
      "metadata": {
        "id": "K5LHAM2XVGnk"
      },
      "id": "K5LHAM2XVGnk"
    },
    {
      "cell_type": "code",
      "execution_count": null,
      "id": "ef3f7d2b",
      "metadata": {
        "id": "ef3f7d2b",
        "colab": {
          "base_uri": "https://localhost:8080/"
        },
        "outputId": "dcdb6420-213d-440f-f745-745d68f96023"
      },
      "outputs": [
        {
          "output_type": "execute_result",
          "data": {
            "text/plain": [
              "(50000, 12)"
            ]
          },
          "metadata": {},
          "execution_count": 172
        }
      ],
      "source": [
        "df.shape"
      ]
    },
    {
      "cell_type": "markdown",
      "id": "6bc052c7",
      "metadata": {
        "id": "6bc052c7"
      },
      "source": [
        "### Show all the Duplicate rows from the dataframe"
      ]
    },
    {
      "cell_type": "code",
      "execution_count": null,
      "id": "1ae3c7e4",
      "metadata": {
        "id": "1ae3c7e4",
        "colab": {
          "base_uri": "https://localhost:8080/",
          "height": 644
        },
        "outputId": "ee11dc3a-c957-44ea-eb7f-261d2daec528"
      },
      "outputs": [
        {
          "output_type": "execute_result",
          "data": {
            "text/plain": [
              "      business_code cust_number        name_customer           clear_date  \\\n",
              "1041           U001  0200769623           WAL-MAR in  2019-03-12 00:00:00   \n",
              "2400           U001  0200769623        WAL-MAR trust  2019-08-28 00:00:00   \n",
              "2584           U001  0200769623  WAL-MAR corporation  2019-12-16 00:00:00   \n",
              "3755           U001  0200769623             WAL-MAR   2019-11-22 00:00:00   \n",
              "3873           CA02  0140104409       LOB associates                  NaN   \n",
              "...             ...         ...                  ...                  ...   \n",
              "49928          U001  0200915438           GROC trust  2019-08-15 00:00:00   \n",
              "49963          U001  0200759878                SA us  2019-01-29 00:00:00   \n",
              "49986          U001  0200772670  ASSOCIAT foundation  2019-06-12 00:00:00   \n",
              "49990          U001  0200765011           MAINES llc  2019-06-06 00:00:00   \n",
              "49991          U001  0200704045             RA trust  2019-10-25 00:00:00   \n",
              "\n",
              "       buisness_year        doc_id posting_date  due_in_date invoice_currency  \\\n",
              "1041          2019.0  1.928870e+09   2019-02-28   20190315.0              USD   \n",
              "2400          2019.0  1.929758e+09   2019-08-18   20190902.0              USD   \n",
              "2584          2019.0  1.930217e+09   2019-12-04   20191219.0              USD   \n",
              "3755          2019.0  1.930137e+09   2019-11-12   20191127.0              USD   \n",
              "3873          2020.0  2.960629e+09   2020-04-14   20200425.0              CAD   \n",
              "...              ...           ...          ...          ...              ...   \n",
              "49928         2019.0  1.929646e+09   2019-07-25   20190809.0              USD   \n",
              "49963         2019.0  1.928614e+09   2019-01-13   20190128.0              USD   \n",
              "49986         2019.0  1.929403e+09   2019-05-29   20190613.0              USD   \n",
              "49990         2019.0  1.929365e+09   2019-05-22   20190606.0              USD   \n",
              "49991         2019.0  1.930001e+09   2019-10-10   20191025.0              USD   \n",
              "\n",
              "       total_open_amount  baseline_create_date cust_payment_terms  \n",
              "1041            19557.41            20190228.0               NAH4  \n",
              "2400             5600.41            20190818.0               NAH4  \n",
              "2584            35352.17            20191204.0               NAH4  \n",
              "3755             2982.64            20191112.0               NAH4  \n",
              "3873            82975.82            20200415.0               CA10  \n",
              "...                  ...                   ...                ...  \n",
              "49928            6969.00            20190725.0               NAA8  \n",
              "49963           10968.24            20190113.0               NAH4  \n",
              "49986          155837.53            20190529.0               NAU5  \n",
              "49990            4008.05            20190522.0               NAA8  \n",
              "49991           73002.24            20191010.0               NAA8  \n",
              "\n",
              "[1161 rows x 12 columns]"
            ],
            "text/html": [
              "\n",
              "  <div id=\"df-1cecfacb-0996-4630-bac3-ca7444f5b739\">\n",
              "    <div class=\"colab-df-container\">\n",
              "      <div>\n",
              "<style scoped>\n",
              "    .dataframe tbody tr th:only-of-type {\n",
              "        vertical-align: middle;\n",
              "    }\n",
              "\n",
              "    .dataframe tbody tr th {\n",
              "        vertical-align: top;\n",
              "    }\n",
              "\n",
              "    .dataframe thead th {\n",
              "        text-align: right;\n",
              "    }\n",
              "</style>\n",
              "<table border=\"1\" class=\"dataframe\">\n",
              "  <thead>\n",
              "    <tr style=\"text-align: right;\">\n",
              "      <th></th>\n",
              "      <th>business_code</th>\n",
              "      <th>cust_number</th>\n",
              "      <th>name_customer</th>\n",
              "      <th>clear_date</th>\n",
              "      <th>buisness_year</th>\n",
              "      <th>doc_id</th>\n",
              "      <th>posting_date</th>\n",
              "      <th>due_in_date</th>\n",
              "      <th>invoice_currency</th>\n",
              "      <th>total_open_amount</th>\n",
              "      <th>baseline_create_date</th>\n",
              "      <th>cust_payment_terms</th>\n",
              "    </tr>\n",
              "  </thead>\n",
              "  <tbody>\n",
              "    <tr>\n",
              "      <th>1041</th>\n",
              "      <td>U001</td>\n",
              "      <td>0200769623</td>\n",
              "      <td>WAL-MAR in</td>\n",
              "      <td>2019-03-12 00:00:00</td>\n",
              "      <td>2019.0</td>\n",
              "      <td>1.928870e+09</td>\n",
              "      <td>2019-02-28</td>\n",
              "      <td>20190315.0</td>\n",
              "      <td>USD</td>\n",
              "      <td>19557.41</td>\n",
              "      <td>20190228.0</td>\n",
              "      <td>NAH4</td>\n",
              "    </tr>\n",
              "    <tr>\n",
              "      <th>2400</th>\n",
              "      <td>U001</td>\n",
              "      <td>0200769623</td>\n",
              "      <td>WAL-MAR trust</td>\n",
              "      <td>2019-08-28 00:00:00</td>\n",
              "      <td>2019.0</td>\n",
              "      <td>1.929758e+09</td>\n",
              "      <td>2019-08-18</td>\n",
              "      <td>20190902.0</td>\n",
              "      <td>USD</td>\n",
              "      <td>5600.41</td>\n",
              "      <td>20190818.0</td>\n",
              "      <td>NAH4</td>\n",
              "    </tr>\n",
              "    <tr>\n",
              "      <th>2584</th>\n",
              "      <td>U001</td>\n",
              "      <td>0200769623</td>\n",
              "      <td>WAL-MAR corporation</td>\n",
              "      <td>2019-12-16 00:00:00</td>\n",
              "      <td>2019.0</td>\n",
              "      <td>1.930217e+09</td>\n",
              "      <td>2019-12-04</td>\n",
              "      <td>20191219.0</td>\n",
              "      <td>USD</td>\n",
              "      <td>35352.17</td>\n",
              "      <td>20191204.0</td>\n",
              "      <td>NAH4</td>\n",
              "    </tr>\n",
              "    <tr>\n",
              "      <th>3755</th>\n",
              "      <td>U001</td>\n",
              "      <td>0200769623</td>\n",
              "      <td>WAL-MAR</td>\n",
              "      <td>2019-11-22 00:00:00</td>\n",
              "      <td>2019.0</td>\n",
              "      <td>1.930137e+09</td>\n",
              "      <td>2019-11-12</td>\n",
              "      <td>20191127.0</td>\n",
              "      <td>USD</td>\n",
              "      <td>2982.64</td>\n",
              "      <td>20191112.0</td>\n",
              "      <td>NAH4</td>\n",
              "    </tr>\n",
              "    <tr>\n",
              "      <th>3873</th>\n",
              "      <td>CA02</td>\n",
              "      <td>0140104409</td>\n",
              "      <td>LOB associates</td>\n",
              "      <td>NaN</td>\n",
              "      <td>2020.0</td>\n",
              "      <td>2.960629e+09</td>\n",
              "      <td>2020-04-14</td>\n",
              "      <td>20200425.0</td>\n",
              "      <td>CAD</td>\n",
              "      <td>82975.82</td>\n",
              "      <td>20200415.0</td>\n",
              "      <td>CA10</td>\n",
              "    </tr>\n",
              "    <tr>\n",
              "      <th>...</th>\n",
              "      <td>...</td>\n",
              "      <td>...</td>\n",
              "      <td>...</td>\n",
              "      <td>...</td>\n",
              "      <td>...</td>\n",
              "      <td>...</td>\n",
              "      <td>...</td>\n",
              "      <td>...</td>\n",
              "      <td>...</td>\n",
              "      <td>...</td>\n",
              "      <td>...</td>\n",
              "      <td>...</td>\n",
              "    </tr>\n",
              "    <tr>\n",
              "      <th>49928</th>\n",
              "      <td>U001</td>\n",
              "      <td>0200915438</td>\n",
              "      <td>GROC trust</td>\n",
              "      <td>2019-08-15 00:00:00</td>\n",
              "      <td>2019.0</td>\n",
              "      <td>1.929646e+09</td>\n",
              "      <td>2019-07-25</td>\n",
              "      <td>20190809.0</td>\n",
              "      <td>USD</td>\n",
              "      <td>6969.00</td>\n",
              "      <td>20190725.0</td>\n",
              "      <td>NAA8</td>\n",
              "    </tr>\n",
              "    <tr>\n",
              "      <th>49963</th>\n",
              "      <td>U001</td>\n",
              "      <td>0200759878</td>\n",
              "      <td>SA us</td>\n",
              "      <td>2019-01-29 00:00:00</td>\n",
              "      <td>2019.0</td>\n",
              "      <td>1.928614e+09</td>\n",
              "      <td>2019-01-13</td>\n",
              "      <td>20190128.0</td>\n",
              "      <td>USD</td>\n",
              "      <td>10968.24</td>\n",
              "      <td>20190113.0</td>\n",
              "      <td>NAH4</td>\n",
              "    </tr>\n",
              "    <tr>\n",
              "      <th>49986</th>\n",
              "      <td>U001</td>\n",
              "      <td>0200772670</td>\n",
              "      <td>ASSOCIAT foundation</td>\n",
              "      <td>2019-06-12 00:00:00</td>\n",
              "      <td>2019.0</td>\n",
              "      <td>1.929403e+09</td>\n",
              "      <td>2019-05-29</td>\n",
              "      <td>20190613.0</td>\n",
              "      <td>USD</td>\n",
              "      <td>155837.53</td>\n",
              "      <td>20190529.0</td>\n",
              "      <td>NAU5</td>\n",
              "    </tr>\n",
              "    <tr>\n",
              "      <th>49990</th>\n",
              "      <td>U001</td>\n",
              "      <td>0200765011</td>\n",
              "      <td>MAINES llc</td>\n",
              "      <td>2019-06-06 00:00:00</td>\n",
              "      <td>2019.0</td>\n",
              "      <td>1.929365e+09</td>\n",
              "      <td>2019-05-22</td>\n",
              "      <td>20190606.0</td>\n",
              "      <td>USD</td>\n",
              "      <td>4008.05</td>\n",
              "      <td>20190522.0</td>\n",
              "      <td>NAA8</td>\n",
              "    </tr>\n",
              "    <tr>\n",
              "      <th>49991</th>\n",
              "      <td>U001</td>\n",
              "      <td>0200704045</td>\n",
              "      <td>RA trust</td>\n",
              "      <td>2019-10-25 00:00:00</td>\n",
              "      <td>2019.0</td>\n",
              "      <td>1.930001e+09</td>\n",
              "      <td>2019-10-10</td>\n",
              "      <td>20191025.0</td>\n",
              "      <td>USD</td>\n",
              "      <td>73002.24</td>\n",
              "      <td>20191010.0</td>\n",
              "      <td>NAA8</td>\n",
              "    </tr>\n",
              "  </tbody>\n",
              "</table>\n",
              "<p>1161 rows × 12 columns</p>\n",
              "</div>\n",
              "      <button class=\"colab-df-convert\" onclick=\"convertToInteractive('df-1cecfacb-0996-4630-bac3-ca7444f5b739')\"\n",
              "              title=\"Convert this dataframe to an interactive table.\"\n",
              "              style=\"display:none;\">\n",
              "        \n",
              "  <svg xmlns=\"http://www.w3.org/2000/svg\" height=\"24px\"viewBox=\"0 0 24 24\"\n",
              "       width=\"24px\">\n",
              "    <path d=\"M0 0h24v24H0V0z\" fill=\"none\"/>\n",
              "    <path d=\"M18.56 5.44l.94 2.06.94-2.06 2.06-.94-2.06-.94-.94-2.06-.94 2.06-2.06.94zm-11 1L8.5 8.5l.94-2.06 2.06-.94-2.06-.94L8.5 2.5l-.94 2.06-2.06.94zm10 10l.94 2.06.94-2.06 2.06-.94-2.06-.94-.94-2.06-.94 2.06-2.06.94z\"/><path d=\"M17.41 7.96l-1.37-1.37c-.4-.4-.92-.59-1.43-.59-.52 0-1.04.2-1.43.59L10.3 9.45l-7.72 7.72c-.78.78-.78 2.05 0 2.83L4 21.41c.39.39.9.59 1.41.59.51 0 1.02-.2 1.41-.59l7.78-7.78 2.81-2.81c.8-.78.8-2.07 0-2.86zM5.41 20L4 18.59l7.72-7.72 1.47 1.35L5.41 20z\"/>\n",
              "  </svg>\n",
              "      </button>\n",
              "      \n",
              "  <style>\n",
              "    .colab-df-container {\n",
              "      display:flex;\n",
              "      flex-wrap:wrap;\n",
              "      gap: 12px;\n",
              "    }\n",
              "\n",
              "    .colab-df-convert {\n",
              "      background-color: #E8F0FE;\n",
              "      border: none;\n",
              "      border-radius: 50%;\n",
              "      cursor: pointer;\n",
              "      display: none;\n",
              "      fill: #1967D2;\n",
              "      height: 32px;\n",
              "      padding: 0 0 0 0;\n",
              "      width: 32px;\n",
              "    }\n",
              "\n",
              "    .colab-df-convert:hover {\n",
              "      background-color: #E2EBFA;\n",
              "      box-shadow: 0px 1px 2px rgba(60, 64, 67, 0.3), 0px 1px 3px 1px rgba(60, 64, 67, 0.15);\n",
              "      fill: #174EA6;\n",
              "    }\n",
              "\n",
              "    [theme=dark] .colab-df-convert {\n",
              "      background-color: #3B4455;\n",
              "      fill: #D2E3FC;\n",
              "    }\n",
              "\n",
              "    [theme=dark] .colab-df-convert:hover {\n",
              "      background-color: #434B5C;\n",
              "      box-shadow: 0px 1px 3px 1px rgba(0, 0, 0, 0.15);\n",
              "      filter: drop-shadow(0px 1px 2px rgba(0, 0, 0, 0.3));\n",
              "      fill: #FFFFFF;\n",
              "    }\n",
              "  </style>\n",
              "\n",
              "      <script>\n",
              "        const buttonEl =\n",
              "          document.querySelector('#df-1cecfacb-0996-4630-bac3-ca7444f5b739 button.colab-df-convert');\n",
              "        buttonEl.style.display =\n",
              "          google.colab.kernel.accessAllowed ? 'block' : 'none';\n",
              "\n",
              "        async function convertToInteractive(key) {\n",
              "          const element = document.querySelector('#df-1cecfacb-0996-4630-bac3-ca7444f5b739');\n",
              "          const dataTable =\n",
              "            await google.colab.kernel.invokeFunction('convertToInteractive',\n",
              "                                                     [key], {});\n",
              "          if (!dataTable) return;\n",
              "\n",
              "          const docLinkHtml = 'Like what you see? Visit the ' +\n",
              "            '<a target=\"_blank\" href=https://colab.research.google.com/notebooks/data_table.ipynb>data table notebook</a>'\n",
              "            + ' to learn more about interactive tables.';\n",
              "          element.innerHTML = '';\n",
              "          dataTable['output_type'] = 'display_data';\n",
              "          await google.colab.output.renderOutput(dataTable, element);\n",
              "          const docLink = document.createElement('div');\n",
              "          docLink.innerHTML = docLinkHtml;\n",
              "          element.appendChild(docLink);\n",
              "        }\n",
              "      </script>\n",
              "    </div>\n",
              "  </div>\n",
              "  "
            ]
          },
          "metadata": {},
          "execution_count": 173
        }
      ],
      "source": [
        "df[df.duplicated()]\n"
      ]
    },
    {
      "cell_type": "markdown",
      "id": "464fab09",
      "metadata": {
        "id": "464fab09"
      },
      "source": [
        "### Display the Number of Duplicate Rows"
      ]
    },
    {
      "cell_type": "code",
      "execution_count": null,
      "id": "b1ea2397",
      "metadata": {
        "id": "b1ea2397",
        "colab": {
          "base_uri": "https://localhost:8080/"
        },
        "outputId": "9b8c5e9b-487e-407f-a1d3-f01ffe77643c"
      },
      "outputs": [
        {
          "output_type": "execute_result",
          "data": {
            "text/plain": [
              "1161"
            ]
          },
          "metadata": {},
          "execution_count": 174
        }
      ],
      "source": [
        "df.duplicated().sum()"
      ]
    },
    {
      "cell_type": "markdown",
      "id": "827a6718",
      "metadata": {
        "id": "827a6718"
      },
      "source": [
        "### Drop all the Duplicate Rows"
      ]
    },
    {
      "cell_type": "code",
      "execution_count": null,
      "id": "5d10151c",
      "metadata": {
        "id": "5d10151c"
      },
      "outputs": [],
      "source": [
        "df.drop_duplicates(inplace=True)"
      ]
    },
    {
      "cell_type": "markdown",
      "id": "7e5d1f9b",
      "metadata": {
        "id": "7e5d1f9b"
      },
      "source": [
        "#### Now check for all duplicate rows now\n",
        "\n",
        "- Note - It must be 0 by now"
      ]
    },
    {
      "cell_type": "code",
      "execution_count": null,
      "id": "9accc9fc",
      "metadata": {
        "id": "9accc9fc",
        "colab": {
          "base_uri": "https://localhost:8080/"
        },
        "outputId": "a4879029-7fc9-4ac1-ba1a-bbaa14313a9d"
      },
      "outputs": [
        {
          "output_type": "execute_result",
          "data": {
            "text/plain": [
              "0"
            ]
          },
          "metadata": {},
          "execution_count": 176
        }
      ],
      "source": [
        "df.duplicated().sum()"
      ]
    },
    {
      "cell_type": "markdown",
      "id": "d0704898",
      "metadata": {
        "id": "d0704898"
      },
      "source": [
        "### Check for the number of Rows and Columns in your dataset"
      ]
    },
    {
      "cell_type": "code",
      "execution_count": null,
      "id": "582748a8",
      "metadata": {
        "id": "582748a8",
        "colab": {
          "base_uri": "https://localhost:8080/"
        },
        "outputId": "928579ce-5df0-4e8a-9e8a-558190cea68e"
      },
      "outputs": [
        {
          "output_type": "execute_result",
          "data": {
            "text/plain": [
              "(48839, 12)"
            ]
          },
          "metadata": {},
          "execution_count": 177
        }
      ],
      "source": [
        "df.shape"
      ]
    },
    {
      "cell_type": "markdown",
      "source": [
        "### Find out the total count of null values in each columns"
      ],
      "metadata": {
        "id": "4o9c5UodWRtl"
      },
      "id": "4o9c5UodWRtl"
    },
    {
      "cell_type": "code",
      "execution_count": null,
      "id": "b0612cb5",
      "metadata": {
        "id": "b0612cb5",
        "colab": {
          "base_uri": "https://localhost:8080/"
        },
        "outputId": "2f4d07c9-7ddb-448d-e9bf-4b4e66395886"
      },
      "outputs": [
        {
          "output_type": "execute_result",
          "data": {
            "text/plain": [
              "business_code              0\n",
              "cust_number                0\n",
              "name_customer              0\n",
              "clear_date              9681\n",
              "buisness_year              0\n",
              "doc_id                     0\n",
              "posting_date               0\n",
              "due_in_date                0\n",
              "invoice_currency           0\n",
              "total_open_amount          0\n",
              "baseline_create_date       0\n",
              "cust_payment_terms         0\n",
              "dtype: int64"
            ]
          },
          "metadata": {},
          "execution_count": 178
        }
      ],
      "source": [
        "df.isnull().sum()"
      ]
    },
    {
      "cell_type": "markdown",
      "id": "7abdb98b",
      "metadata": {
        "id": "7abdb98b"
      },
      "source": [
        "#Data type Conversion "
      ]
    },
    {
      "cell_type": "markdown",
      "source": [
        "### Please check the data type of each column of the dataframe"
      ],
      "metadata": {
        "id": "LPfSUSp-WpPj"
      },
      "id": "LPfSUSp-WpPj"
    },
    {
      "cell_type": "code",
      "execution_count": null,
      "id": "689c8592",
      "metadata": {
        "id": "689c8592",
        "colab": {
          "base_uri": "https://localhost:8080/"
        },
        "outputId": "5f38ef7c-1fe0-4ee1-97f8-3c6f19b82597"
      },
      "outputs": [
        {
          "output_type": "execute_result",
          "data": {
            "text/plain": [
              "business_code            object\n",
              "cust_number              object\n",
              "name_customer            object\n",
              "clear_date               object\n",
              "buisness_year           float64\n",
              "doc_id                  float64\n",
              "posting_date             object\n",
              "due_in_date             float64\n",
              "invoice_currency         object\n",
              "total_open_amount       float64\n",
              "baseline_create_date    float64\n",
              "cust_payment_terms       object\n",
              "dtype: object"
            ]
          },
          "metadata": {},
          "execution_count": 179
        }
      ],
      "source": [
        "df.dtypes"
      ]
    },
    {
      "cell_type": "markdown",
      "source": [
        "### Check the datatype format of below columns\n",
        "\n",
        "- clear_date  \n",
        "- posting_date\n",
        "- due_in_date \n",
        "- baseline_create_date"
      ],
      "metadata": {
        "id": "0nsem0_3XzOt"
      },
      "id": "0nsem0_3XzOt"
    },
    {
      "cell_type": "code",
      "source": [
        "df[['clear_date','posting_date','due_in_date','baseline_create_date']].dtypes"
      ],
      "metadata": {
        "id": "-yyODyW3X6pL",
        "colab": {
          "base_uri": "https://localhost:8080/"
        },
        "outputId": "a81de3a6-5063-480d-ffde-5dd22bb09807"
      },
      "id": "-yyODyW3X6pL",
      "execution_count": null,
      "outputs": [
        {
          "output_type": "execute_result",
          "data": {
            "text/plain": [
              "clear_date               object\n",
              "posting_date             object\n",
              "due_in_date             float64\n",
              "baseline_create_date    float64\n",
              "dtype: object"
            ]
          },
          "metadata": {},
          "execution_count": 180
        }
      ]
    },
    {
      "cell_type": "markdown",
      "id": "11cf9478",
      "metadata": {
        "id": "11cf9478"
      },
      "source": [
        "### converting date columns into date time formats\n",
        "\n",
        "- clear_date  \n",
        "- posting_date\n",
        "- due_in_date \n",
        "- baseline_create_date\n",
        "\n",
        "\n",
        "- **Note - You have to convert all these above columns into \"%Y%m%d\" format**"
      ]
    },
    {
      "cell_type": "code",
      "execution_count": null,
      "id": "9a8c6c71",
      "metadata": {
        "id": "9a8c6c71"
      },
      "outputs": [],
      "source": [
        "df[['due_in_date','baseline_create_date']] = df[['due_in_date','baseline_create_date']].apply(pd.to_datetime, format='%Y%m%d')\n",
        "df[['posting_date','clear_date']] = df[['posting_date','clear_date']].apply(pd.to_datetime,infer_datetime_format=True)"
      ]
    },
    {
      "cell_type": "markdown",
      "source": [
        "### Please check the datatype of all the columns after conversion of the above 4 columns"
      ],
      "metadata": {
        "id": "7adq0wSIYSCS"
      },
      "id": "7adq0wSIYSCS"
    },
    {
      "cell_type": "code",
      "execution_count": null,
      "id": "fd028c61",
      "metadata": {
        "id": "fd028c61",
        "colab": {
          "base_uri": "https://localhost:8080/"
        },
        "outputId": "3a9975ba-e5b6-48f4-e558-612a6a591ece"
      },
      "outputs": [
        {
          "output_type": "execute_result",
          "data": {
            "text/plain": [
              "clear_date              datetime64[ns]\n",
              "posting_date            datetime64[ns]\n",
              "due_in_date             datetime64[ns]\n",
              "baseline_create_date    datetime64[ns]\n",
              "dtype: object"
            ]
          },
          "metadata": {},
          "execution_count": 182
        }
      ],
      "source": [
        "df[['clear_date','posting_date','due_in_date','baseline_create_date']].dtypes"
      ]
    },
    {
      "cell_type": "markdown",
      "id": "8c9882fa",
      "metadata": {
        "id": "8c9882fa"
      },
      "source": [
        "#### the invoice_currency column contains two different categories, USD and CAD\n",
        "\n",
        "- Please do a count of each currency "
      ]
    },
    {
      "cell_type": "code",
      "execution_count": null,
      "id": "72085397",
      "metadata": {
        "id": "72085397",
        "colab": {
          "base_uri": "https://localhost:8080/"
        },
        "outputId": "e58edb3d-bd3f-4fb6-c06c-14f3451bdf1c"
      },
      "outputs": [
        {
          "output_type": "execute_result",
          "data": {
            "text/plain": [
              "USD    45011\n",
              "CAD     3828\n",
              "Name: invoice_currency, dtype: int64"
            ]
          },
          "metadata": {},
          "execution_count": 183
        }
      ],
      "source": [
        "df['invoice_currency'].value_counts()"
      ]
    },
    {
      "cell_type": "markdown",
      "id": "6cbe26ee",
      "metadata": {
        "id": "6cbe26ee"
      },
      "source": [
        "#### display the \"total_open_amount\" column value"
      ]
    },
    {
      "cell_type": "code",
      "execution_count": null,
      "id": "6c49f2ab",
      "metadata": {
        "id": "6c49f2ab",
        "colab": {
          "base_uri": "https://localhost:8080/"
        },
        "outputId": "7e42065e-c953-4e73-ccf3-7da13b28e4b7"
      },
      "outputs": [
        {
          "output_type": "execute_result",
          "data": {
            "text/plain": [
              "0        54273.28\n",
              "1        79656.60\n",
              "2         2253.86\n",
              "3         3299.70\n",
              "4        33133.29\n",
              "           ...   \n",
              "49995     3187.86\n",
              "49996     6766.54\n",
              "49997     6120.86\n",
              "49998       63.48\n",
              "49999     1790.30\n",
              "Name: total_open_amount, Length: 48839, dtype: float64"
            ]
          },
          "metadata": {},
          "execution_count": 184
        }
      ],
      "source": [
        "df[ \"total_open_amount\"]"
      ]
    },
    {
      "cell_type": "markdown",
      "id": "df899966",
      "metadata": {
        "id": "df899966"
      },
      "source": [
        "### Convert all CAD into USD currency of \"total_open_amount\" column\n",
        "\n",
        "- 1 CAD = 0.7 USD\n",
        "- Create a new column i.e \"converted_usd\" and store USD and convered CAD to USD"
      ]
    },
    {
      "cell_type": "code",
      "execution_count": null,
      "id": "8eb2f1c5",
      "metadata": {
        "id": "8eb2f1c5"
      },
      "outputs": [],
      "source": [
        "for column in['invoice_currency','total_open_amount']:\n",
        "    df.loc[df['invoice_currency']=='CAD','converted_usd'] = df['total_open_amount']*0.7 \n",
        "    df.loc[df['invoice_currency']=='USD','converted_usd'] = df['total_open_amount']"
      ]
    },
    {
      "cell_type": "markdown",
      "id": "f9f6ef1d",
      "metadata": {
        "id": "f9f6ef1d"
      },
      "source": [
        "### Display the new \"converted_usd\" column values"
      ]
    },
    {
      "cell_type": "code",
      "execution_count": null,
      "id": "1fc1a178",
      "metadata": {
        "id": "1fc1a178",
        "colab": {
          "base_uri": "https://localhost:8080/"
        },
        "outputId": "8cc286a6-772a-4e4a-8def-2e1de4e51d35"
      },
      "outputs": [
        {
          "output_type": "execute_result",
          "data": {
            "text/plain": [
              "0        54273.28\n",
              "1        79656.60\n",
              "2         2253.86\n",
              "3         2309.79\n",
              "4        33133.29\n",
              "           ...   \n",
              "49995     3187.86\n",
              "49996     6766.54\n",
              "49997     6120.86\n",
              "49998       63.48\n",
              "49999     1790.30\n",
              "Name: converted_usd, Length: 48839, dtype: float64"
            ]
          },
          "metadata": {},
          "execution_count": 186
        }
      ],
      "source": [
        "df['converted_usd']"
      ]
    },
    {
      "cell_type": "markdown",
      "source": [
        "### Display year wise total number of record \n",
        "\n",
        "- Note -  use \"buisness_year\" column for this "
      ],
      "metadata": {
        "id": "6XLXX17kayuy"
      },
      "id": "6XLXX17kayuy"
    },
    {
      "cell_type": "code",
      "execution_count": null,
      "id": "00c9f6ee",
      "metadata": {
        "id": "00c9f6ee",
        "colab": {
          "base_uri": "https://localhost:8080/"
        },
        "outputId": "f4f353f8-30b3-40cc-99ec-164aafe660b4"
      },
      "outputs": [
        {
          "output_type": "execute_result",
          "data": {
            "text/plain": [
              "2019    33975\n",
              "2020    14864\n",
              "Name: buisness_year, dtype: int64"
            ]
          },
          "metadata": {},
          "execution_count": 187
        }
      ],
      "source": [
        "df['buisness_year']=df['buisness_year'].astype(int)\n",
        "df['buisness_year'].value_counts()"
      ]
    },
    {
      "cell_type": "markdown",
      "id": "05c35904",
      "metadata": {
        "id": "05c35904"
      },
      "source": [
        "### Write the code to delete the following columns \n",
        "\n",
        "- 'invoice_currency'\n",
        "- 'total_open_amount', "
      ]
    },
    {
      "cell_type": "code",
      "execution_count": null,
      "id": "4ac28aa5",
      "metadata": {
        "id": "4ac28aa5"
      },
      "outputs": [],
      "source": [
        "df.drop(df[['invoice_currency','total_open_amount']],axis=1,inplace=True)"
      ]
    },
    {
      "cell_type": "markdown",
      "source": [
        "### Write a code to check the number of columns in dataframe"
      ],
      "metadata": {
        "id": "bDBJ_Kvwc086"
      },
      "id": "bDBJ_Kvwc086"
    },
    {
      "cell_type": "code",
      "execution_count": null,
      "id": "ea360a8c",
      "metadata": {
        "id": "ea360a8c",
        "colab": {
          "base_uri": "https://localhost:8080/"
        },
        "outputId": "24ebf44e-27e0-4918-a9b0-9ba600243a89"
      },
      "outputs": [
        {
          "output_type": "execute_result",
          "data": {
            "text/plain": [
              "11"
            ]
          },
          "metadata": {},
          "execution_count": 189
        }
      ],
      "source": [
        "len(df.columns)"
      ]
    },
    {
      "cell_type": "markdown",
      "id": "b8f63655",
      "metadata": {
        "id": "b8f63655"
      },
      "source": [
        "# Splitting the Dataset "
      ]
    },
    {
      "cell_type": "markdown",
      "id": "a00f749d",
      "metadata": {
        "id": "a00f749d"
      },
      "source": [
        "### Look for all columns containing null value\n",
        "\n",
        "- Note - Output expected is only one column "
      ]
    },
    {
      "cell_type": "code",
      "execution_count": null,
      "id": "148c801e",
      "metadata": {
        "id": "148c801e",
        "colab": {
          "base_uri": "https://localhost:8080/"
        },
        "outputId": "99491dbd-06ba-44d2-8a43-0b9b3b75ef31"
      },
      "outputs": [
        {
          "output_type": "execute_result",
          "data": {
            "text/plain": [
              "business_code              0\n",
              "cust_number                0\n",
              "name_customer              0\n",
              "clear_date              9681\n",
              "buisness_year              0\n",
              "doc_id                     0\n",
              "posting_date               0\n",
              "due_in_date                0\n",
              "baseline_create_date       0\n",
              "cust_payment_terms         0\n",
              "converted_usd              0\n",
              "dtype: int64"
            ]
          },
          "metadata": {},
          "execution_count": 190
        }
      ],
      "source": [
        "df.isnull().sum()"
      ]
    },
    {
      "cell_type": "markdown",
      "id": "a094a290",
      "metadata": {
        "id": "a094a290"
      },
      "source": [
        "#### Find out the number of null values from the column that you got from the above code"
      ]
    },
    {
      "cell_type": "code",
      "execution_count": null,
      "id": "30bfb113",
      "metadata": {
        "id": "30bfb113",
        "colab": {
          "base_uri": "https://localhost:8080/"
        },
        "outputId": "6f26fed8-0a95-45a5-89f4-c376d152c880"
      },
      "outputs": [
        {
          "output_type": "execute_result",
          "data": {
            "text/plain": [
              "9681"
            ]
          },
          "metadata": {},
          "execution_count": 191
        }
      ],
      "source": [
        "df['clear_date'].isnull().sum()"
      ]
    },
    {
      "cell_type": "markdown",
      "id": "7f6d939b",
      "metadata": {
        "id": "7f6d939b"
      },
      "source": [
        "### On basis of the above column we are spliting data into dataset\n",
        "\n",
        "- First dataframe (refer that as maindata) only containing the rows, that have NO NULL data in that column ( This is going to be our train dataset ) \n",
        "- Second dataframe (refer that as nulldata) that contains the columns, that have Null data in that column ( This is going to be our test dataset ) "
      ]
    },
    {
      "cell_type": "code",
      "execution_count": null,
      "id": "c8764c33",
      "metadata": {
        "id": "c8764c33"
      },
      "outputs": [],
      "source": [
        "maindata=df.dropna()\n",
        "nulldata=df[df['clear_date'].isnull()]"
      ]
    },
    {
      "cell_type": "markdown",
      "source": [
        "### Check the number of Rows and Columns for both the dataframes "
      ],
      "metadata": {
        "id": "3P8riRBHd_r6"
      },
      "id": "3P8riRBHd_r6"
    },
    {
      "cell_type": "code",
      "execution_count": null,
      "id": "0693a464",
      "metadata": {
        "id": "0693a464",
        "colab": {
          "base_uri": "https://localhost:8080/"
        },
        "outputId": "4e64a8bd-6b09-4f19-c345-e163121237e2"
      },
      "outputs": [
        {
          "output_type": "execute_result",
          "data": {
            "text/plain": [
              "(39158, 11)"
            ]
          },
          "metadata": {},
          "execution_count": 193
        }
      ],
      "source": [
        "maindata.shape"
      ]
    },
    {
      "cell_type": "code",
      "execution_count": null,
      "id": "7f86bc74",
      "metadata": {
        "id": "7f86bc74",
        "colab": {
          "base_uri": "https://localhost:8080/"
        },
        "outputId": "9b09b65f-9588-4167-cd70-0c4e4cdfceb0"
      },
      "outputs": [
        {
          "output_type": "execute_result",
          "data": {
            "text/plain": [
              "(9681, 11)"
            ]
          },
          "metadata": {},
          "execution_count": 194
        }
      ],
      "source": [
        "nulldata.shape"
      ]
    },
    {
      "cell_type": "markdown",
      "id": "0747165d",
      "metadata": {
        "id": "0747165d"
      },
      "source": [
        "### Display the 5 records from maindata and nulldata dataframes"
      ]
    },
    {
      "cell_type": "code",
      "execution_count": null,
      "id": "dec2ec36",
      "metadata": {
        "id": "dec2ec36",
        "colab": {
          "base_uri": "https://localhost:8080/",
          "height": 305
        },
        "outputId": "869edd43-fb53-4a56-bd7e-1f35fb800625"
      },
      "outputs": [
        {
          "output_type": "execute_result",
          "data": {
            "text/plain": [
              "  business_code cust_number       name_customer clear_date  buisness_year  \\\n",
              "0          U001  0200769623        WAL-MAR corp 2020-02-11           2020   \n",
              "1          U001  0200980828              BEN E  2019-08-08           2019   \n",
              "2          U001  0200792734          MDV/ trust 2019-12-30           2019   \n",
              "4          U001  0200769623  WAL-MAR foundation 2019-11-25           2019   \n",
              "5          CA02  0140106181    THE  corporation 2019-12-04           2019   \n",
              "\n",
              "         doc_id posting_date due_in_date baseline_create_date  \\\n",
              "0  1.930438e+09   2020-01-26  2020-02-10           2020-01-26   \n",
              "1  1.929646e+09   2019-07-22  2019-08-11           2019-07-22   \n",
              "2  1.929874e+09   2019-09-14  2019-09-29           2019-09-14   \n",
              "4  1.930148e+09   2019-11-13  2019-11-28           2019-11-13   \n",
              "5  2.960581e+09   2019-09-20  2019-10-04           2019-09-24   \n",
              "\n",
              "  cust_payment_terms  converted_usd  \n",
              "0               NAH4      54273.280  \n",
              "1               NAD1      79656.600  \n",
              "2               NAA8       2253.860  \n",
              "4               NAH4      33133.290  \n",
              "5               CA10      15558.088  "
            ],
            "text/html": [
              "\n",
              "  <div id=\"df-a369c56b-407a-4156-b971-fe82f2506b56\">\n",
              "    <div class=\"colab-df-container\">\n",
              "      <div>\n",
              "<style scoped>\n",
              "    .dataframe tbody tr th:only-of-type {\n",
              "        vertical-align: middle;\n",
              "    }\n",
              "\n",
              "    .dataframe tbody tr th {\n",
              "        vertical-align: top;\n",
              "    }\n",
              "\n",
              "    .dataframe thead th {\n",
              "        text-align: right;\n",
              "    }\n",
              "</style>\n",
              "<table border=\"1\" class=\"dataframe\">\n",
              "  <thead>\n",
              "    <tr style=\"text-align: right;\">\n",
              "      <th></th>\n",
              "      <th>business_code</th>\n",
              "      <th>cust_number</th>\n",
              "      <th>name_customer</th>\n",
              "      <th>clear_date</th>\n",
              "      <th>buisness_year</th>\n",
              "      <th>doc_id</th>\n",
              "      <th>posting_date</th>\n",
              "      <th>due_in_date</th>\n",
              "      <th>baseline_create_date</th>\n",
              "      <th>cust_payment_terms</th>\n",
              "      <th>converted_usd</th>\n",
              "    </tr>\n",
              "  </thead>\n",
              "  <tbody>\n",
              "    <tr>\n",
              "      <th>0</th>\n",
              "      <td>U001</td>\n",
              "      <td>0200769623</td>\n",
              "      <td>WAL-MAR corp</td>\n",
              "      <td>2020-02-11</td>\n",
              "      <td>2020</td>\n",
              "      <td>1.930438e+09</td>\n",
              "      <td>2020-01-26</td>\n",
              "      <td>2020-02-10</td>\n",
              "      <td>2020-01-26</td>\n",
              "      <td>NAH4</td>\n",
              "      <td>54273.280</td>\n",
              "    </tr>\n",
              "    <tr>\n",
              "      <th>1</th>\n",
              "      <td>U001</td>\n",
              "      <td>0200980828</td>\n",
              "      <td>BEN E</td>\n",
              "      <td>2019-08-08</td>\n",
              "      <td>2019</td>\n",
              "      <td>1.929646e+09</td>\n",
              "      <td>2019-07-22</td>\n",
              "      <td>2019-08-11</td>\n",
              "      <td>2019-07-22</td>\n",
              "      <td>NAD1</td>\n",
              "      <td>79656.600</td>\n",
              "    </tr>\n",
              "    <tr>\n",
              "      <th>2</th>\n",
              "      <td>U001</td>\n",
              "      <td>0200792734</td>\n",
              "      <td>MDV/ trust</td>\n",
              "      <td>2019-12-30</td>\n",
              "      <td>2019</td>\n",
              "      <td>1.929874e+09</td>\n",
              "      <td>2019-09-14</td>\n",
              "      <td>2019-09-29</td>\n",
              "      <td>2019-09-14</td>\n",
              "      <td>NAA8</td>\n",
              "      <td>2253.860</td>\n",
              "    </tr>\n",
              "    <tr>\n",
              "      <th>4</th>\n",
              "      <td>U001</td>\n",
              "      <td>0200769623</td>\n",
              "      <td>WAL-MAR foundation</td>\n",
              "      <td>2019-11-25</td>\n",
              "      <td>2019</td>\n",
              "      <td>1.930148e+09</td>\n",
              "      <td>2019-11-13</td>\n",
              "      <td>2019-11-28</td>\n",
              "      <td>2019-11-13</td>\n",
              "      <td>NAH4</td>\n",
              "      <td>33133.290</td>\n",
              "    </tr>\n",
              "    <tr>\n",
              "      <th>5</th>\n",
              "      <td>CA02</td>\n",
              "      <td>0140106181</td>\n",
              "      <td>THE  corporation</td>\n",
              "      <td>2019-12-04</td>\n",
              "      <td>2019</td>\n",
              "      <td>2.960581e+09</td>\n",
              "      <td>2019-09-20</td>\n",
              "      <td>2019-10-04</td>\n",
              "      <td>2019-09-24</td>\n",
              "      <td>CA10</td>\n",
              "      <td>15558.088</td>\n",
              "    </tr>\n",
              "  </tbody>\n",
              "</table>\n",
              "</div>\n",
              "      <button class=\"colab-df-convert\" onclick=\"convertToInteractive('df-a369c56b-407a-4156-b971-fe82f2506b56')\"\n",
              "              title=\"Convert this dataframe to an interactive table.\"\n",
              "              style=\"display:none;\">\n",
              "        \n",
              "  <svg xmlns=\"http://www.w3.org/2000/svg\" height=\"24px\"viewBox=\"0 0 24 24\"\n",
              "       width=\"24px\">\n",
              "    <path d=\"M0 0h24v24H0V0z\" fill=\"none\"/>\n",
              "    <path d=\"M18.56 5.44l.94 2.06.94-2.06 2.06-.94-2.06-.94-.94-2.06-.94 2.06-2.06.94zm-11 1L8.5 8.5l.94-2.06 2.06-.94-2.06-.94L8.5 2.5l-.94 2.06-2.06.94zm10 10l.94 2.06.94-2.06 2.06-.94-2.06-.94-.94-2.06-.94 2.06-2.06.94z\"/><path d=\"M17.41 7.96l-1.37-1.37c-.4-.4-.92-.59-1.43-.59-.52 0-1.04.2-1.43.59L10.3 9.45l-7.72 7.72c-.78.78-.78 2.05 0 2.83L4 21.41c.39.39.9.59 1.41.59.51 0 1.02-.2 1.41-.59l7.78-7.78 2.81-2.81c.8-.78.8-2.07 0-2.86zM5.41 20L4 18.59l7.72-7.72 1.47 1.35L5.41 20z\"/>\n",
              "  </svg>\n",
              "      </button>\n",
              "      \n",
              "  <style>\n",
              "    .colab-df-container {\n",
              "      display:flex;\n",
              "      flex-wrap:wrap;\n",
              "      gap: 12px;\n",
              "    }\n",
              "\n",
              "    .colab-df-convert {\n",
              "      background-color: #E8F0FE;\n",
              "      border: none;\n",
              "      border-radius: 50%;\n",
              "      cursor: pointer;\n",
              "      display: none;\n",
              "      fill: #1967D2;\n",
              "      height: 32px;\n",
              "      padding: 0 0 0 0;\n",
              "      width: 32px;\n",
              "    }\n",
              "\n",
              "    .colab-df-convert:hover {\n",
              "      background-color: #E2EBFA;\n",
              "      box-shadow: 0px 1px 2px rgba(60, 64, 67, 0.3), 0px 1px 3px 1px rgba(60, 64, 67, 0.15);\n",
              "      fill: #174EA6;\n",
              "    }\n",
              "\n",
              "    [theme=dark] .colab-df-convert {\n",
              "      background-color: #3B4455;\n",
              "      fill: #D2E3FC;\n",
              "    }\n",
              "\n",
              "    [theme=dark] .colab-df-convert:hover {\n",
              "      background-color: #434B5C;\n",
              "      box-shadow: 0px 1px 3px 1px rgba(0, 0, 0, 0.15);\n",
              "      filter: drop-shadow(0px 1px 2px rgba(0, 0, 0, 0.3));\n",
              "      fill: #FFFFFF;\n",
              "    }\n",
              "  </style>\n",
              "\n",
              "      <script>\n",
              "        const buttonEl =\n",
              "          document.querySelector('#df-a369c56b-407a-4156-b971-fe82f2506b56 button.colab-df-convert');\n",
              "        buttonEl.style.display =\n",
              "          google.colab.kernel.accessAllowed ? 'block' : 'none';\n",
              "\n",
              "        async function convertToInteractive(key) {\n",
              "          const element = document.querySelector('#df-a369c56b-407a-4156-b971-fe82f2506b56');\n",
              "          const dataTable =\n",
              "            await google.colab.kernel.invokeFunction('convertToInteractive',\n",
              "                                                     [key], {});\n",
              "          if (!dataTable) return;\n",
              "\n",
              "          const docLinkHtml = 'Like what you see? Visit the ' +\n",
              "            '<a target=\"_blank\" href=https://colab.research.google.com/notebooks/data_table.ipynb>data table notebook</a>'\n",
              "            + ' to learn more about interactive tables.';\n",
              "          element.innerHTML = '';\n",
              "          dataTable['output_type'] = 'display_data';\n",
              "          await google.colab.output.renderOutput(dataTable, element);\n",
              "          const docLink = document.createElement('div');\n",
              "          docLink.innerHTML = docLinkHtml;\n",
              "          element.appendChild(docLink);\n",
              "        }\n",
              "      </script>\n",
              "    </div>\n",
              "  </div>\n",
              "  "
            ]
          },
          "metadata": {},
          "execution_count": 195
        }
      ],
      "source": [
        "maindata.head()"
      ]
    },
    {
      "cell_type": "code",
      "execution_count": null,
      "id": "eee2d68a",
      "metadata": {
        "id": "eee2d68a",
        "colab": {
          "base_uri": "https://localhost:8080/",
          "height": 288
        },
        "outputId": "8812c3b9-c0a9-4e1b-ad2d-a87758589c1c"
      },
      "outputs": [
        {
          "output_type": "execute_result",
          "data": {
            "text/plain": [
              "   business_code cust_number     name_customer clear_date  buisness_year  \\\n",
              "3           CA02  0140105686          SYSC llc        NaT           2020   \n",
              "7           U001  0200744019           TARG us        NaT           2020   \n",
              "10          U001  0200418007               AM         NaT           2020   \n",
              "14          U001  0200739534        OK systems        NaT           2020   \n",
              "15          U001  0200353024  DECA corporation        NaT           2020   \n",
              "\n",
              "          doc_id posting_date due_in_date baseline_create_date  \\\n",
              "3   2.960623e+09   2020-03-30  2020-04-10           2020-03-31   \n",
              "7   1.930659e+09   2020-03-19  2020-04-03           2020-03-19   \n",
              "10  1.930611e+09   2020-03-11  2020-03-26           2020-03-11   \n",
              "14  1.930788e+09   2020-04-15  2020-04-30           2020-04-15   \n",
              "15  1.930817e+09   2020-04-23  2020-04-26           2020-04-16   \n",
              "\n",
              "   cust_payment_terms  converted_usd  \n",
              "3                CA10        2309.79  \n",
              "7                NAA8       11173.02  \n",
              "10               NAA8        3525.59  \n",
              "14               NAA8      121105.65  \n",
              "15               NAM2        3726.06  "
            ],
            "text/html": [
              "\n",
              "  <div id=\"df-846582d9-cd7f-4e15-a245-cb3399c8380a\">\n",
              "    <div class=\"colab-df-container\">\n",
              "      <div>\n",
              "<style scoped>\n",
              "    .dataframe tbody tr th:only-of-type {\n",
              "        vertical-align: middle;\n",
              "    }\n",
              "\n",
              "    .dataframe tbody tr th {\n",
              "        vertical-align: top;\n",
              "    }\n",
              "\n",
              "    .dataframe thead th {\n",
              "        text-align: right;\n",
              "    }\n",
              "</style>\n",
              "<table border=\"1\" class=\"dataframe\">\n",
              "  <thead>\n",
              "    <tr style=\"text-align: right;\">\n",
              "      <th></th>\n",
              "      <th>business_code</th>\n",
              "      <th>cust_number</th>\n",
              "      <th>name_customer</th>\n",
              "      <th>clear_date</th>\n",
              "      <th>buisness_year</th>\n",
              "      <th>doc_id</th>\n",
              "      <th>posting_date</th>\n",
              "      <th>due_in_date</th>\n",
              "      <th>baseline_create_date</th>\n",
              "      <th>cust_payment_terms</th>\n",
              "      <th>converted_usd</th>\n",
              "    </tr>\n",
              "  </thead>\n",
              "  <tbody>\n",
              "    <tr>\n",
              "      <th>3</th>\n",
              "      <td>CA02</td>\n",
              "      <td>0140105686</td>\n",
              "      <td>SYSC llc</td>\n",
              "      <td>NaT</td>\n",
              "      <td>2020</td>\n",
              "      <td>2.960623e+09</td>\n",
              "      <td>2020-03-30</td>\n",
              "      <td>2020-04-10</td>\n",
              "      <td>2020-03-31</td>\n",
              "      <td>CA10</td>\n",
              "      <td>2309.79</td>\n",
              "    </tr>\n",
              "    <tr>\n",
              "      <th>7</th>\n",
              "      <td>U001</td>\n",
              "      <td>0200744019</td>\n",
              "      <td>TARG us</td>\n",
              "      <td>NaT</td>\n",
              "      <td>2020</td>\n",
              "      <td>1.930659e+09</td>\n",
              "      <td>2020-03-19</td>\n",
              "      <td>2020-04-03</td>\n",
              "      <td>2020-03-19</td>\n",
              "      <td>NAA8</td>\n",
              "      <td>11173.02</td>\n",
              "    </tr>\n",
              "    <tr>\n",
              "      <th>10</th>\n",
              "      <td>U001</td>\n",
              "      <td>0200418007</td>\n",
              "      <td>AM</td>\n",
              "      <td>NaT</td>\n",
              "      <td>2020</td>\n",
              "      <td>1.930611e+09</td>\n",
              "      <td>2020-03-11</td>\n",
              "      <td>2020-03-26</td>\n",
              "      <td>2020-03-11</td>\n",
              "      <td>NAA8</td>\n",
              "      <td>3525.59</td>\n",
              "    </tr>\n",
              "    <tr>\n",
              "      <th>14</th>\n",
              "      <td>U001</td>\n",
              "      <td>0200739534</td>\n",
              "      <td>OK systems</td>\n",
              "      <td>NaT</td>\n",
              "      <td>2020</td>\n",
              "      <td>1.930788e+09</td>\n",
              "      <td>2020-04-15</td>\n",
              "      <td>2020-04-30</td>\n",
              "      <td>2020-04-15</td>\n",
              "      <td>NAA8</td>\n",
              "      <td>121105.65</td>\n",
              "    </tr>\n",
              "    <tr>\n",
              "      <th>15</th>\n",
              "      <td>U001</td>\n",
              "      <td>0200353024</td>\n",
              "      <td>DECA corporation</td>\n",
              "      <td>NaT</td>\n",
              "      <td>2020</td>\n",
              "      <td>1.930817e+09</td>\n",
              "      <td>2020-04-23</td>\n",
              "      <td>2020-04-26</td>\n",
              "      <td>2020-04-16</td>\n",
              "      <td>NAM2</td>\n",
              "      <td>3726.06</td>\n",
              "    </tr>\n",
              "  </tbody>\n",
              "</table>\n",
              "</div>\n",
              "      <button class=\"colab-df-convert\" onclick=\"convertToInteractive('df-846582d9-cd7f-4e15-a245-cb3399c8380a')\"\n",
              "              title=\"Convert this dataframe to an interactive table.\"\n",
              "              style=\"display:none;\">\n",
              "        \n",
              "  <svg xmlns=\"http://www.w3.org/2000/svg\" height=\"24px\"viewBox=\"0 0 24 24\"\n",
              "       width=\"24px\">\n",
              "    <path d=\"M0 0h24v24H0V0z\" fill=\"none\"/>\n",
              "    <path d=\"M18.56 5.44l.94 2.06.94-2.06 2.06-.94-2.06-.94-.94-2.06-.94 2.06-2.06.94zm-11 1L8.5 8.5l.94-2.06 2.06-.94-2.06-.94L8.5 2.5l-.94 2.06-2.06.94zm10 10l.94 2.06.94-2.06 2.06-.94-2.06-.94-.94-2.06-.94 2.06-2.06.94z\"/><path d=\"M17.41 7.96l-1.37-1.37c-.4-.4-.92-.59-1.43-.59-.52 0-1.04.2-1.43.59L10.3 9.45l-7.72 7.72c-.78.78-.78 2.05 0 2.83L4 21.41c.39.39.9.59 1.41.59.51 0 1.02-.2 1.41-.59l7.78-7.78 2.81-2.81c.8-.78.8-2.07 0-2.86zM5.41 20L4 18.59l7.72-7.72 1.47 1.35L5.41 20z\"/>\n",
              "  </svg>\n",
              "      </button>\n",
              "      \n",
              "  <style>\n",
              "    .colab-df-container {\n",
              "      display:flex;\n",
              "      flex-wrap:wrap;\n",
              "      gap: 12px;\n",
              "    }\n",
              "\n",
              "    .colab-df-convert {\n",
              "      background-color: #E8F0FE;\n",
              "      border: none;\n",
              "      border-radius: 50%;\n",
              "      cursor: pointer;\n",
              "      display: none;\n",
              "      fill: #1967D2;\n",
              "      height: 32px;\n",
              "      padding: 0 0 0 0;\n",
              "      width: 32px;\n",
              "    }\n",
              "\n",
              "    .colab-df-convert:hover {\n",
              "      background-color: #E2EBFA;\n",
              "      box-shadow: 0px 1px 2px rgba(60, 64, 67, 0.3), 0px 1px 3px 1px rgba(60, 64, 67, 0.15);\n",
              "      fill: #174EA6;\n",
              "    }\n",
              "\n",
              "    [theme=dark] .colab-df-convert {\n",
              "      background-color: #3B4455;\n",
              "      fill: #D2E3FC;\n",
              "    }\n",
              "\n",
              "    [theme=dark] .colab-df-convert:hover {\n",
              "      background-color: #434B5C;\n",
              "      box-shadow: 0px 1px 3px 1px rgba(0, 0, 0, 0.15);\n",
              "      filter: drop-shadow(0px 1px 2px rgba(0, 0, 0, 0.3));\n",
              "      fill: #FFFFFF;\n",
              "    }\n",
              "  </style>\n",
              "\n",
              "      <script>\n",
              "        const buttonEl =\n",
              "          document.querySelector('#df-846582d9-cd7f-4e15-a245-cb3399c8380a button.colab-df-convert');\n",
              "        buttonEl.style.display =\n",
              "          google.colab.kernel.accessAllowed ? 'block' : 'none';\n",
              "\n",
              "        async function convertToInteractive(key) {\n",
              "          const element = document.querySelector('#df-846582d9-cd7f-4e15-a245-cb3399c8380a');\n",
              "          const dataTable =\n",
              "            await google.colab.kernel.invokeFunction('convertToInteractive',\n",
              "                                                     [key], {});\n",
              "          if (!dataTable) return;\n",
              "\n",
              "          const docLinkHtml = 'Like what you see? Visit the ' +\n",
              "            '<a target=\"_blank\" href=https://colab.research.google.com/notebooks/data_table.ipynb>data table notebook</a>'\n",
              "            + ' to learn more about interactive tables.';\n",
              "          element.innerHTML = '';\n",
              "          dataTable['output_type'] = 'display_data';\n",
              "          await google.colab.output.renderOutput(dataTable, element);\n",
              "          const docLink = document.createElement('div');\n",
              "          docLink.innerHTML = docLinkHtml;\n",
              "          element.appendChild(docLink);\n",
              "        }\n",
              "      </script>\n",
              "    </div>\n",
              "  </div>\n",
              "  "
            ]
          },
          "metadata": {},
          "execution_count": 196
        }
      ],
      "source": [
        "nulldata.head()"
      ]
    },
    {
      "cell_type": "markdown",
      "id": "24aa6746",
      "metadata": {
        "id": "24aa6746"
      },
      "source": [
        "## Considering the **maindata**"
      ]
    },
    {
      "cell_type": "markdown",
      "id": "f92c4aa7",
      "metadata": {
        "id": "f92c4aa7"
      },
      "source": [
        "#### Generate a new column \"Delay\" from the existing columns\n",
        "\n",
        "- Note - You are expected to create a new column 'Delay' from two existing columns, \"clear_date\" and \"due_in_date\" \n",
        "- Formula - Delay = clear_date - due_in_date"
      ]
    },
    {
      "cell_type": "code",
      "execution_count": null,
      "id": "8eeceb9c",
      "metadata": {
        "id": "8eeceb9c"
      },
      "outputs": [],
      "source": [
        "pd.options.mode.chained_assignment=None\n",
        "maindata['Delay']=maindata['clear_date']-maindata['due_in_date']"
      ]
    },
    {
      "cell_type": "markdown",
      "id": "f482144e",
      "metadata": {
        "id": "f482144e"
      },
      "source": [
        "### Generate a new column \"avgdelay\" from the existing columns\n",
        "\n",
        "- Note - You are expected to make a new column \"avgdelay\" by grouping \"name_customer\" column with reapect to mean of the \"Delay\" column.\n",
        "- This new column \"avg_delay\" is meant to store \"customer_name\" wise delay\n",
        "- groupby('name_customer')['Delay'].mean(numeric_only=False)\n",
        "- Display the new \"avg_delay\" column"
      ]
    },
    {
      "cell_type": "code",
      "execution_count": null,
      "id": "d18d2f8d",
      "metadata": {
        "id": "d18d2f8d"
      },
      "outputs": [],
      "source": [
        "avg_delay=maindata.groupby('name_customer')['Delay'].mean(numeric_only=False)"
      ]
    },
    {
      "cell_type": "markdown",
      "id": "64b995e8",
      "metadata": {
        "id": "64b995e8"
      },
      "source": [
        "You need to add the \"avg_delay\" column with the maindata, mapped with \"name_customer\" column\n",
        "\n",
        " - Note - You need to use map function to map the avgdelay with respect to \"name_customer\" column"
      ]
    },
    {
      "cell_type": "code",
      "execution_count": null,
      "id": "e1e1f3d9",
      "metadata": {
        "id": "e1e1f3d9"
      },
      "outputs": [],
      "source": [
        "# maindata.name_customer=maindata.map('avg_delay')\n",
        "maindata['avg_delay']=maindata['name_customer'].map(avg_delay)"
      ]
    },
    {
      "cell_type": "markdown",
      "id": "1d332525",
      "metadata": {
        "id": "1d332525"
      },
      "source": [
        "### Observe that the \"avg_delay\" column is in days format. You need to change the format into seconds\n",
        "\n",
        "- Days_format :  17 days 00:00:00\n",
        "- Format in seconds : 1641600.0"
      ]
    },
    {
      "cell_type": "code",
      "execution_count": null,
      "id": "d5f1041e",
      "metadata": {
        "id": "d5f1041e"
      },
      "outputs": [],
      "source": [
        "maindata['avg_delay'] = pd.to_timedelta(maindata['avg_delay']).dt.total_seconds() "
      ]
    },
    {
      "cell_type": "markdown",
      "source": [
        "### Display the maindata dataframe "
      ],
      "metadata": {
        "id": "OvgtHSsx_O-n"
      },
      "id": "OvgtHSsx_O-n"
    },
    {
      "cell_type": "code",
      "execution_count": null,
      "id": "97ca9c45",
      "metadata": {
        "id": "97ca9c45",
        "colab": {
          "base_uri": "https://localhost:8080/",
          "height": 661
        },
        "outputId": "3bfb73fd-f4e3-4a8e-f8b8-8be4ae27b4f8"
      },
      "outputs": [
        {
          "output_type": "execute_result",
          "data": {
            "text/plain": [
              "      business_code cust_number       name_customer clear_date  buisness_year  \\\n",
              "0              U001  0200769623        WAL-MAR corp 2020-02-11           2020   \n",
              "1              U001  0200980828              BEN E  2019-08-08           2019   \n",
              "2              U001  0200792734          MDV/ trust 2019-12-30           2019   \n",
              "4              U001  0200769623  WAL-MAR foundation 2019-11-25           2019   \n",
              "5              CA02  0140106181    THE  corporation 2019-12-04           2019   \n",
              "...             ...         ...                 ...        ...            ...   \n",
              "49994          U001  0200762301        C&S WH trust 2019-07-25           2019   \n",
              "49996          U001  0200769623          WAL-MAR co 2019-09-03           2019   \n",
              "49997          U001  0200772595    SAFEW associates 2020-03-05           2020   \n",
              "49998          U001  0200726979           BJ'S  llc 2019-12-12           2019   \n",
              "49999          U001  0200020431            DEC corp 2019-01-15           2019   \n",
              "\n",
              "             doc_id posting_date due_in_date baseline_create_date  \\\n",
              "0      1.930438e+09   2020-01-26  2020-02-10           2020-01-26   \n",
              "1      1.929646e+09   2019-07-22  2019-08-11           2019-07-22   \n",
              "2      1.929874e+09   2019-09-14  2019-09-29           2019-09-14   \n",
              "4      1.930148e+09   2019-11-13  2019-11-28           2019-11-13   \n",
              "5      2.960581e+09   2019-09-20  2019-10-04           2019-09-24   \n",
              "...             ...          ...         ...                  ...   \n",
              "49994  1.929601e+09   2019-07-10  2019-07-25           2019-07-10   \n",
              "49996  1.929744e+09   2019-08-15  2019-08-30           2019-08-15   \n",
              "49997  1.930537e+09   2020-02-19  2020-03-05           2020-02-19   \n",
              "49998  1.930199e+09   2019-11-27  2019-12-12           2019-11-27   \n",
              "49999  1.928576e+09   2019-01-05  2019-01-24           2019-01-01   \n",
              "\n",
              "      cust_payment_terms  converted_usd   Delay     avg_delay  \n",
              "0                   NAH4      54273.280  1 days -2.334702e+05  \n",
              "1                   NAD1      79656.600 -3 days  1.641600e+06  \n",
              "2                   NAA8       2253.860 92 days  6.990545e+05  \n",
              "4                   NAH4      33133.290 -3 days -1.887923e+05  \n",
              "5                   CA10      15558.088 61 days  6.172800e+06  \n",
              "...                  ...            ...     ...           ...  \n",
              "49994               NAC6      84780.400  0 days -3.330000e+04  \n",
              "49996               NAH4       6766.540  4 days -2.135915e+05  \n",
              "49997               NAA8       6120.860  0 days  9.051429e+04  \n",
              "49998               NAA8         63.480  0 days  1.354030e+05  \n",
              "49999               NAM4       1790.300 -9 days -3.371478e+05  \n",
              "\n",
              "[39158 rows x 13 columns]"
            ],
            "text/html": [
              "\n",
              "  <div id=\"df-fb425b00-738a-48c5-9df5-c78b1f8c22f2\">\n",
              "    <div class=\"colab-df-container\">\n",
              "      <div>\n",
              "<style scoped>\n",
              "    .dataframe tbody tr th:only-of-type {\n",
              "        vertical-align: middle;\n",
              "    }\n",
              "\n",
              "    .dataframe tbody tr th {\n",
              "        vertical-align: top;\n",
              "    }\n",
              "\n",
              "    .dataframe thead th {\n",
              "        text-align: right;\n",
              "    }\n",
              "</style>\n",
              "<table border=\"1\" class=\"dataframe\">\n",
              "  <thead>\n",
              "    <tr style=\"text-align: right;\">\n",
              "      <th></th>\n",
              "      <th>business_code</th>\n",
              "      <th>cust_number</th>\n",
              "      <th>name_customer</th>\n",
              "      <th>clear_date</th>\n",
              "      <th>buisness_year</th>\n",
              "      <th>doc_id</th>\n",
              "      <th>posting_date</th>\n",
              "      <th>due_in_date</th>\n",
              "      <th>baseline_create_date</th>\n",
              "      <th>cust_payment_terms</th>\n",
              "      <th>converted_usd</th>\n",
              "      <th>Delay</th>\n",
              "      <th>avg_delay</th>\n",
              "    </tr>\n",
              "  </thead>\n",
              "  <tbody>\n",
              "    <tr>\n",
              "      <th>0</th>\n",
              "      <td>U001</td>\n",
              "      <td>0200769623</td>\n",
              "      <td>WAL-MAR corp</td>\n",
              "      <td>2020-02-11</td>\n",
              "      <td>2020</td>\n",
              "      <td>1.930438e+09</td>\n",
              "      <td>2020-01-26</td>\n",
              "      <td>2020-02-10</td>\n",
              "      <td>2020-01-26</td>\n",
              "      <td>NAH4</td>\n",
              "      <td>54273.280</td>\n",
              "      <td>1 days</td>\n",
              "      <td>-2.334702e+05</td>\n",
              "    </tr>\n",
              "    <tr>\n",
              "      <th>1</th>\n",
              "      <td>U001</td>\n",
              "      <td>0200980828</td>\n",
              "      <td>BEN E</td>\n",
              "      <td>2019-08-08</td>\n",
              "      <td>2019</td>\n",
              "      <td>1.929646e+09</td>\n",
              "      <td>2019-07-22</td>\n",
              "      <td>2019-08-11</td>\n",
              "      <td>2019-07-22</td>\n",
              "      <td>NAD1</td>\n",
              "      <td>79656.600</td>\n",
              "      <td>-3 days</td>\n",
              "      <td>1.641600e+06</td>\n",
              "    </tr>\n",
              "    <tr>\n",
              "      <th>2</th>\n",
              "      <td>U001</td>\n",
              "      <td>0200792734</td>\n",
              "      <td>MDV/ trust</td>\n",
              "      <td>2019-12-30</td>\n",
              "      <td>2019</td>\n",
              "      <td>1.929874e+09</td>\n",
              "      <td>2019-09-14</td>\n",
              "      <td>2019-09-29</td>\n",
              "      <td>2019-09-14</td>\n",
              "      <td>NAA8</td>\n",
              "      <td>2253.860</td>\n",
              "      <td>92 days</td>\n",
              "      <td>6.990545e+05</td>\n",
              "    </tr>\n",
              "    <tr>\n",
              "      <th>4</th>\n",
              "      <td>U001</td>\n",
              "      <td>0200769623</td>\n",
              "      <td>WAL-MAR foundation</td>\n",
              "      <td>2019-11-25</td>\n",
              "      <td>2019</td>\n",
              "      <td>1.930148e+09</td>\n",
              "      <td>2019-11-13</td>\n",
              "      <td>2019-11-28</td>\n",
              "      <td>2019-11-13</td>\n",
              "      <td>NAH4</td>\n",
              "      <td>33133.290</td>\n",
              "      <td>-3 days</td>\n",
              "      <td>-1.887923e+05</td>\n",
              "    </tr>\n",
              "    <tr>\n",
              "      <th>5</th>\n",
              "      <td>CA02</td>\n",
              "      <td>0140106181</td>\n",
              "      <td>THE  corporation</td>\n",
              "      <td>2019-12-04</td>\n",
              "      <td>2019</td>\n",
              "      <td>2.960581e+09</td>\n",
              "      <td>2019-09-20</td>\n",
              "      <td>2019-10-04</td>\n",
              "      <td>2019-09-24</td>\n",
              "      <td>CA10</td>\n",
              "      <td>15558.088</td>\n",
              "      <td>61 days</td>\n",
              "      <td>6.172800e+06</td>\n",
              "    </tr>\n",
              "    <tr>\n",
              "      <th>...</th>\n",
              "      <td>...</td>\n",
              "      <td>...</td>\n",
              "      <td>...</td>\n",
              "      <td>...</td>\n",
              "      <td>...</td>\n",
              "      <td>...</td>\n",
              "      <td>...</td>\n",
              "      <td>...</td>\n",
              "      <td>...</td>\n",
              "      <td>...</td>\n",
              "      <td>...</td>\n",
              "      <td>...</td>\n",
              "      <td>...</td>\n",
              "    </tr>\n",
              "    <tr>\n",
              "      <th>49994</th>\n",
              "      <td>U001</td>\n",
              "      <td>0200762301</td>\n",
              "      <td>C&amp;S WH trust</td>\n",
              "      <td>2019-07-25</td>\n",
              "      <td>2019</td>\n",
              "      <td>1.929601e+09</td>\n",
              "      <td>2019-07-10</td>\n",
              "      <td>2019-07-25</td>\n",
              "      <td>2019-07-10</td>\n",
              "      <td>NAC6</td>\n",
              "      <td>84780.400</td>\n",
              "      <td>0 days</td>\n",
              "      <td>-3.330000e+04</td>\n",
              "    </tr>\n",
              "    <tr>\n",
              "      <th>49996</th>\n",
              "      <td>U001</td>\n",
              "      <td>0200769623</td>\n",
              "      <td>WAL-MAR co</td>\n",
              "      <td>2019-09-03</td>\n",
              "      <td>2019</td>\n",
              "      <td>1.929744e+09</td>\n",
              "      <td>2019-08-15</td>\n",
              "      <td>2019-08-30</td>\n",
              "      <td>2019-08-15</td>\n",
              "      <td>NAH4</td>\n",
              "      <td>6766.540</td>\n",
              "      <td>4 days</td>\n",
              "      <td>-2.135915e+05</td>\n",
              "    </tr>\n",
              "    <tr>\n",
              "      <th>49997</th>\n",
              "      <td>U001</td>\n",
              "      <td>0200772595</td>\n",
              "      <td>SAFEW associates</td>\n",
              "      <td>2020-03-05</td>\n",
              "      <td>2020</td>\n",
              "      <td>1.930537e+09</td>\n",
              "      <td>2020-02-19</td>\n",
              "      <td>2020-03-05</td>\n",
              "      <td>2020-02-19</td>\n",
              "      <td>NAA8</td>\n",
              "      <td>6120.860</td>\n",
              "      <td>0 days</td>\n",
              "      <td>9.051429e+04</td>\n",
              "    </tr>\n",
              "    <tr>\n",
              "      <th>49998</th>\n",
              "      <td>U001</td>\n",
              "      <td>0200726979</td>\n",
              "      <td>BJ'S  llc</td>\n",
              "      <td>2019-12-12</td>\n",
              "      <td>2019</td>\n",
              "      <td>1.930199e+09</td>\n",
              "      <td>2019-11-27</td>\n",
              "      <td>2019-12-12</td>\n",
              "      <td>2019-11-27</td>\n",
              "      <td>NAA8</td>\n",
              "      <td>63.480</td>\n",
              "      <td>0 days</td>\n",
              "      <td>1.354030e+05</td>\n",
              "    </tr>\n",
              "    <tr>\n",
              "      <th>49999</th>\n",
              "      <td>U001</td>\n",
              "      <td>0200020431</td>\n",
              "      <td>DEC corp</td>\n",
              "      <td>2019-01-15</td>\n",
              "      <td>2019</td>\n",
              "      <td>1.928576e+09</td>\n",
              "      <td>2019-01-05</td>\n",
              "      <td>2019-01-24</td>\n",
              "      <td>2019-01-01</td>\n",
              "      <td>NAM4</td>\n",
              "      <td>1790.300</td>\n",
              "      <td>-9 days</td>\n",
              "      <td>-3.371478e+05</td>\n",
              "    </tr>\n",
              "  </tbody>\n",
              "</table>\n",
              "<p>39158 rows × 13 columns</p>\n",
              "</div>\n",
              "      <button class=\"colab-df-convert\" onclick=\"convertToInteractive('df-fb425b00-738a-48c5-9df5-c78b1f8c22f2')\"\n",
              "              title=\"Convert this dataframe to an interactive table.\"\n",
              "              style=\"display:none;\">\n",
              "        \n",
              "  <svg xmlns=\"http://www.w3.org/2000/svg\" height=\"24px\"viewBox=\"0 0 24 24\"\n",
              "       width=\"24px\">\n",
              "    <path d=\"M0 0h24v24H0V0z\" fill=\"none\"/>\n",
              "    <path d=\"M18.56 5.44l.94 2.06.94-2.06 2.06-.94-2.06-.94-.94-2.06-.94 2.06-2.06.94zm-11 1L8.5 8.5l.94-2.06 2.06-.94-2.06-.94L8.5 2.5l-.94 2.06-2.06.94zm10 10l.94 2.06.94-2.06 2.06-.94-2.06-.94-.94-2.06-.94 2.06-2.06.94z\"/><path d=\"M17.41 7.96l-1.37-1.37c-.4-.4-.92-.59-1.43-.59-.52 0-1.04.2-1.43.59L10.3 9.45l-7.72 7.72c-.78.78-.78 2.05 0 2.83L4 21.41c.39.39.9.59 1.41.59.51 0 1.02-.2 1.41-.59l7.78-7.78 2.81-2.81c.8-.78.8-2.07 0-2.86zM5.41 20L4 18.59l7.72-7.72 1.47 1.35L5.41 20z\"/>\n",
              "  </svg>\n",
              "      </button>\n",
              "      \n",
              "  <style>\n",
              "    .colab-df-container {\n",
              "      display:flex;\n",
              "      flex-wrap:wrap;\n",
              "      gap: 12px;\n",
              "    }\n",
              "\n",
              "    .colab-df-convert {\n",
              "      background-color: #E8F0FE;\n",
              "      border: none;\n",
              "      border-radius: 50%;\n",
              "      cursor: pointer;\n",
              "      display: none;\n",
              "      fill: #1967D2;\n",
              "      height: 32px;\n",
              "      padding: 0 0 0 0;\n",
              "      width: 32px;\n",
              "    }\n",
              "\n",
              "    .colab-df-convert:hover {\n",
              "      background-color: #E2EBFA;\n",
              "      box-shadow: 0px 1px 2px rgba(60, 64, 67, 0.3), 0px 1px 3px 1px rgba(60, 64, 67, 0.15);\n",
              "      fill: #174EA6;\n",
              "    }\n",
              "\n",
              "    [theme=dark] .colab-df-convert {\n",
              "      background-color: #3B4455;\n",
              "      fill: #D2E3FC;\n",
              "    }\n",
              "\n",
              "    [theme=dark] .colab-df-convert:hover {\n",
              "      background-color: #434B5C;\n",
              "      box-shadow: 0px 1px 3px 1px rgba(0, 0, 0, 0.15);\n",
              "      filter: drop-shadow(0px 1px 2px rgba(0, 0, 0, 0.3));\n",
              "      fill: #FFFFFF;\n",
              "    }\n",
              "  </style>\n",
              "\n",
              "      <script>\n",
              "        const buttonEl =\n",
              "          document.querySelector('#df-fb425b00-738a-48c5-9df5-c78b1f8c22f2 button.colab-df-convert');\n",
              "        buttonEl.style.display =\n",
              "          google.colab.kernel.accessAllowed ? 'block' : 'none';\n",
              "\n",
              "        async function convertToInteractive(key) {\n",
              "          const element = document.querySelector('#df-fb425b00-738a-48c5-9df5-c78b1f8c22f2');\n",
              "          const dataTable =\n",
              "            await google.colab.kernel.invokeFunction('convertToInteractive',\n",
              "                                                     [key], {});\n",
              "          if (!dataTable) return;\n",
              "\n",
              "          const docLinkHtml = 'Like what you see? Visit the ' +\n",
              "            '<a target=\"_blank\" href=https://colab.research.google.com/notebooks/data_table.ipynb>data table notebook</a>'\n",
              "            + ' to learn more about interactive tables.';\n",
              "          element.innerHTML = '';\n",
              "          dataTable['output_type'] = 'display_data';\n",
              "          await google.colab.output.renderOutput(dataTable, element);\n",
              "          const docLink = document.createElement('div');\n",
              "          docLink.innerHTML = docLinkHtml;\n",
              "          element.appendChild(docLink);\n",
              "        }\n",
              "      </script>\n",
              "    </div>\n",
              "  </div>\n",
              "  "
            ]
          },
          "metadata": {},
          "execution_count": 201
        }
      ],
      "source": [
        "maindata"
      ]
    },
    {
      "cell_type": "markdown",
      "id": "ae24c7bb",
      "metadata": {
        "id": "ae24c7bb"
      },
      "source": [
        "### Since you have created the \"avg_delay\" column from \"Delay\" and \"clear_date\" column, there is no need of these two columns anymore \n",
        "\n",
        "- You are expected to drop \"Delay\" and \"clear_date\" columns from maindata dataframe "
      ]
    },
    {
      "cell_type": "code",
      "execution_count": null,
      "id": "78a61ab9",
      "metadata": {
        "id": "78a61ab9"
      },
      "outputs": [],
      "source": [
        "maindata.drop(maindata[['Delay','clear_date']],axis=1,inplace=True)"
      ]
    },
    {
      "cell_type": "markdown",
      "id": "ae724bfc",
      "metadata": {
        "id": "ae724bfc"
      },
      "source": [
        "# Splitting of Train and the Test Data"
      ]
    },
    {
      "cell_type": "markdown",
      "id": "cb6f0264",
      "metadata": {
        "id": "cb6f0264"
      },
      "source": [
        "### You need to split the \"maindata\" columns into X and y dataframe\n",
        "\n",
        "- Note - y should have the target column i.e. \"avg_delay\" and the other column should be in X\n",
        "\n",
        "- X is going to hold the source fields and y will be going to hold the target fields"
      ]
    },
    {
      "cell_type": "code",
      "execution_count": null,
      "id": "75ab29ab",
      "metadata": {
        "id": "75ab29ab"
      },
      "outputs": [],
      "source": [
        "X = maindata.drop(maindata[['avg_delay']],axis=1) "
      ]
    },
    {
      "cell_type": "code",
      "execution_count": null,
      "id": "6412c62b",
      "metadata": {
        "id": "6412c62b"
      },
      "outputs": [],
      "source": [
        "y = maindata['avg_delay']"
      ]
    },
    {
      "cell_type": "markdown",
      "id": "1c2942bf",
      "metadata": {
        "id": "1c2942bf"
      },
      "source": [
        "#### You are expected to split both the dataframes into train and test format in 60:40 ratio \n",
        "\n",
        "- Note - The expected output should be in \"X_train\", \"X_loc_test\", \"y_train\", \"y_loc_test\" format "
      ]
    },
    {
      "cell_type": "code",
      "execution_count": null,
      "id": "d92160a5",
      "metadata": {
        "id": "d92160a5"
      },
      "outputs": [],
      "source": [
        "X_train, X_loc_test, y_train, y_loc_test = train_test_split(X, y, train_size = 0.6, test_size =0.4,shuffle=False)"
      ]
    },
    {
      "cell_type": "markdown",
      "source": [
        "### Please check for the number of rows and columns of all the new dataframes (all 4)"
      ],
      "metadata": {
        "id": "p4OME62pDufR"
      },
      "id": "p4OME62pDufR"
    },
    {
      "cell_type": "code",
      "execution_count": null,
      "id": "48328d0a",
      "metadata": {
        "id": "48328d0a",
        "colab": {
          "base_uri": "https://localhost:8080/"
        },
        "outputId": "eecddcbb-b21d-4c88-c2ce-27b0b3961dba"
      },
      "outputs": [
        {
          "output_type": "stream",
          "name": "stdout",
          "text": [
            "X_train - (23494, 10)\n",
            "X_loc_test - (15664, 10)\n",
            "y_train - (23494,)\n",
            "y_loc_test - (15664,)\n"
          ]
        }
      ],
      "source": [
        "print(f\"X_train - {X_train.shape}\\nX_loc_test - {X_loc_test.shape}\\ny_train - {y_train.shape}\\ny_loc_test - {y_loc_test.shape}\")"
      ]
    },
    {
      "cell_type": "markdown",
      "id": "4a68ed71",
      "metadata": {
        "id": "4a68ed71"
      },
      "source": [
        "### Now you are expected to split the \"X_loc_test\" and \"y_loc_test\" dataset into \"Test\" and \"Validation\" (as the names given below) dataframe with 50:50 format \n",
        "\n",
        "- Note - The expected output should be in \"X_val\", \"X_test\", \"y_val\", \"y_test\" format"
      ]
    },
    {
      "cell_type": "code",
      "execution_count": null,
      "id": "b56c62f2",
      "metadata": {
        "id": "b56c62f2"
      },
      "outputs": [],
      "source": [
        "X_val, X_test, y_val, y_test = train_test_split(X_loc_test, y_loc_test, train_size = 0.5, test_size =0.5,shuffle=False)"
      ]
    },
    {
      "cell_type": "markdown",
      "source": [
        "### Please check for the number of rows and columns of all the 4 dataframes "
      ],
      "metadata": {
        "id": "bJTSAskvERH1"
      },
      "id": "bJTSAskvERH1"
    },
    {
      "cell_type": "code",
      "execution_count": null,
      "id": "845d7564",
      "metadata": {
        "id": "845d7564",
        "colab": {
          "base_uri": "https://localhost:8080/"
        },
        "outputId": "0850acc1-4b50-4d18-ad52-d932c27db9d6"
      },
      "outputs": [
        {
          "output_type": "stream",
          "name": "stdout",
          "text": [
            "X_val - (7832, 10)\n",
            "X_test - (7832, 10)\n",
            "y_val - (7832,)\n",
            "y_test - (7832,)\n"
          ]
        }
      ],
      "source": [
        "print(f\"X_val - {X_val.shape}\\nX_test - {X_test.shape}\\ny_val - {y_val.shape}\\ny_test - {y_test.shape}\")"
      ]
    },
    {
      "cell_type": "markdown",
      "id": "110fa872",
      "metadata": {
        "id": "110fa872"
      },
      "source": [
        "# Exploratory Data Analysis (EDA) "
      ]
    },
    {
      "cell_type": "markdown",
      "id": "ffc8fe0f",
      "metadata": {
        "id": "ffc8fe0f"
      },
      "source": [
        "### Distribution Plot of the target variable (use the dataframe which contains the target field)\n",
        "\n",
        "- Note - You are expected to make a distribution plot for the target variable "
      ]
    },
    {
      "cell_type": "code",
      "execution_count": null,
      "id": "ba2bf8ed",
      "metadata": {
        "id": "ba2bf8ed",
        "colab": {
          "base_uri": "https://localhost:8080/",
          "height": 280
        },
        "outputId": "db7fa4ba-4f26-4bd4-f2e6-0fc2437c066a"
      },
      "outputs": [
        {
          "output_type": "display_data",
          "data": {
            "text/plain": [
              "<Figure size 432x288 with 1 Axes>"
            ],
            "image/png": "[encoded data removed]"
          },
          "metadata": {
            "needs_background": "light"
          }
        }
      ],
      "source": [
        "sns.distplot(maindata['avg_delay'],kde=False,bins=30)\n",
        "plt.show()"
      ]
    },
    {
      "cell_type": "markdown",
      "id": "d0e323a3",
      "metadata": {
        "id": "d0e323a3"
      },
      "source": [
        "### You are expected to group the X_train dataset on 'name_customer' column with 'doc_id' in the x_train set\n",
        "\n",
        "### Need to store the outcome into a new dataframe \n",
        "\n",
        "- Note code given for groupby statement- X_train.groupby(by=['name_customer'], as_index=False)['doc_id'].count()"
      ]
    },
    {
      "cell_type": "code",
      "execution_count": null,
      "id": "f7acf0ee",
      "metadata": {
        "id": "f7acf0ee"
      },
      "outputs": [],
      "source": [
        "new_df=X_train.groupby(by=['name_customer'], as_index=False)['doc_id'].count()"
      ]
    },
    {
      "cell_type": "markdown",
      "source": [
        "### You can make another distribution plot of the \"doc_id\" column from x_train"
      ],
      "metadata": {
        "id": "cA43bFffFt6i"
      },
      "id": "cA43bFffFt6i"
    },
    {
      "cell_type": "code",
      "execution_count": null,
      "id": "9576bf33",
      "metadata": {
        "id": "9576bf33",
        "colab": {
          "base_uri": "https://localhost:8080/",
          "height": 280
        },
        "outputId": "773473c3-c3f1-4288-e2d8-7cfc24bce037"
      },
      "outputs": [
        {
          "output_type": "display_data",
          "data": {
            "text/plain": [
              "<Figure size 432x288 with 1 Axes>"
            ],
            "image/png": "[encoded data removed]"
          },
          "metadata": {
            "needs_background": "light"
          }
        }
      ],
      "source": [
        "sns.distplot(X_train['doc_id'],kde=False,bins=30)\n",
        "plt.ylim(0)\n",
        "plt.show()"
      ]
    },
    {
      "cell_type": "markdown",
      "id": "fba2c44f",
      "metadata": {
        "id": "fba2c44f"
      },
      "source": [
        "#### Create a Distribution plot only for business_year and a seperate distribution plot of \"business_year\" column along with the doc_id\" column\n"
      ]
    },
    {
      "cell_type": "code",
      "source": [
        "sns.distplot(X_train['buisness_year'],kde=False,bins=30)\n",
        "plt.ylim(0)\n",
        "plt.show()"
      ],
      "metadata": {
        "colab": {
          "base_uri": "https://localhost:8080/",
          "height": 280
        },
        "id": "8cUW6b_evE50",
        "outputId": "e0eae0f6-9ea5-48a4-eedb-132e6e1af2e4"
      },
      "id": "8cUW6b_evE50",
      "execution_count": null,
      "outputs": [
        {
          "output_type": "display_data",
          "data": {
            "text/plain": [
              "<Figure size 432x288 with 1 Axes>"
            ],
            "image/png": "[encoded data removed]"
          },
          "metadata": {
            "needs_background": "light"
          }
        }
      ]
    },
    {
      "cell_type": "code",
      "execution_count": null,
      "id": "4fecec77",
      "metadata": {
        "id": "4fecec77",
        "colab": {
          "base_uri": "https://localhost:8080/",
          "height": 278
        },
        "outputId": "696c7e4b-acd9-4bda-bebd-d13cdd39c757"
      },
      "outputs": [
        {
          "output_type": "display_data",
          "data": {
            "text/plain": [
              "<Figure size 432x288 with 1 Axes>"
            ],
            "image/png": "[encoded data removed]"
          },
          "metadata": {
            "needs_background": "light"
          }
        }
      ],
      "source": [
        "sns.distplot(X_train[['buisness_year','doc_id']],kde=False,bins=30)\n",
        "plt.ylim(0)\n",
        "plt.show()"
      ]
    },
    {
      "cell_type": "markdown",
      "id": "968fbcc9",
      "metadata": {
        "id": "968fbcc9"
      },
      "source": [
        "# Feature Engineering "
      ]
    },
    {
      "cell_type": "markdown",
      "source": [
        "### Display and describe the X_train dataframe "
      ],
      "metadata": {
        "id": "jbh6CyGqH3XE"
      },
      "id": "jbh6CyGqH3XE"
    },
    {
      "cell_type": "code",
      "execution_count": null,
      "id": "e6bcf307",
      "metadata": {
        "id": "e6bcf307",
        "colab": {
          "base_uri": "https://localhost:8080/",
          "height": 574
        },
        "outputId": "dfb4677c-d1ab-4720-bbef-58bc1c4db86f"
      },
      "outputs": [
        {
          "output_type": "execute_result",
          "data": {
            "text/plain": [
              "      business_code cust_number        name_customer  buisness_year  \\\n",
              "0              U001  0200769623         WAL-MAR corp           2020   \n",
              "1              U001  0200980828               BEN E            2019   \n",
              "2              U001  0200792734           MDV/ trust           2019   \n",
              "4              U001  0200769623   WAL-MAR foundation           2019   \n",
              "5              CA02  0140106181     THE  corporation           2019   \n",
              "...             ...         ...                  ...            ...   \n",
              "29659          U001  0200772670  ASSOCIAT associates           2019   \n",
              "29662          U001  0200794332     COST corporation           2020   \n",
              "29663          U001  0200769623   WAL-MAR associates           2019   \n",
              "29664          U001  0200696090               UNITE            2019   \n",
              "29665          U001   200794332              COST in           2019   \n",
              "\n",
              "             doc_id posting_date due_in_date baseline_create_date  \\\n",
              "0      1.930438e+09   2020-01-26  2020-02-10           2020-01-26   \n",
              "1      1.929646e+09   2019-07-22  2019-08-11           2019-07-22   \n",
              "2      1.929874e+09   2019-09-14  2019-09-29           2019-09-14   \n",
              "4      1.930148e+09   2019-11-13  2019-11-28           2019-11-13   \n",
              "5      2.960581e+09   2019-09-20  2019-10-04           2019-09-24   \n",
              "...             ...          ...         ...                  ...   \n",
              "29659  1.929725e+09   2019-08-08  2019-08-23           2019-08-08   \n",
              "29662  1.930469e+09   2020-02-06  2020-02-21           2020-02-06   \n",
              "29663  1.929143e+09   2019-04-14  2019-04-29           2019-04-14   \n",
              "29664  1.928950e+09   2019-03-18  2019-04-02           2019-03-18   \n",
              "29665  1.929087e+09   2019-04-08  2019-04-23           2019-04-08   \n",
              "\n",
              "      cust_payment_terms  converted_usd  \n",
              "0                   NAH4      54273.280  \n",
              "1                   NAD1      79656.600  \n",
              "2                   NAA8       2253.860  \n",
              "4                   NAH4      33133.290  \n",
              "5                   CA10      15558.088  \n",
              "...                  ...            ...  \n",
              "29659               NAU5      17737.190  \n",
              "29662               NAAX      62408.160  \n",
              "29663               NAH4      20265.150  \n",
              "29664               NAA8       4962.340  \n",
              "29665               NAAX       8041.590  \n",
              "\n",
              "[23494 rows x 10 columns]"
            ],
            "text/html": [
              "\n",
              "  <div id=\"df-1fff7b70-e9b6-4894-ac17-a9678656c24d\">\n",
              "    <div class=\"colab-df-container\">\n",
              "      <div>\n",
              "<style scoped>\n",
              "    .dataframe tbody tr th:only-of-type {\n",
              "        vertical-align: middle;\n",
              "    }\n",
              "\n",
              "    .dataframe tbody tr th {\n",
              "        vertical-align: top;\n",
              "    }\n",
              "\n",
              "    .dataframe thead th {\n",
              "        text-align: right;\n",
              "    }\n",
              "</style>\n",
              "<table border=\"1\" class=\"dataframe\">\n",
              "  <thead>\n",
              "    <tr style=\"text-align: right;\">\n",
              "      <th></th>\n",
              "      <th>business_code</th>\n",
              "      <th>cust_number</th>\n",
              "      <th>name_customer</th>\n",
              "      <th>buisness_year</th>\n",
              "      <th>doc_id</th>\n",
              "      <th>posting_date</th>\n",
              "      <th>due_in_date</th>\n",
              "      <th>baseline_create_date</th>\n",
              "      <th>cust_payment_terms</th>\n",
              "      <th>converted_usd</th>\n",
              "    </tr>\n",
              "  </thead>\n",
              "  <tbody>\n",
              "    <tr>\n",
              "      <th>0</th>\n",
              "      <td>U001</td>\n",
              "      <td>0200769623</td>\n",
              "      <td>WAL-MAR corp</td>\n",
              "      <td>2020</td>\n",
              "      <td>1.930438e+09</td>\n",
              "      <td>2020-01-26</td>\n",
              "      <td>2020-02-10</td>\n",
              "      <td>2020-01-26</td>\n",
              "      <td>NAH4</td>\n",
              "      <td>54273.280</td>\n",
              "    </tr>\n",
              "    <tr>\n",
              "      <th>1</th>\n",
              "      <td>U001</td>\n",
              "      <td>0200980828</td>\n",
              "      <td>BEN E</td>\n",
              "      <td>2019</td>\n",
              "      <td>1.929646e+09</td>\n",
              "      <td>2019-07-22</td>\n",
              "      <td>2019-08-11</td>\n",
              "      <td>2019-07-22</td>\n",
              "      <td>NAD1</td>\n",
              "      <td>79656.600</td>\n",
              "    </tr>\n",
              "    <tr>\n",
              "      <th>2</th>\n",
              "      <td>U001</td>\n",
              "      <td>0200792734</td>\n",
              "      <td>MDV/ trust</td>\n",
              "      <td>2019</td>\n",
              "      <td>1.929874e+09</td>\n",
              "      <td>2019-09-14</td>\n",
              "      <td>2019-09-29</td>\n",
              "      <td>2019-09-14</td>\n",
              "      <td>NAA8</td>\n",
              "      <td>2253.860</td>\n",
              "    </tr>\n",
              "    <tr>\n",
              "      <th>4</th>\n",
              "      <td>U001</td>\n",
              "      <td>0200769623</td>\n",
              "      <td>WAL-MAR foundation</td>\n",
              "      <td>2019</td>\n",
              "      <td>1.930148e+09</td>\n",
              "      <td>2019-11-13</td>\n",
              "      <td>2019-11-28</td>\n",
              "      <td>2019-11-13</td>\n",
              "      <td>NAH4</td>\n",
              "      <td>33133.290</td>\n",
              "    </tr>\n",
              "    <tr>\n",
              "      <th>5</th>\n",
              "      <td>CA02</td>\n",
              "      <td>0140106181</td>\n",
              "      <td>THE  corporation</td>\n",
              "      <td>2019</td>\n",
              "      <td>2.960581e+09</td>\n",
              "      <td>2019-09-20</td>\n",
              "      <td>2019-10-04</td>\n",
              "      <td>2019-09-24</td>\n",
              "      <td>CA10</td>\n",
              "      <td>15558.088</td>\n",
              "    </tr>\n",
              "    <tr>\n",
              "      <th>...</th>\n",
              "      <td>...</td>\n",
              "      <td>...</td>\n",
              "      <td>...</td>\n",
              "      <td>...</td>\n",
              "      <td>...</td>\n",
              "      <td>...</td>\n",
              "      <td>...</td>\n",
              "      <td>...</td>\n",
              "      <td>...</td>\n",
              "      <td>...</td>\n",
              "    </tr>\n",
              "    <tr>\n",
              "      <th>29659</th>\n",
              "      <td>U001</td>\n",
              "      <td>0200772670</td>\n",
              "      <td>ASSOCIAT associates</td>\n",
              "      <td>2019</td>\n",
              "      <td>1.929725e+09</td>\n",
              "      <td>2019-08-08</td>\n",
              "      <td>2019-08-23</td>\n",
              "      <td>2019-08-08</td>\n",
              "      <td>NAU5</td>\n",
              "      <td>17737.190</td>\n",
              "    </tr>\n",
              "    <tr>\n",
              "      <th>29662</th>\n",
              "      <td>U001</td>\n",
              "      <td>0200794332</td>\n",
              "      <td>COST corporation</td>\n",
              "      <td>2020</td>\n",
              "      <td>1.930469e+09</td>\n",
              "      <td>2020-02-06</td>\n",
              "      <td>2020-02-21</td>\n",
              "      <td>2020-02-06</td>\n",
              "      <td>NAAX</td>\n",
              "      <td>62408.160</td>\n",
              "    </tr>\n",
              "    <tr>\n",
              "      <th>29663</th>\n",
              "      <td>U001</td>\n",
              "      <td>0200769623</td>\n",
              "      <td>WAL-MAR associates</td>\n",
              "      <td>2019</td>\n",
              "      <td>1.929143e+09</td>\n",
              "      <td>2019-04-14</td>\n",
              "      <td>2019-04-29</td>\n",
              "      <td>2019-04-14</td>\n",
              "      <td>NAH4</td>\n",
              "      <td>20265.150</td>\n",
              "    </tr>\n",
              "    <tr>\n",
              "      <th>29664</th>\n",
              "      <td>U001</td>\n",
              "      <td>0200696090</td>\n",
              "      <td>UNITE</td>\n",
              "      <td>2019</td>\n",
              "      <td>1.928950e+09</td>\n",
              "      <td>2019-03-18</td>\n",
              "      <td>2019-04-02</td>\n",
              "      <td>2019-03-18</td>\n",
              "      <td>NAA8</td>\n",
              "      <td>4962.340</td>\n",
              "    </tr>\n",
              "    <tr>\n",
              "      <th>29665</th>\n",
              "      <td>U001</td>\n",
              "      <td>200794332</td>\n",
              "      <td>COST in</td>\n",
              "      <td>2019</td>\n",
              "      <td>1.929087e+09</td>\n",
              "      <td>2019-04-08</td>\n",
              "      <td>2019-04-23</td>\n",
              "      <td>2019-04-08</td>\n",
              "      <td>NAAX</td>\n",
              "      <td>8041.590</td>\n",
              "    </tr>\n",
              "  </tbody>\n",
              "</table>\n",
              "<p>23494 rows × 10 columns</p>\n",
              "</div>\n",
              "      <button class=\"colab-df-convert\" onclick=\"convertToInteractive('df-1fff7b70-e9b6-4894-ac17-a9678656c24d')\"\n",
              "              title=\"Convert this dataframe to an interactive table.\"\n",
              "              style=\"display:none;\">\n",
              "        \n",
              "  <svg xmlns=\"http://www.w3.org/2000/svg\" height=\"24px\"viewBox=\"0 0 24 24\"\n",
              "       width=\"24px\">\n",
              "    <path d=\"M0 0h24v24H0V0z\" fill=\"none\"/>\n",
              "    <path d=\"M18.56 5.44l.94 2.06.94-2.06 2.06-.94-2.06-.94-.94-2.06-.94 2.06-2.06.94zm-11 1L8.5 8.5l.94-2.06 2.06-.94-2.06-.94L8.5 2.5l-.94 2.06-2.06.94zm10 10l.94 2.06.94-2.06 2.06-.94-2.06-.94-.94-2.06-.94 2.06-2.06.94z\"/><path d=\"M17.41 7.96l-1.37-1.37c-.4-.4-.92-.59-1.43-.59-.52 0-1.04.2-1.43.59L10.3 9.45l-7.72 7.72c-.78.78-.78 2.05 0 2.83L4 21.41c.39.39.9.59 1.41.59.51 0 1.02-.2 1.41-.59l7.78-7.78 2.81-2.81c.8-.78.8-2.07 0-2.86zM5.41 20L4 18.59l7.72-7.72 1.47 1.35L5.41 20z\"/>\n",
              "  </svg>\n",
              "      </button>\n",
              "      \n",
              "  <style>\n",
              "    .colab-df-container {\n",
              "      display:flex;\n",
              "      flex-wrap:wrap;\n",
              "      gap: 12px;\n",
              "    }\n",
              "\n",
              "    .colab-df-convert {\n",
              "      background-color: #E8F0FE;\n",
              "      border: none;\n",
              "      border-radius: 50%;\n",
              "      cursor: pointer;\n",
              "      display: none;\n",
              "      fill: #1967D2;\n",
              "      height: 32px;\n",
              "      padding: 0 0 0 0;\n",
              "      width: 32px;\n",
              "    }\n",
              "\n",
              "    .colab-df-convert:hover {\n",
              "      background-color: #E2EBFA;\n",
              "      box-shadow: 0px 1px 2px rgba(60, 64, 67, 0.3), 0px 1px 3px 1px rgba(60, 64, 67, 0.15);\n",
              "      fill: #174EA6;\n",
              "    }\n",
              "\n",
              "    [theme=dark] .colab-df-convert {\n",
              "      background-color: #3B4455;\n",
              "      fill: #D2E3FC;\n",
              "    }\n",
              "\n",
              "    [theme=dark] .colab-df-convert:hover {\n",
              "      background-color: #434B5C;\n",
              "      box-shadow: 0px 1px 3px 1px rgba(0, 0, 0, 0.15);\n",
              "      filter: drop-shadow(0px 1px 2px rgba(0, 0, 0, 0.3));\n",
              "      fill: #FFFFFF;\n",
              "    }\n",
              "  </style>\n",
              "\n",
              "      <script>\n",
              "        const buttonEl =\n",
              "          document.querySelector('#df-1fff7b70-e9b6-4894-ac17-a9678656c24d button.colab-df-convert');\n",
              "        buttonEl.style.display =\n",
              "          google.colab.kernel.accessAllowed ? 'block' : 'none';\n",
              "\n",
              "        async function convertToInteractive(key) {\n",
              "          const element = document.querySelector('#df-1fff7b70-e9b6-4894-ac17-a9678656c24d');\n",
              "          const dataTable =\n",
              "            await google.colab.kernel.invokeFunction('convertToInteractive',\n",
              "                                                     [key], {});\n",
              "          if (!dataTable) return;\n",
              "\n",
              "          const docLinkHtml = 'Like what you see? Visit the ' +\n",
              "            '<a target=\"_blank\" href=https://colab.research.google.com/notebooks/data_table.ipynb>data table notebook</a>'\n",
              "            + ' to learn more about interactive tables.';\n",
              "          element.innerHTML = '';\n",
              "          dataTable['output_type'] = 'display_data';\n",
              "          await google.colab.output.renderOutput(dataTable, element);\n",
              "          const docLink = document.createElement('div');\n",
              "          docLink.innerHTML = docLinkHtml;\n",
              "          element.appendChild(docLink);\n",
              "        }\n",
              "      </script>\n",
              "    </div>\n",
              "  </div>\n",
              "  "
            ]
          },
          "metadata": {},
          "execution_count": 214
        }
      ],
      "source": [
        "X_train"
      ]
    },
    {
      "cell_type": "code",
      "execution_count": null,
      "id": "08ccc819",
      "metadata": {
        "id": "08ccc819",
        "colab": {
          "base_uri": "https://localhost:8080/",
          "height": 300
        },
        "outputId": "be8df40a-811f-4c00-bc59-a719858a4ac8"
      },
      "outputs": [
        {
          "output_type": "execute_result",
          "data": {
            "text/plain": [
              "       buisness_year        doc_id  converted_usd\n",
              "count   23494.000000  2.349400e+04   23494.000000\n",
              "mean     2019.132842  2.012017e+09   30762.476822\n",
              "std         0.339412  2.853757e+08   36595.303329\n",
              "min      2019.000000  1.928502e+09       2.400000\n",
              "25%      2019.000000  1.929181e+09    4620.800000\n",
              "50%      2019.000000  1.929733e+09   17027.670000\n",
              "75%      2019.000000  1.930209e+09   45545.810000\n",
              "max      2020.000000  9.500000e+09  668593.360000"
            ],
            "text/html": [
              "\n",
              "  <div id=\"df-dbd10da8-efde-46b5-9cab-13886e7d1dfb\">\n",
              "    <div class=\"colab-df-container\">\n",
              "      <div>\n",
              "<style scoped>\n",
              "    .dataframe tbody tr th:only-of-type {\n",
              "        vertical-align: middle;\n",
              "    }\n",
              "\n",
              "    .dataframe tbody tr th {\n",
              "        vertical-align: top;\n",
              "    }\n",
              "\n",
              "    .dataframe thead th {\n",
              "        text-align: right;\n",
              "    }\n",
              "</style>\n",
              "<table border=\"1\" class=\"dataframe\">\n",
              "  <thead>\n",
              "    <tr style=\"text-align: right;\">\n",
              "      <th></th>\n",
              "      <th>buisness_year</th>\n",
              "      <th>doc_id</th>\n",
              "      <th>converted_usd</th>\n",
              "    </tr>\n",
              "  </thead>\n",
              "  <tbody>\n",
              "    <tr>\n",
              "      <th>count</th>\n",
              "      <td>23494.000000</td>\n",
              "      <td>2.349400e+04</td>\n",
              "      <td>23494.000000</td>\n",
              "    </tr>\n",
              "    <tr>\n",
              "      <th>mean</th>\n",
              "      <td>2019.132842</td>\n",
              "      <td>2.012017e+09</td>\n",
              "      <td>30762.476822</td>\n",
              "    </tr>\n",
              "    <tr>\n",
              "      <th>std</th>\n",
              "      <td>0.339412</td>\n",
              "      <td>2.853757e+08</td>\n",
              "      <td>36595.303329</td>\n",
              "    </tr>\n",
              "    <tr>\n",
              "      <th>min</th>\n",
              "      <td>2019.000000</td>\n",
              "      <td>1.928502e+09</td>\n",
              "      <td>2.400000</td>\n",
              "    </tr>\n",
              "    <tr>\n",
              "      <th>25%</th>\n",
              "      <td>2019.000000</td>\n",
              "      <td>1.929181e+09</td>\n",
              "      <td>4620.800000</td>\n",
              "    </tr>\n",
              "    <tr>\n",
              "      <th>50%</th>\n",
              "      <td>2019.000000</td>\n",
              "      <td>1.929733e+09</td>\n",
              "      <td>17027.670000</td>\n",
              "    </tr>\n",
              "    <tr>\n",
              "      <th>75%</th>\n",
              "      <td>2019.000000</td>\n",
              "      <td>1.930209e+09</td>\n",
              "      <td>45545.810000</td>\n",
              "    </tr>\n",
              "    <tr>\n",
              "      <th>max</th>\n",
              "      <td>2020.000000</td>\n",
              "      <td>9.500000e+09</td>\n",
              "      <td>668593.360000</td>\n",
              "    </tr>\n",
              "  </tbody>\n",
              "</table>\n",
              "</div>\n",
              "      <button class=\"colab-df-convert\" onclick=\"convertToInteractive('df-dbd10da8-efde-46b5-9cab-13886e7d1dfb')\"\n",
              "              title=\"Convert this dataframe to an interactive table.\"\n",
              "              style=\"display:none;\">\n",
              "        \n",
              "  <svg xmlns=\"http://www.w3.org/2000/svg\" height=\"24px\"viewBox=\"0 0 24 24\"\n",
              "       width=\"24px\">\n",
              "    <path d=\"M0 0h24v24H0V0z\" fill=\"none\"/>\n",
              "    <path d=\"M18.56 5.44l.94 2.06.94-2.06 2.06-.94-2.06-.94-.94-2.06-.94 2.06-2.06.94zm-11 1L8.5 8.5l.94-2.06 2.06-.94-2.06-.94L8.5 2.5l-.94 2.06-2.06.94zm10 10l.94 2.06.94-2.06 2.06-.94-2.06-.94-.94-2.06-.94 2.06-2.06.94z\"/><path d=\"M17.41 7.96l-1.37-1.37c-.4-.4-.92-.59-1.43-.59-.52 0-1.04.2-1.43.59L10.3 9.45l-7.72 7.72c-.78.78-.78 2.05 0 2.83L4 21.41c.39.39.9.59 1.41.59.51 0 1.02-.2 1.41-.59l7.78-7.78 2.81-2.81c.8-.78.8-2.07 0-2.86zM5.41 20L4 18.59l7.72-7.72 1.47 1.35L5.41 20z\"/>\n",
              "  </svg>\n",
              "      </button>\n",
              "      \n",
              "  <style>\n",
              "    .colab-df-container {\n",
              "      display:flex;\n",
              "      flex-wrap:wrap;\n",
              "      gap: 12px;\n",
              "    }\n",
              "\n",
              "    .colab-df-convert {\n",
              "      background-color: #E8F0FE;\n",
              "      border: none;\n",
              "      border-radius: 50%;\n",
              "      cursor: pointer;\n",
              "      display: none;\n",
              "      fill: #1967D2;\n",
              "      height: 32px;\n",
              "      padding: 0 0 0 0;\n",
              "      width: 32px;\n",
              "    }\n",
              "\n",
              "    .colab-df-convert:hover {\n",
              "      background-color: #E2EBFA;\n",
              "      box-shadow: 0px 1px 2px rgba(60, 64, 67, 0.3), 0px 1px 3px 1px rgba(60, 64, 67, 0.15);\n",
              "      fill: #174EA6;\n",
              "    }\n",
              "\n",
              "    [theme=dark] .colab-df-convert {\n",
              "      background-color: #3B4455;\n",
              "      fill: #D2E3FC;\n",
              "    }\n",
              "\n",
              "    [theme=dark] .colab-df-convert:hover {\n",
              "      background-color: #434B5C;\n",
              "      box-shadow: 0px 1px 3px 1px rgba(0, 0, 0, 0.15);\n",
              "      filter: drop-shadow(0px 1px 2px rgba(0, 0, 0, 0.3));\n",
              "      fill: #FFFFFF;\n",
              "    }\n",
              "  </style>\n",
              "\n",
              "      <script>\n",
              "        const buttonEl =\n",
              "          document.querySelector('#df-dbd10da8-efde-46b5-9cab-13886e7d1dfb button.colab-df-convert');\n",
              "        buttonEl.style.display =\n",
              "          google.colab.kernel.accessAllowed ? 'block' : 'none';\n",
              "\n",
              "        async function convertToInteractive(key) {\n",
              "          const element = document.querySelector('#df-dbd10da8-efde-46b5-9cab-13886e7d1dfb');\n",
              "          const dataTable =\n",
              "            await google.colab.kernel.invokeFunction('convertToInteractive',\n",
              "                                                     [key], {});\n",
              "          if (!dataTable) return;\n",
              "\n",
              "          const docLinkHtml = 'Like what you see? Visit the ' +\n",
              "            '<a target=\"_blank\" href=https://colab.research.google.com/notebooks/data_table.ipynb>data table notebook</a>'\n",
              "            + ' to learn more about interactive tables.';\n",
              "          element.innerHTML = '';\n",
              "          dataTable['output_type'] = 'display_data';\n",
              "          await google.colab.output.renderOutput(dataTable, element);\n",
              "          const docLink = document.createElement('div');\n",
              "          docLink.innerHTML = docLinkHtml;\n",
              "          element.appendChild(docLink);\n",
              "        }\n",
              "      </script>\n",
              "    </div>\n",
              "  </div>\n",
              "  "
            ]
          },
          "metadata": {},
          "execution_count": 215
        }
      ],
      "source": [
        "X_train.describe()"
      ]
    },
    {
      "cell_type": "markdown",
      "id": "abd7ac8b",
      "metadata": {
        "id": "abd7ac8b"
      },
      "source": [
        "#### The \"business_code\" column inside X_train, is a categorical column, so you need to perform Labelencoder on that particular column\n",
        "\n",
        "- Note - call the Label Encoder from sklearn library and use the fit() function on \"business_code\" column\n",
        "- Note - Please fill in the blanks (two) to complete this code"
      ]
    },
    {
      "cell_type": "code",
      "execution_count": null,
      "id": "7c223545",
      "metadata": {
        "id": "7c223545",
        "colab": {
          "base_uri": "https://localhost:8080/"
        },
        "outputId": "bf0d4e23-f696-4424-c1c3-a2f6e423e385"
      },
      "outputs": [
        {
          "output_type": "execute_result",
          "data": {
            "text/plain": [
              "LabelEncoder()"
            ]
          },
          "metadata": {},
          "execution_count": 216
        }
      ],
      "source": [
        "from sklearn.preprocessing import LabelEncoder\n",
        "business_coder = LabelEncoder()\n",
        "business_coder.fit(X_train['business_code'])"
      ]
    },
    {
      "cell_type": "markdown",
      "id": "f86f7d9c",
      "metadata": {
        "id": "f86f7d9c"
      },
      "source": [
        "#### You are expected to store the value into a new column i.e. \"business_code_enc\"\n",
        "\n",
        "- Note - For Training set you are expected to use fit_trainsform()\n",
        "- Note - For Test set you are expected to use the trainsform()\n",
        "- Note - For Validation set you are expected to use the trainsform()\n",
        "\n",
        "\n",
        "- Partial code is provided, please fill in the blanks "
      ]
    },
    {
      "cell_type": "code",
      "execution_count": null,
      "id": "4269c307",
      "metadata": {
        "id": "4269c307"
      },
      "outputs": [],
      "source": [
        "X_train['business_code_enc'] = business_coder.fit_transform(X_train['business_code'])"
      ]
    },
    {
      "cell_type": "code",
      "execution_count": null,
      "id": "70a53712",
      "metadata": {
        "id": "70a53712"
      },
      "outputs": [],
      "source": [
        "X_val['business_code_enc'] = business_coder.transform(X_val['business_code'])\n",
        "X_test['business_code_enc'] = business_coder.transform(X_test['business_code'])"
      ]
    },
    {
      "cell_type": "markdown",
      "source": [
        "### Display \"business_code\" and \"business_code_enc\" together from X_train dataframe "
      ],
      "metadata": {
        "id": "gdNYxTkqNfmz"
      },
      "id": "gdNYxTkqNfmz"
    },
    {
      "cell_type": "code",
      "execution_count": null,
      "id": "1196a002",
      "metadata": {
        "id": "1196a002",
        "colab": {
          "base_uri": "https://localhost:8080/",
          "height": 424
        },
        "outputId": "16fe3940-1496-4b34-86dc-7a676b6c0d74"
      },
      "outputs": [
        {
          "output_type": "execute_result",
          "data": {
            "text/plain": [
              "      business_code  business_code_enc\n",
              "0              U001                  1\n",
              "1              U001                  1\n",
              "2              U001                  1\n",
              "4              U001                  1\n",
              "5              CA02                  0\n",
              "...             ...                ...\n",
              "29659          U001                  1\n",
              "29662          U001                  1\n",
              "29663          U001                  1\n",
              "29664          U001                  1\n",
              "29665          U001                  1\n",
              "\n",
              "[23494 rows x 2 columns]"
            ],
            "text/html": [
              "\n",
              "  <div id=\"df-84943de8-ce84-48ab-8f15-64bae00ec820\">\n",
              "    <div class=\"colab-df-container\">\n",
              "      <div>\n",
              "<style scoped>\n",
              "    .dataframe tbody tr th:only-of-type {\n",
              "        vertical-align: middle;\n",
              "    }\n",
              "\n",
              "    .dataframe tbody tr th {\n",
              "        vertical-align: top;\n",
              "    }\n",
              "\n",
              "    .dataframe thead th {\n",
              "        text-align: right;\n",
              "    }\n",
              "</style>\n",
              "<table border=\"1\" class=\"dataframe\">\n",
              "  <thead>\n",
              "    <tr style=\"text-align: right;\">\n",
              "      <th></th>\n",
              "      <th>business_code</th>\n",
              "      <th>business_code_enc</th>\n",
              "    </tr>\n",
              "  </thead>\n",
              "  <tbody>\n",
              "    <tr>\n",
              "      <th>0</th>\n",
              "      <td>U001</td>\n",
              "      <td>1</td>\n",
              "    </tr>\n",
              "    <tr>\n",
              "      <th>1</th>\n",
              "      <td>U001</td>\n",
              "      <td>1</td>\n",
              "    </tr>\n",
              "    <tr>\n",
              "      <th>2</th>\n",
              "      <td>U001</td>\n",
              "      <td>1</td>\n",
              "    </tr>\n",
              "    <tr>\n",
              "      <th>4</th>\n",
              "      <td>U001</td>\n",
              "      <td>1</td>\n",
              "    </tr>\n",
              "    <tr>\n",
              "      <th>5</th>\n",
              "      <td>CA02</td>\n",
              "      <td>0</td>\n",
              "    </tr>\n",
              "    <tr>\n",
              "      <th>...</th>\n",
              "      <td>...</td>\n",
              "      <td>...</td>\n",
              "    </tr>\n",
              "    <tr>\n",
              "      <th>29659</th>\n",
              "      <td>U001</td>\n",
              "      <td>1</td>\n",
              "    </tr>\n",
              "    <tr>\n",
              "      <th>29662</th>\n",
              "      <td>U001</td>\n",
              "      <td>1</td>\n",
              "    </tr>\n",
              "    <tr>\n",
              "      <th>29663</th>\n",
              "      <td>U001</td>\n",
              "      <td>1</td>\n",
              "    </tr>\n",
              "    <tr>\n",
              "      <th>29664</th>\n",
              "      <td>U001</td>\n",
              "      <td>1</td>\n",
              "    </tr>\n",
              "    <tr>\n",
              "      <th>29665</th>\n",
              "      <td>U001</td>\n",
              "      <td>1</td>\n",
              "    </tr>\n",
              "  </tbody>\n",
              "</table>\n",
              "<p>23494 rows × 2 columns</p>\n",
              "</div>\n",
              "      <button class=\"colab-df-convert\" onclick=\"convertToInteractive('df-84943de8-ce84-48ab-8f15-64bae00ec820')\"\n",
              "              title=\"Convert this dataframe to an interactive table.\"\n",
              "              style=\"display:none;\">\n",
              "        \n",
              "  <svg xmlns=\"http://www.w3.org/2000/svg\" height=\"24px\"viewBox=\"0 0 24 24\"\n",
              "       width=\"24px\">\n",
              "    <path d=\"M0 0h24v24H0V0z\" fill=\"none\"/>\n",
              "    <path d=\"M18.56 5.44l.94 2.06.94-2.06 2.06-.94-2.06-.94-.94-2.06-.94 2.06-2.06.94zm-11 1L8.5 8.5l.94-2.06 2.06-.94-2.06-.94L8.5 2.5l-.94 2.06-2.06.94zm10 10l.94 2.06.94-2.06 2.06-.94-2.06-.94-.94-2.06-.94 2.06-2.06.94z\"/><path d=\"M17.41 7.96l-1.37-1.37c-.4-.4-.92-.59-1.43-.59-.52 0-1.04.2-1.43.59L10.3 9.45l-7.72 7.72c-.78.78-.78 2.05 0 2.83L4 21.41c.39.39.9.59 1.41.59.51 0 1.02-.2 1.41-.59l7.78-7.78 2.81-2.81c.8-.78.8-2.07 0-2.86zM5.41 20L4 18.59l7.72-7.72 1.47 1.35L5.41 20z\"/>\n",
              "  </svg>\n",
              "      </button>\n",
              "      \n",
              "  <style>\n",
              "    .colab-df-container {\n",
              "      display:flex;\n",
              "      flex-wrap:wrap;\n",
              "      gap: 12px;\n",
              "    }\n",
              "\n",
              "    .colab-df-convert {\n",
              "      background-color: #E8F0FE;\n",
              "      border: none;\n",
              "      border-radius: 50%;\n",
              "      cursor: pointer;\n",
              "      display: none;\n",
              "      fill: #1967D2;\n",
              "      height: 32px;\n",
              "      padding: 0 0 0 0;\n",
              "      width: 32px;\n",
              "    }\n",
              "\n",
              "    .colab-df-convert:hover {\n",
              "      background-color: #E2EBFA;\n",
              "      box-shadow: 0px 1px 2px rgba(60, 64, 67, 0.3), 0px 1px 3px 1px rgba(60, 64, 67, 0.15);\n",
              "      fill: #174EA6;\n",
              "    }\n",
              "\n",
              "    [theme=dark] .colab-df-convert {\n",
              "      background-color: #3B4455;\n",
              "      fill: #D2E3FC;\n",
              "    }\n",
              "\n",
              "    [theme=dark] .colab-df-convert:hover {\n",
              "      background-color: #434B5C;\n",
              "      box-shadow: 0px 1px 3px 1px rgba(0, 0, 0, 0.15);\n",
              "      filter: drop-shadow(0px 1px 2px rgba(0, 0, 0, 0.3));\n",
              "      fill: #FFFFFF;\n",
              "    }\n",
              "  </style>\n",
              "\n",
              "      <script>\n",
              "        const buttonEl =\n",
              "          document.querySelector('#df-84943de8-ce84-48ab-8f15-64bae00ec820 button.colab-df-convert');\n",
              "        buttonEl.style.display =\n",
              "          google.colab.kernel.accessAllowed ? 'block' : 'none';\n",
              "\n",
              "        async function convertToInteractive(key) {\n",
              "          const element = document.querySelector('#df-84943de8-ce84-48ab-8f15-64bae00ec820');\n",
              "          const dataTable =\n",
              "            await google.colab.kernel.invokeFunction('convertToInteractive',\n",
              "                                                     [key], {});\n",
              "          if (!dataTable) return;\n",
              "\n",
              "          const docLinkHtml = 'Like what you see? Visit the ' +\n",
              "            '<a target=\"_blank\" href=https://colab.research.google.com/notebooks/data_table.ipynb>data table notebook</a>'\n",
              "            + ' to learn more about interactive tables.';\n",
              "          element.innerHTML = '';\n",
              "          dataTable['output_type'] = 'display_data';\n",
              "          await google.colab.output.renderOutput(dataTable, element);\n",
              "          const docLink = document.createElement('div');\n",
              "          docLink.innerHTML = docLinkHtml;\n",
              "          element.appendChild(docLink);\n",
              "        }\n",
              "      </script>\n",
              "    </div>\n",
              "  </div>\n",
              "  "
            ]
          },
          "metadata": {},
          "execution_count": 219
        }
      ],
      "source": [
        "X_train[['business_code','business_code_enc']]"
      ]
    },
    {
      "cell_type": "markdown",
      "id": "11477224",
      "metadata": {
        "id": "11477224"
      },
      "source": [
        "#### Create a function called \"custom\" for dropping the columns 'business_code' from train, test and validation dataframe\n",
        "\n",
        "- Note - Fill in the blank to complete the code"
      ]
    },
    {
      "cell_type": "code",
      "execution_count": null,
      "id": "1052868a",
      "metadata": {
        "id": "1052868a"
      },
      "outputs": [],
      "source": [
        "def custom(col ,traindf = X_train,valdf = X_val,testdf = X_test):\n",
        "    traindf.drop(col, axis =1,inplace=True)\n",
        "    valdf.drop(col,axis=1 , inplace=True)\n",
        "    testdf.drop(col,axis=1 , inplace=True)\n",
        "\n",
        "    return traindf,valdf ,testdf"
      ]
    },
    {
      "cell_type": "markdown",
      "source": [
        "### Call the function by passing the column name which needed to be dropped from train, test and validation dataframes. Return updated dataframes to be stored in X_train ,X_val, X_test  \n",
        "\n",
        "- Note = Fill in the blank to complete the code "
      ],
      "metadata": {
        "id": "rI--ZuMbNLne"
      },
      "id": "rI--ZuMbNLne"
    },
    {
      "cell_type": "code",
      "execution_count": null,
      "id": "1a0f955c",
      "metadata": {
        "id": "1a0f955c"
      },
      "outputs": [],
      "source": [
        "X_train , X_val , X_test = custom(['business_code'])"
      ]
    },
    {
      "cell_type": "markdown",
      "id": "28b5b27e",
      "metadata": {
        "id": "28b5b27e"
      },
      "source": [
        "### Manually replacing str values with numbers, Here we are trying manually replace the customer numbers with some specific values like, 'CCCA' as 1, 'CCU' as 2 and so on. Also we are converting the datatype \"cust_number\" field to int type.\n",
        "\n",
        "- We are doing it for all the three dataframes as shown below. This is fully completed code. No need to modify anything here \n",
        "\n"
      ]
    },
    {
      "cell_type": "code",
      "execution_count": null,
      "id": "85dd129e",
      "metadata": {
        "id": "85dd129e"
      },
      "outputs": [],
      "source": [
        "X_train['cust_number'] = X_train['cust_number'].str.replace('CCCA',\"1\").str.replace('CCU',\"2\").str.replace('CC',\"3\").astype(int)\n",
        "X_test['cust_number'] = X_test['cust_number'].str.replace('CCCA',\"1\").str.replace('CCU',\"2\").str.replace('CC',\"3\").astype(int)\n",
        "X_val['cust_number'] = X_val['cust_number'].str.replace('CCCA',\"1\").str.replace('CCU',\"2\").str.replace('CC',\"3\").astype(int)"
      ]
    },
    {
      "cell_type": "markdown",
      "source": [
        "#### It differs from LabelEncoder by handling new classes and providing a value for it [Unknown]. Unknown will be added in fit and transform will take care of new item. It gives unknown class id.\n",
        "\n",
        "#### This will fit the encoder for all the unique values and introduce unknown value\n",
        "\n",
        "- Note - Keep this code as it is, we will be using this later on.  "
      ],
      "metadata": {
        "id": "U8vA-zmdPnJ8"
      },
      "id": "U8vA-zmdPnJ8"
    },
    {
      "cell_type": "code",
      "execution_count": null,
      "id": "151f48ba",
      "metadata": {
        "id": "151f48ba"
      },
      "outputs": [],
      "source": [
        "#For encoding unseen labels\n",
        "class EncoderExt(object):\n",
        "    def __init__(self):\n",
        "        self.label_encoder = LabelEncoder()\n",
        "    def fit(self, data_list):\n",
        "        self.label_encoder = self.label_encoder.fit(list(data_list) + ['Unknown'])\n",
        "        self.classes_ = self.label_encoder.classes_\n",
        "        return self\n",
        "    def transform(self, data_list):\n",
        "        new_data_list = list(data_list)\n",
        "        for unique_item in np.unique(data_list):\n",
        "            if unique_item not in self.label_encoder.classes_:\n",
        "                new_data_list = ['Unknown' if x==unique_item else x for x in new_data_list]\n",
        "        return self.label_encoder.transform(new_data_list)"
      ]
    },
    {
      "cell_type": "markdown",
      "id": "254c64e6",
      "metadata": {
        "id": "254c64e6"
      },
      "source": [
        "### Use the user define Label Encoder function called \"EncoderExt\" for the \"name_customer\" column\n",
        "\n",
        "- Note - Keep the code as it is, no need to change"
      ]
    },
    {
      "cell_type": "code",
      "execution_count": null,
      "id": "62b17eff",
      "metadata": {
        "id": "62b17eff"
      },
      "outputs": [],
      "source": [
        "label_encoder = EncoderExt()\n",
        "label_encoder.fit(X_train['name_customer'])\n",
        "X_train['name_customer_enc']=label_encoder.transform(X_train['name_customer'])\n",
        "X_val['name_customer_enc']=label_encoder.transform(X_val['name_customer'])\n",
        "X_test['name_customer_enc']=label_encoder.transform(X_test['name_customer'])"
      ]
    },
    {
      "cell_type": "markdown",
      "source": [
        "### As we have created the a new column \"name_customer_enc\", so now drop \"name_customer\" column from all three dataframes\n",
        "\n",
        "- Note - Keep the code as it is, no need to change"
      ],
      "metadata": {
        "id": "mK7LMoy2QZhy"
      },
      "id": "mK7LMoy2QZhy"
    },
    {
      "cell_type": "code",
      "execution_count": null,
      "id": "ef85f1c0",
      "metadata": {
        "id": "ef85f1c0"
      },
      "outputs": [],
      "source": [
        "X_train ,X_val, X_test = custom(['name_customer'])"
      ]
    },
    {
      "cell_type": "markdown",
      "id": "3aa09d22",
      "metadata": {
        "id": "3aa09d22"
      },
      "source": [
        "### Using Label Encoder for the \"cust_payment_terms\" column\n",
        "\n",
        "- Note - Keep the code as it is, no need to change"
      ]
    },
    {
      "cell_type": "code",
      "execution_count": null,
      "id": "6f9ab642",
      "metadata": {
        "id": "6f9ab642"
      },
      "outputs": [],
      "source": [
        "label_encoder1 = EncoderExt()\n",
        "label_encoder1.fit(X_train['cust_payment_terms'])\n",
        "X_train['cust_payment_terms_enc']=label_encoder1.transform(X_train['cust_payment_terms'])\n",
        "X_val['cust_payment_terms_enc']=label_encoder1.transform(X_val['cust_payment_terms'])\n",
        "X_test['cust_payment_terms_enc']=label_encoder1.transform(X_test['cust_payment_terms'])"
      ]
    },
    {
      "cell_type": "code",
      "execution_count": null,
      "id": "55f9a7c2",
      "metadata": {
        "id": "55f9a7c2"
      },
      "outputs": [],
      "source": [
        "X_train ,X_val, X_test = custom(['cust_payment_terms'])"
      ]
    },
    {
      "cell_type": "markdown",
      "id": "0788f42b",
      "metadata": {
        "id": "0788f42b"
      },
      "source": [
        "## Check the datatype of all the columns of Train, Test and Validation dataframes realted to X\n",
        "\n",
        "- Note - You are expected yo use dtype"
      ]
    },
    {
      "cell_type": "code",
      "execution_count": null,
      "id": "bc79a316",
      "metadata": {
        "id": "bc79a316",
        "colab": {
          "base_uri": "https://localhost:8080/"
        },
        "outputId": "3ffb8c72-f419-4235-cd4c-04ee7733b02e"
      },
      "outputs": [
        {
          "output_type": "execute_result",
          "data": {
            "text/plain": [
              "cust_number                        int64\n",
              "buisness_year                      int64\n",
              "doc_id                           float64\n",
              "posting_date              datetime64[ns]\n",
              "due_in_date               datetime64[ns]\n",
              "baseline_create_date      datetime64[ns]\n",
              "converted_usd                    float64\n",
              "business_code_enc                  int64\n",
              "name_customer_enc                  int64\n",
              "cust_payment_terms_enc             int64\n",
              "dtype: object"
            ]
          },
          "metadata": {},
          "execution_count": 228
        }
      ],
      "source": [
        "X_train.dtypes"
      ]
    },
    {
      "cell_type": "code",
      "execution_count": null,
      "id": "b33242d8",
      "metadata": {
        "id": "b33242d8",
        "colab": {
          "base_uri": "https://localhost:8080/"
        },
        "outputId": "a8a7f1bc-6d9f-46f0-ab43-8320e6c2474f"
      },
      "outputs": [
        {
          "output_type": "execute_result",
          "data": {
            "text/plain": [
              "cust_number                        int64\n",
              "buisness_year                      int64\n",
              "doc_id                           float64\n",
              "posting_date              datetime64[ns]\n",
              "due_in_date               datetime64[ns]\n",
              "baseline_create_date      datetime64[ns]\n",
              "converted_usd                    float64\n",
              "business_code_enc                  int64\n",
              "name_customer_enc                  int64\n",
              "cust_payment_terms_enc             int64\n",
              "dtype: object"
            ]
          },
          "metadata": {},
          "execution_count": 229
        }
      ],
      "source": [
        "X_test.dtypes"
      ]
    },
    {
      "cell_type": "code",
      "execution_count": null,
      "id": "6bd4da71",
      "metadata": {
        "id": "6bd4da71",
        "colab": {
          "base_uri": "https://localhost:8080/"
        },
        "outputId": "aec5ef29-97d6-4846-bfcf-4586ace64f0a"
      },
      "outputs": [
        {
          "output_type": "execute_result",
          "data": {
            "text/plain": [
              "cust_number                        int64\n",
              "buisness_year                      int64\n",
              "doc_id                           float64\n",
              "posting_date              datetime64[ns]\n",
              "due_in_date               datetime64[ns]\n",
              "baseline_create_date      datetime64[ns]\n",
              "converted_usd                    float64\n",
              "business_code_enc                  int64\n",
              "name_customer_enc                  int64\n",
              "cust_payment_terms_enc             int64\n",
              "dtype: object"
            ]
          },
          "metadata": {},
          "execution_count": 230
        }
      ],
      "source": [
        "X_val.dtypes"
      ]
    },
    {
      "cell_type": "markdown",
      "source": [
        "### From the above output you can notice their are multiple date columns with datetime format\n",
        "\n",
        "### In order to pass it into our model, we need to convert it into float format"
      ],
      "metadata": {
        "id": "LVfvuPiWPeMB"
      },
      "id": "LVfvuPiWPeMB"
    },
    {
      "cell_type": "markdown",
      "id": "9d344db9",
      "metadata": {
        "id": "9d344db9"
      },
      "source": [
        "### You need to extract day, month and year from the \"posting_date\" column \n",
        "\n",
        "1.   Extract days from \"posting_date\" column and store it into a new column \"day_of_postingdate\" for train, test and validation dataset \n",
        "2.   Extract months from \"posting_date\" column and store it into a new column \"month_of_postingdate\" for train, test and validation dataset\n",
        "3.   Extract year from \"posting_date\" column and store it into a new column \"year_of_postingdate\" for train, test and validation dataset \n",
        "\n",
        "\n",
        "\n",
        "- Note - You are supposed yo use \n",
        "\n",
        "*   dt.day\n",
        "*   dt.month\n",
        "*   dt.year\n",
        "\n",
        "\n",
        "\n",
        "\n"
      ]
    },
    {
      "cell_type": "code",
      "execution_count": null,
      "id": "6e3cdfd6",
      "metadata": {
        "id": "6e3cdfd6"
      },
      "outputs": [],
      "source": [
        "X_train['day_of_postingdate'] = X_train['posting_date'].dt.day\n",
        "X_train['month_of_postingdate'] = X_train['posting_date'].dt.month\n",
        "X_train['year_of_postingdate'] = X_train['posting_date'].dt.year\n",
        "\n",
        "X_val['day_of_postingdate'] = X_val['posting_date'].dt.day\n",
        "X_val['month_of_postingdate'] = X_val['posting_date'].dt.month\n",
        "X_val['year_of_postingdate'] = X_val['posting_date'].dt.year\n",
        "\n",
        "\n",
        "X_test['day_of_postingdate'] = X_test['posting_date'].dt.day\n",
        "X_test['month_of_postingdate'] = X_test['posting_date'].dt.month\n",
        "X_test['year_of_postingdate'] = X_test['posting_date'].dt.year"
      ]
    },
    {
      "cell_type": "markdown",
      "source": [
        "### pass the \"posting_date\" column into the Custom function for train, test and validation dataset"
      ],
      "metadata": {
        "id": "GyI-F853Rxa7"
      },
      "id": "GyI-F853Rxa7"
    },
    {
      "cell_type": "code",
      "source": [
        "X_train ,X_val, X_test = custom(['posting_date'])"
      ],
      "metadata": {
        "id": "FQHtQkrnRx_V"
      },
      "id": "FQHtQkrnRx_V",
      "execution_count": null,
      "outputs": []
    },
    {
      "cell_type": "markdown",
      "source": [
        "### You need to extract day, month and year from the \"baseline_create_date\" column \n",
        "\n",
        "1.   Extract days from \"baseline_create_date\" column and store it into a new column \"day_of_createdate\" for train, test and validation dataset \n",
        "2.   Extract months from \"baseline_create_date\" column and store it into a new column \"month_of_createdate\" for train, test and validation dataset\n",
        "3.   Extract year from \"baseline_create_date\" column and store it into a new column \"year_of_createdate\" for train, test and validation dataset \n",
        "\n",
        "\n",
        "\n",
        "- Note - You are supposed yo use \n",
        "\n",
        "*   dt.day\n",
        "*   dt.month\n",
        "*   dt.year\n",
        "\n",
        "\n",
        "- Note - Do as it is been shown in the previous two code boxes"
      ],
      "metadata": {
        "id": "GMnCaEcKReSw"
      },
      "id": "GMnCaEcKReSw"
    },
    {
      "cell_type": "markdown",
      "id": "ee4d83d0",
      "metadata": {
        "id": "ee4d83d0"
      },
      "source": [
        "### Extracting Day, Month, Year for 'baseline_create_date' column"
      ]
    },
    {
      "cell_type": "code",
      "execution_count": null,
      "id": "32b240e1",
      "metadata": {
        "id": "32b240e1"
      },
      "outputs": [],
      "source": [
        "\n",
        "X_train['day_of_createdate'] = X_train['baseline_create_date'].dt.day\n",
        "X_train['month_of_createdate'] = X_train['baseline_create_date'].dt.month\n",
        "X_train['year_of_createdate'] = X_train['baseline_create_date'].dt.year\n",
        "\n",
        "X_val['day_of_createdate'] = X_val['baseline_create_date'].dt.day\n",
        "X_val['month_of_createdate'] = X_val['baseline_create_date'].dt.month\n",
        "X_val['year_of_createdate'] = X_val['baseline_create_date'].dt.year\n",
        "\n",
        "\n",
        "X_test['day_of_createdate'] = X_test['baseline_create_date'].dt.day\n",
        "X_test['month_of_createdate'] = X_test['baseline_create_date'].dt.month\n",
        "X_test['year_of_createdate'] = X_test['baseline_create_date'].dt.year"
      ]
    },
    {
      "cell_type": "markdown",
      "source": [
        "### pass the \"baseline_create_date\" column into the Custom function for train, test and validation dataset"
      ],
      "metadata": {
        "id": "cFgwkS5rSDDs"
      },
      "id": "cFgwkS5rSDDs"
    },
    {
      "cell_type": "code",
      "source": [
        "X_train ,X_val, X_test = custom(['baseline_create_date'])"
      ],
      "metadata": {
        "id": "RGYa2BEQSDg3"
      },
      "id": "RGYa2BEQSDg3",
      "execution_count": null,
      "outputs": []
    },
    {
      "cell_type": "markdown",
      "id": "77c7a0df",
      "metadata": {
        "id": "77c7a0df"
      },
      "source": [
        "### You need to extract day, month and year from the \"due_in_date\" column \n",
        "\n",
        "1.   Extract days from \"due_in_date\" column and store it into a new column \"day_of_due\" for train, test and validation dataset \n",
        "2.   Extract months from \"due_in_date\" column and store it into a new column \"month_of_due\" for train, test and validation dataset\n",
        "3.   Extract year from \"due_in_date\" column and store it into a new column \"year_of_due\" for train, test and validation dataset \n",
        "\n",
        "\n",
        "\n",
        "- Note - You are supposed yo use \n",
        "\n",
        "*   dt.day\n",
        "*   dt.month\n",
        "*   dt.year\n",
        "\n",
        "- Note - Do as it is been shown in the previous code"
      ]
    },
    {
      "cell_type": "code",
      "execution_count": null,
      "id": "5c745547",
      "metadata": {
        "id": "5c745547"
      },
      "outputs": [],
      "source": [
        "X_train['day_of_due'] = X_train['due_in_date'].dt.day\n",
        "X_train['month_of_due'] = X_train['due_in_date'].dt.month\n",
        "X_train['year_of_due'] = X_train['due_in_date'].dt.year\n",
        "\n",
        "X_val['day_of_due'] = X_val['due_in_date'].dt.day\n",
        "X_val['month_of_due'] = X_val['due_in_date'].dt.month\n",
        "X_val['year_of_due'] = X_val['due_in_date'].dt.year\n",
        "\n",
        "X_test['day_of_due'] = X_test['due_in_date'].dt.day\n",
        "X_test['month_of_due'] = X_test['due_in_date'].dt.month\n",
        "X_test['year_of_due'] = X_test['due_in_date'].dt.year"
      ]
    },
    {
      "cell_type": "markdown",
      "source": [
        "pass the \"due_in_date\" column into the Custom function for train, test and validation dataset"
      ],
      "metadata": {
        "id": "FYLLzulGSvRd"
      },
      "id": "FYLLzulGSvRd"
    },
    {
      "cell_type": "code",
      "source": [
        "X_train ,X_val, X_test = custom(['due_in_date'])"
      ],
      "metadata": {
        "id": "1-s6QuY9Svrh"
      },
      "id": "1-s6QuY9Svrh",
      "execution_count": null,
      "outputs": []
    },
    {
      "cell_type": "markdown",
      "id": "1ae5d052",
      "metadata": {
        "id": "1ae5d052"
      },
      "source": [
        "### Check for the datatypes for train, test and validation set again\n",
        "\n",
        "- Note - all the data type should be in either int64 or float64 format \n"
      ]
    },
    {
      "cell_type": "code",
      "execution_count": null,
      "id": "aee9d828",
      "metadata": {
        "id": "aee9d828",
        "colab": {
          "base_uri": "https://localhost:8080/"
        },
        "outputId": "bfb1ca59-17df-4a37-be47-21c49612edf2"
      },
      "outputs": [
        {
          "output_type": "stream",
          "name": "stdout",
          "text": [
            "cust_number                 int64\n",
            "buisness_year               int64\n",
            "doc_id                    float64\n",
            "converted_usd             float64\n",
            "business_code_enc           int64\n",
            "name_customer_enc           int64\n",
            "cust_payment_terms_enc      int64\n",
            "day_of_postingdate          int64\n",
            "month_of_postingdate        int64\n",
            "year_of_postingdate         int64\n",
            "day_of_createdate           int64\n",
            "month_of_createdate         int64\n",
            "year_of_createdate          int64\n",
            "day_of_due                  int64\n",
            "month_of_due                int64\n",
            "year_of_due                 int64\n",
            "dtype: object\n",
            "\n",
            " cust_number                 int64\n",
            "buisness_year               int64\n",
            "doc_id                    float64\n",
            "converted_usd             float64\n",
            "business_code_enc           int64\n",
            "name_customer_enc           int64\n",
            "cust_payment_terms_enc      int64\n",
            "day_of_postingdate          int64\n",
            "month_of_postingdate        int64\n",
            "year_of_postingdate         int64\n",
            "day_of_createdate           int64\n",
            "month_of_createdate         int64\n",
            "year_of_createdate          int64\n",
            "day_of_due                  int64\n",
            "month_of_due                int64\n",
            "year_of_due                 int64\n",
            "dtype: object \n",
            "\n",
            " cust_number                 int64\n",
            "buisness_year               int64\n",
            "doc_id                    float64\n",
            "converted_usd             float64\n",
            "business_code_enc           int64\n",
            "name_customer_enc           int64\n",
            "cust_payment_terms_enc      int64\n",
            "day_of_postingdate          int64\n",
            "month_of_postingdate        int64\n",
            "year_of_postingdate         int64\n",
            "day_of_createdate           int64\n",
            "month_of_createdate         int64\n",
            "year_of_createdate          int64\n",
            "day_of_due                  int64\n",
            "month_of_due                int64\n",
            "year_of_due                 int64\n",
            "dtype: object\n"
          ]
        }
      ],
      "source": [
        "print(f'{X_train.dtypes}\\n\\n {X_val.dtypes} \\n\\n {X_test.dtypes}')"
      ]
    },
    {
      "cell_type": "markdown",
      "id": "65810f55",
      "metadata": {
        "id": "65810f55"
      },
      "source": [
        "# Feature Selection"
      ]
    },
    {
      "cell_type": "markdown",
      "id": "4bb1ad9f",
      "metadata": {
        "id": "4bb1ad9f"
      },
      "source": [
        "### Filter Method\n",
        "\n",
        "- Calling the VarianceThreshold Function \n",
        "- Note - Keep the code as it is, no need to change "
      ]
    },
    {
      "cell_type": "code",
      "execution_count": null,
      "id": "e882509f",
      "metadata": {
        "id": "e882509f",
        "colab": {
          "base_uri": "https://localhost:8080/"
        },
        "outputId": "1dbeaa36-d0af-4d5f-e763-d3481d1b2aab"
      },
      "outputs": [
        {
          "output_type": "execute_result",
          "data": {
            "text/plain": [
              "16"
            ]
          },
          "metadata": {},
          "execution_count": 238
        }
      ],
      "source": [
        "from sklearn.feature_selection import VarianceThreshold\n",
        "constant_filter = VarianceThreshold(threshold=0)\n",
        "constant_filter.fit(X_train)\n",
        "len(X_train.columns[constant_filter.get_support()])"
      ]
    },
    {
      "cell_type": "markdown",
      "source": [
        "- Note - Keep the code as it is, no need to change \n"
      ],
      "metadata": {
        "id": "V9531H3jR-W2"
      },
      "id": "V9531H3jR-W2"
    },
    {
      "cell_type": "code",
      "execution_count": null,
      "id": "c77c12e1",
      "metadata": {
        "id": "c77c12e1",
        "colab": {
          "base_uri": "https://localhost:8080/"
        },
        "outputId": "b9b8d20b-9784-442d-a3ae-1efc3eec1a0a"
      },
      "outputs": [
        {
          "output_type": "stream",
          "name": "stdout",
          "text": [
            "0\n"
          ]
        }
      ],
      "source": [
        "constant_columns = [column for column in X_train.columns\n",
        "                    if column not in X_train.columns[constant_filter.get_support()]]\n",
        "print(len(constant_columns))"
      ]
    },
    {
      "cell_type": "markdown",
      "id": "6d9b8610",
      "metadata": {
        "id": "6d9b8610"
      },
      "source": [
        "- transpose the feature matrice\n",
        "- print the number of duplicated features\n",
        "- select the duplicated features columns names\n",
        "\n",
        "- Note - Keep the code as it is, no need to change \n"
      ]
    },
    {
      "cell_type": "code",
      "execution_count": null,
      "id": "0fb7db95",
      "metadata": {
        "id": "0fb7db95",
        "colab": {
          "base_uri": "https://localhost:8080/"
        },
        "outputId": "2337c062-5228-423f-9d8b-3e8b468e6528"
      },
      "outputs": [
        {
          "output_type": "stream",
          "name": "stdout",
          "text": [
            "0\n"
          ]
        }
      ],
      "source": [
        "x_train_T = X_train.T\n",
        "print(x_train_T.duplicated().sum())\n",
        "duplicated_columns = x_train_T[x_train_T.duplicated()].index.values"
      ]
    },
    {
      "cell_type": "markdown",
      "id": "510fa831",
      "metadata": {
        "id": "510fa831"
      },
      "source": [
        "### Filtering depending upon correlation matrix value\n",
        "- We have created a function called handling correlation which is going to return fields based on the correlation matrix value with a threshold of 0.8\n",
        "\n",
        "- Note - Keep the code as it is, no need to change "
      ]
    },
    {
      "cell_type": "code",
      "execution_count": null,
      "id": "67731abc",
      "metadata": {
        "id": "67731abc"
      },
      "outputs": [],
      "source": [
        "def handling_correlation(X_train,threshold=0.8):\n",
        "    corr_features = set()\n",
        "    corr_matrix = X_train.corr()\n",
        "    for i in range(len(corr_matrix .columns)):\n",
        "        for j in range(i):\n",
        "            if abs(corr_matrix.iloc[i, j]) >threshold:\n",
        "                colname = corr_matrix.columns[i]\n",
        "                corr_features.add(colname)\n",
        "    return list(corr_features)"
      ]
    },
    {
      "cell_type": "markdown",
      "source": [
        "- Note : Here we are trying to find out the relevant fields, from X_train\n",
        "- Please fill in the blanks to call handling_correlation() function with a threshold value of 0.85"
      ],
      "metadata": {
        "id": "JaE_6qVgSXl3"
      },
      "id": "JaE_6qVgSXl3"
    },
    {
      "cell_type": "code",
      "execution_count": null,
      "id": "dd91d1a2",
      "metadata": {
        "id": "dd91d1a2",
        "colab": {
          "base_uri": "https://localhost:8080/"
        },
        "outputId": "bf7d7254-5062-4d53-fb2c-68e143ce3a62"
      },
      "outputs": [
        {
          "output_type": "execute_result",
          "data": {
            "text/plain": [
              "['year_of_postingdate',\n",
              " 'month_of_due',\n",
              " 'year_of_due',\n",
              " 'day_of_createdate',\n",
              " 'month_of_createdate',\n",
              " 'year_of_createdate']"
            ]
          },
          "metadata": {},
          "execution_count": 242
        }
      ],
      "source": [
        "train=X_train.copy()\n",
        "handling_correlation(train.copy(),0.85)"
      ]
    },
    {
      "cell_type": "markdown",
      "id": "154da511",
      "metadata": {
        "id": "154da511"
      },
      "source": [
        "### Heatmap for X_train\n",
        "\n",
        "- Note - Keep the code as it is, no need to change"
      ]
    },
    {
      "cell_type": "code",
      "execution_count": null,
      "id": "2e8f2fe4",
      "metadata": {
        "id": "2e8f2fe4",
        "colab": {
          "base_uri": "https://localhost:8080/",
          "height": 859
        },
        "outputId": "c2e2da48-abb0-47f1-be01-09a4f8b0c46e"
      },
      "outputs": [
        {
          "output_type": "execute_result",
          "data": {
            "text/plain": [
              "<matplotlib.axes._subplots.AxesSubplot at 0x7fcface49d90>"
            ]
          },
          "metadata": {},
          "execution_count": 243
        },
        {
          "output_type": "display_data",
          "data": {
            "text/plain": [
              "<Figure size 1008x864 with 2 Axes>"
            ],
            "image/png": "[encoded data removed]"
          },
          "metadata": {
            "needs_background": "light"
          }
        }
      ],
      "source": [
        "colormap = plt.cm.RdBu\n",
        "plt.figure(figsize=(14,12))\n",
        "plt.title('Pearson Correlation of Features', y=1.05, size=20)\n",
        "sns.heatmap(X_train.merge(y_train , on = X_train.index ).corr(),linewidths=0.1,vmax=1.0, \n",
        "            square=True, cmap='gist_rainbow_r', linecolor='white', annot=True)"
      ]
    },
    {
      "cell_type": "markdown",
      "id": "e3b0d745",
      "metadata": {
        "id": "e3b0d745"
      },
      "source": [
        "#### Calling variance threshold for threshold value = 0.8\n",
        "\n",
        "- Note -  Fill in the blanks to call the appropriate method"
      ]
    },
    {
      "cell_type": "code",
      "execution_count": null,
      "id": "a9b2080f",
      "metadata": {
        "id": "a9b2080f",
        "colab": {
          "base_uri": "https://localhost:8080/"
        },
        "outputId": "c47f82a2-3f3f-41f4-c07d-639eb77eb36a"
      },
      "outputs": [
        {
          "output_type": "execute_result",
          "data": {
            "text/plain": [
              "VarianceThreshold(threshold=0.8)"
            ]
          },
          "metadata": {},
          "execution_count": 244
        }
      ],
      "source": [
        "from sklearn.feature_selection import VarianceThreshold\n",
        "sel = VarianceThreshold(0.8)\n",
        "sel.fit(X_train)"
      ]
    },
    {
      "cell_type": "code",
      "execution_count": null,
      "id": "6cb8c3dc",
      "metadata": {
        "id": "6cb8c3dc",
        "colab": {
          "base_uri": "https://localhost:8080/"
        },
        "outputId": "c22ec614-adc2-4fb4-d055-158b4582b0b0"
      },
      "outputs": [
        {
          "output_type": "execute_result",
          "data": {
            "text/plain": [
              "array([1.79867713e+15, 1.15195317e-01, 8.14358365e+16, 1.33915922e+09,\n",
              "       2.89199371e-01, 1.06851239e+06, 1.17330626e+02, 7.55002009e+01,\n",
              "       1.22507253e+01, 1.15661120e-01, 7.71513423e+01, 1.22576245e+01,\n",
              "       1.15788866e-01, 7.61732267e+01, 1.20393869e+01, 1.18619907e-01])"
            ]
          },
          "metadata": {},
          "execution_count": 245
        }
      ],
      "source": [
        "sel.variances_"
      ]
    },
    {
      "cell_type": "markdown",
      "id": "62633a84",
      "metadata": {
        "id": "62633a84"
      },
      "source": [
        "### Features columns are \n",
        "- 'year_of_createdate' \n",
        "- 'year_of_due'\n",
        "- 'day_of_createdate'\n",
        "- 'year_of_postingdate'\n",
        "- 'month_of_due'\n",
        "- 'month_of_createdate'"
      ]
    },
    {
      "cell_type": "markdown",
      "id": "651f1ad0",
      "metadata": {
        "id": "651f1ad0"
      },
      "source": [
        "# Modelling \n",
        "\n",
        "#### Now you need to compare with different machine learning models, and needs to find out the best predicted model\n",
        "\n",
        "- Linear Regression\n",
        "- Decision Tree Regression\n",
        "- Random Forest Regression\n",
        "- Support Vector Regression\n",
        "- Extreme Gradient Boost Regression "
      ]
    },
    {
      "cell_type": "markdown",
      "source": [
        "### You need to make different blank list for different evaluation matrix \n",
        "\n",
        "- MSE\n",
        "- R2\n",
        "- Algorithm"
      ],
      "metadata": {
        "id": "PicEhSuUUOkt"
      },
      "id": "PicEhSuUUOkt"
    },
    {
      "cell_type": "code",
      "execution_count": null,
      "id": "701e12b0",
      "metadata": {
        "id": "701e12b0"
      },
      "outputs": [],
      "source": [
        "MSE_Score = []\n",
        "R2_Score = []\n",
        "Algorithm = []\n",
        "from sklearn.metrics import mean_squared_error\n",
        "from sklearn.metrics import r2_score"
      ]
    },
    {
      "cell_type": "markdown",
      "id": "29310119",
      "metadata": {
        "id": "29310119"
      },
      "source": [
        "### You need to start with the baseline model Linear Regression\n",
        "\n",
        "- Step 1 : Call the Linear Regression from sklearn library\n",
        "- Step 2 : make an object of Linear Regression \n",
        "- Step 3 : fit the X_train and y_train dataframe into the object \n",
        "- Step 4 : Predict the output by passing the X_test Dataset into predict function\n",
        "\n",
        "\n",
        "\n",
        "\n",
        "- Note - Append the Algorithm name into the algorithm list for tracking purpose"
      ]
    },
    {
      "cell_type": "code",
      "execution_count": null,
      "id": "6bdea395",
      "metadata": {
        "id": "6bdea395"
      },
      "outputs": [],
      "source": [
        "from sklearn.linear_model import LinearRegression\n",
        "Algorithm.append('LinearRegression')\n",
        "regressor = LinearRegression()\n",
        "regressor.fit(X_train, y_train)\n",
        "predicted= regressor.predict(X_test)"
      ]
    },
    {
      "cell_type": "markdown",
      "source": [
        "### Check for the \n",
        "\n",
        "- Mean Square Error\n",
        "- R Square Error \n",
        "\n",
        "for y_test and predicted dataset and store those data inside respective list for comparison "
      ],
      "metadata": {
        "id": "G02cpnBhXJ14"
      },
      "id": "G02cpnBhXJ14"
    },
    {
      "cell_type": "code",
      "execution_count": null,
      "id": "0f69ca19",
      "metadata": {
        "id": "0f69ca19"
      },
      "outputs": [],
      "source": [
        "MSE_Score.append(mean_squared_error(y_test, predicted))\n",
        "R2_Score.append(r2_score(y_test, predicted))"
      ]
    },
    {
      "cell_type": "markdown",
      "source": [
        "### Check the same for the Validation set also "
      ],
      "metadata": {
        "id": "CsmScbHjYMv1"
      },
      "id": "CsmScbHjYMv1"
    },
    {
      "cell_type": "code",
      "execution_count": null,
      "id": "fe653295",
      "metadata": {
        "id": "fe653295",
        "colab": {
          "base_uri": "https://localhost:8080/"
        },
        "outputId": "c5cb4961-dc11-4d88-b332-5c8fb7b43a64"
      },
      "outputs": [
        {
          "output_type": "execute_result",
          "data": {
            "text/plain": [
              "558507.5006372059"
            ]
          },
          "metadata": {},
          "execution_count": 249
        }
      ],
      "source": [
        "predict_test= regressor.predict(X_val)\n",
        "mean_squared_error(y_val, predict_test, squared=False)"
      ]
    },
    {
      "cell_type": "markdown",
      "source": [
        "### Display The Comparison Lists"
      ],
      "metadata": {
        "id": "LokxV2LGYUVh"
      },
      "id": "LokxV2LGYUVh"
    },
    {
      "cell_type": "code",
      "execution_count": null,
      "id": "9c405bd3",
      "metadata": {
        "id": "9c405bd3",
        "colab": {
          "base_uri": "https://localhost:8080/"
        },
        "outputId": "f776a844-deb4-476c-efe9-c907a1f05632"
      },
      "outputs": [
        {
          "output_type": "stream",
          "name": "stdout",
          "text": [
            "['LinearRegression'],[301562116216.75525],[0.31842492203037553],"
          ]
        }
      ],
      "source": [
        "for i in Algorithm, MSE_Score, R2_Score:\n",
        "    print(i,end=',')"
      ]
    },
    {
      "cell_type": "markdown",
      "id": "b0e65c86",
      "metadata": {
        "id": "b0e65c86"
      },
      "source": [
        "### You need to start with the baseline model Support Vector Regression\n",
        "\n",
        "- Step 1 : Call the Support Vector Regressor from sklearn library\n",
        "- Step 2 : make an object of SVR\n",
        "- Step 3 : fit the X_train and y_train dataframe into the object \n",
        "- Step 4 : Predict the output by passing the X_test Dataset into predict function\n",
        "\n",
        "\n",
        "\n",
        "\n",
        "- Note - Append the Algorithm name into the algorithm list for tracking purpose"
      ]
    },
    {
      "cell_type": "code",
      "execution_count": null,
      "id": "ccb5de08",
      "metadata": {
        "id": "ccb5de08"
      },
      "outputs": [],
      "source": [
        "from sklearn.svm import SVR\n",
        "Algorithm.append('SVR')\n",
        "regressor = SVR()\n",
        "regressor.fit(X_train, y_train)\n",
        "predicted= regressor.predict(X_test)"
      ]
    },
    {
      "cell_type": "markdown",
      "source": [
        "### Check for the \n",
        "\n",
        "- Mean Square Error\n",
        "- R Square Error \n",
        "\n",
        "for \"y_test\" and \"predicted\" dataset and store those data inside respective list for comparison "
      ],
      "metadata": {
        "id": "zz9kcrViYt7e"
      },
      "id": "zz9kcrViYt7e"
    },
    {
      "cell_type": "code",
      "execution_count": null,
      "id": "5bb9db76",
      "metadata": {
        "id": "5bb9db76"
      },
      "outputs": [],
      "source": [
        "MSE_Score.append(mean_squared_error(y_test, predicted))\n",
        "R2_Score.append(r2_score(y_test, predicted))"
      ]
    },
    {
      "cell_type": "markdown",
      "source": [
        "### Check the same for the Validation set also "
      ],
      "metadata": {
        "id": "0YAxd8N9Y0hJ"
      },
      "id": "0YAxd8N9Y0hJ"
    },
    {
      "cell_type": "code",
      "execution_count": null,
      "id": "d6ee71b1",
      "metadata": {
        "id": "d6ee71b1",
        "colab": {
          "base_uri": "https://localhost:8080/"
        },
        "outputId": "d539a1a7-d092-4941-f7d3-27b77b16c59c"
      },
      "outputs": [
        {
          "output_type": "execute_result",
          "data": {
            "text/plain": [
              "698515.1697213296"
            ]
          },
          "metadata": {},
          "execution_count": 253
        }
      ],
      "source": [
        "predict_test= regressor.predict(X_val)\n",
        "mean_squared_error(y_val, predict_test, squared=False)"
      ]
    },
    {
      "cell_type": "markdown",
      "source": [
        "### Display The Comparison Lists"
      ],
      "metadata": {
        "id": "eGcqS5EcY4BI"
      },
      "id": "eGcqS5EcY4BI"
    },
    {
      "cell_type": "code",
      "execution_count": null,
      "id": "aa72c1ec",
      "metadata": {
        "id": "aa72c1ec",
        "colab": {
          "base_uri": "https://localhost:8080/"
        },
        "outputId": "bfef8e78-8ca5-4298-a529-2731b1962e62"
      },
      "outputs": [
        {
          "output_type": "stream",
          "name": "stdout",
          "text": [
            "['LinearRegression', 'SVR'],[301562116216.75525, 444372053060.142],[0.31842492203037553, -0.004346701474567949],"
          ]
        }
      ],
      "source": [
        "for i in Algorithm, MSE_Score, R2_Score:\n",
        "    print(i,end=',')"
      ]
    },
    {
      "cell_type": "markdown",
      "id": "dad18bb3",
      "metadata": {
        "id": "dad18bb3"
      },
      "source": [
        "### Your next model would be Decision Tree Regression\n",
        "\n",
        "- Step 1 : Call the Decision Tree Regressor from sklearn library\n",
        "- Step 2 : make an object of Decision Tree\n",
        "- Step 3 : fit the X_train and y_train dataframe into the object \n",
        "- Step 4 : Predict the output by passing the X_test Dataset into predict function\n",
        "\n",
        "\n",
        "\n",
        "\n",
        "- Note - Append the Algorithm name into the algorithm list for tracking purpose"
      ]
    },
    {
      "cell_type": "code",
      "execution_count": null,
      "id": "1b6a51eb",
      "metadata": {
        "id": "1b6a51eb"
      },
      "outputs": [],
      "source": [
        "from sklearn.tree import DecisionTreeRegressor\n",
        "Algorithm.append('DecisionTreeRegressor')\n",
        "regressor = DecisionTreeRegressor()\n",
        "regressor.fit(X_train, y_train)\n",
        "predicted= regressor.predict(X_test)"
      ]
    },
    {
      "cell_type": "markdown",
      "source": [
        "### Check for the \n",
        "\n",
        "- Mean Square Error\n",
        "- R Square Error \n",
        "\n",
        "for y_test and predicted dataset and store those data inside respective list for comparison "
      ],
      "metadata": {
        "id": "AOzfgfeOZo3F"
      },
      "id": "AOzfgfeOZo3F"
    },
    {
      "cell_type": "code",
      "execution_count": null,
      "id": "776e6983",
      "metadata": {
        "id": "776e6983"
      },
      "outputs": [],
      "source": [
        "MSE_Score.append(mean_squared_error(y_test, predicted))\n",
        "R2_Score.append(r2_score(y_test, predicted))"
      ]
    },
    {
      "cell_type": "markdown",
      "source": [
        "### Check the same for the Validation set also "
      ],
      "metadata": {
        "id": "eI6d49DQZrhW"
      },
      "id": "eI6d49DQZrhW"
    },
    {
      "cell_type": "code",
      "execution_count": null,
      "id": "155fb55c",
      "metadata": {
        "id": "155fb55c",
        "colab": {
          "base_uri": "https://localhost:8080/"
        },
        "outputId": "10b5a990-196e-479a-c44f-d3cdc7c8af88"
      },
      "outputs": [
        {
          "output_type": "execute_result",
          "data": {
            "text/plain": [
              "439195.4820112153"
            ]
          },
          "metadata": {},
          "execution_count": 257
        }
      ],
      "source": [
        "predict_test= regressor.predict(X_val)\n",
        "mean_squared_error(y_val, predict_test, squared=False)"
      ]
    },
    {
      "cell_type": "markdown",
      "source": [
        "### Display The Comparison Lists"
      ],
      "metadata": {
        "id": "sbGXvBLQZw5E"
      },
      "id": "sbGXvBLQZw5E"
    },
    {
      "cell_type": "code",
      "execution_count": null,
      "id": "1d74d515",
      "metadata": {
        "id": "1d74d515",
        "colab": {
          "base_uri": "https://localhost:8080/"
        },
        "outputId": "15c64d30-f826-4d90-e16d-b234622acf90"
      },
      "outputs": [
        {
          "output_type": "stream",
          "name": "stdout",
          "text": [
            "['LinearRegression', 'SVR', 'DecisionTreeRegressor'],[301562116216.75525, 444372053060.142, 268703478029.20303],[0.31842492203037553, -0.004346701474567949, 0.39269031440001634],"
          ]
        }
      ],
      "source": [
        "for i in Algorithm, MSE_Score, R2_Score:\n",
        "    print(i,end=',')"
      ]
    },
    {
      "cell_type": "markdown",
      "id": "4ae9979b",
      "metadata": {
        "id": "4ae9979b"
      },
      "source": [
        "### Your next model would be Random Forest Regression\n",
        "\n",
        "- Step 1 : Call the Random Forest Regressor from sklearn library\n",
        "- Step 2 : make an object of Random Forest\n",
        "- Step 3 : fit the X_train and y_train dataframe into the object \n",
        "- Step 4 : Predict the output by passing the X_test Dataset into predict function\n",
        "\n",
        "\n",
        "\n",
        "\n",
        "- Note - Append the Algorithm name into the algorithm list for tracking purpose"
      ]
    },
    {
      "cell_type": "code",
      "execution_count": null,
      "id": "a69e476a",
      "metadata": {
        "id": "a69e476a"
      },
      "outputs": [],
      "source": [
        "from sklearn.ensemble import RandomForestRegressor\n",
        "Algorithm.append('RandomForestRegressor')\n",
        "regressor = RandomForestRegressor()\n",
        "regressor.fit(X_train, y_train)\n",
        "predicted= regressor.predict(X_test)"
      ]
    },
    {
      "cell_type": "markdown",
      "source": [
        "### Check for the \n",
        "\n",
        "- Mean Square Error\n",
        "- R Square Error \n",
        "\n",
        "for y_test and predicted dataset and store those data inside respective list for comparison "
      ],
      "metadata": {
        "id": "XNcEJF-6anof"
      },
      "id": "XNcEJF-6anof"
    },
    {
      "cell_type": "code",
      "execution_count": null,
      "id": "826f63f4",
      "metadata": {
        "id": "826f63f4"
      },
      "outputs": [],
      "source": [
        "MSE_Score.append(mean_squared_error(y_test, predicted))\n",
        "R2_Score.append(r2_score(y_test, predicted))"
      ]
    },
    {
      "cell_type": "markdown",
      "source": [
        "### Check the same for the Validation set also "
      ],
      "metadata": {
        "id": "yMbyr9V4ati1"
      },
      "id": "yMbyr9V4ati1"
    },
    {
      "cell_type": "code",
      "execution_count": null,
      "id": "55b9fb54",
      "metadata": {
        "id": "55b9fb54",
        "colab": {
          "base_uri": "https://localhost:8080/"
        },
        "outputId": "a74df047-9150-41eb-d60b-c8b8d354ecc5"
      },
      "outputs": [
        {
          "output_type": "execute_result",
          "data": {
            "text/plain": [
              "361637.5769051263"
            ]
          },
          "metadata": {},
          "execution_count": 261
        }
      ],
      "source": [
        "predict_test= regressor.predict(X_val)\n",
        "mean_squared_error(y_val, predict_test, squared=False)"
      ]
    },
    {
      "cell_type": "markdown",
      "source": [
        "### Display The Comparison Lists\n"
      ],
      "metadata": {
        "id": "tiBawcCsaw_Z"
      },
      "id": "tiBawcCsaw_Z"
    },
    {
      "cell_type": "code",
      "execution_count": null,
      "id": "8277c13e",
      "metadata": {
        "id": "8277c13e",
        "colab": {
          "base_uri": "https://localhost:8080/"
        },
        "outputId": "84720da6-04c7-4923-e819-ec0a7e212ffa"
      },
      "outputs": [
        {
          "output_type": "stream",
          "name": "stdout",
          "text": [
            "['LinearRegression', 'SVR', 'DecisionTreeRegressor', 'RandomForestRegressor'],[301562116216.75525, 444372053060.142, 268703478029.20303, 162317250261.28928],[0.31842492203037553, -0.004346701474567949, 0.39269031440001634, 0.6331389569400214],"
          ]
        }
      ],
      "source": [
        "for i in Algorithm, MSE_Score, R2_Score:\n",
        "    print(i,end=',')"
      ]
    },
    {
      "cell_type": "markdown",
      "id": "e6b21881",
      "metadata": {
        "id": "e6b21881"
      },
      "source": [
        "### The last but not the least model would be XGBoost or Extreme Gradient Boost Regression\n",
        "\n",
        "- Step 1 : Call the XGBoost Regressor from xgb library\n",
        "- Step 2 : make an object of Xgboost\n",
        "- Step 3 : fit the X_train and y_train dataframe into the object \n",
        "- Step 4 : Predict the output by passing the X_test Dataset into predict function\n",
        "\n",
        "\n",
        "\n",
        "\n",
        "- Note - Append the Algorithm name into the algorithm list for tracking purpose### Extreme Gradient Boost Regression\n",
        "- Note -  No need to change the code "
      ]
    },
    {
      "cell_type": "code",
      "execution_count": null,
      "id": "705a38ec",
      "metadata": {
        "id": "705a38ec",
        "colab": {
          "base_uri": "https://localhost:8080/"
        },
        "outputId": "ce6aebbc-bb48-45c2-e762-906f0fb6c152"
      },
      "outputs": [
        {
          "output_type": "stream",
          "name": "stdout",
          "text": [
            "[07:09:44] WARNING: /workspace/src/objective/regression_obj.cu:152: reg:linear is now deprecated in favor of reg:squarederror.\n"
          ]
        }
      ],
      "source": [
        "import xgboost as xgb\n",
        "Algorithm.append('XGB Regressor')\n",
        "regressor = xgb.XGBRegressor()\n",
        "regressor.fit(X_train, y_train)\n",
        "predicted = regressor.predict(X_test)"
      ]
    },
    {
      "cell_type": "markdown",
      "source": [
        "### Check for the \n",
        "\n",
        "- Mean Square Error\n",
        "- R Square Error \n",
        "\n",
        "for y_test and predicted dataset and store those data inside respective list for comparison "
      ],
      "metadata": {
        "id": "ierNZkb9bQDD"
      },
      "id": "ierNZkb9bQDD"
    },
    {
      "cell_type": "code",
      "execution_count": null,
      "id": "507a9d2f",
      "metadata": {
        "id": "507a9d2f"
      },
      "outputs": [],
      "source": [
        "MSE_Score.append(mean_squared_error(y_test, predicted))\n",
        "R2_Score.append(r2_score(y_test, predicted))"
      ]
    },
    {
      "cell_type": "markdown",
      "source": [
        "### Check the same for the Validation set also "
      ],
      "metadata": {
        "id": "84UZ2ojsbWaH"
      },
      "id": "84UZ2ojsbWaH"
    },
    {
      "cell_type": "code",
      "execution_count": null,
      "id": "e78ac250",
      "metadata": {
        "id": "e78ac250",
        "colab": {
          "base_uri": "https://localhost:8080/"
        },
        "outputId": "6b6fee1b-9a8b-4f0a-af1b-60e2d28eb7c5"
      },
      "outputs": [
        {
          "output_type": "execute_result",
          "data": {
            "text/plain": [
              "386210.54082911316"
            ]
          },
          "metadata": {},
          "execution_count": 265
        }
      ],
      "source": [
        "predict_test= regressor.predict(X_val)\n",
        "mean_squared_error(y_val, predict_test, squared=False)"
      ]
    },
    {
      "cell_type": "markdown",
      "source": [
        "### Display The Comparison Lists\n"
      ],
      "metadata": {
        "id": "9FJFyaVbbbAH"
      },
      "id": "9FJFyaVbbbAH"
    },
    {
      "cell_type": "code",
      "execution_count": null,
      "id": "f765ba35",
      "metadata": {
        "id": "f765ba35",
        "colab": {
          "base_uri": "https://localhost:8080/"
        },
        "outputId": "c4f70fd0-dcb1-4131-dc20-2d3c53386de4"
      },
      "outputs": [
        {
          "output_type": "stream",
          "name": "stdout",
          "text": [
            "['LinearRegression', 'SVR', 'DecisionTreeRegressor', 'RandomForestRegressor', 'XGB Regressor'],[301562116216.75525, 444372053060.142, 268703478029.20303, 162317250261.28928, 157251153924.20175],[0.31842492203037553, -0.004346701474567949, 0.39269031440001634, 0.6331389569400214, 0.644589085521392],"
          ]
        }
      ],
      "source": [
        "for i in Algorithm, MSE_Score, R2_Score:\n",
        "    print(i,end=\",\")"
      ]
    },
    {
      "cell_type": "markdown",
      "id": "a71bc90f",
      "metadata": {
        "id": "a71bc90f"
      },
      "source": [
        "## You need to make the comparison list into a comparison dataframe "
      ]
    },
    {
      "cell_type": "code",
      "source": [
        "comparison = pd.DataFrame(list(zip(Algorithm, MSE_Score, R2_Score)), columns = ['Algorithm', 'MSE_Score', 'R2_Score'])"
      ],
      "metadata": {
        "id": "sYHO7rI6CeD4"
      },
      "id": "sYHO7rI6CeD4",
      "execution_count": null,
      "outputs": []
    },
    {
      "cell_type": "markdown",
      "id": "62e61c60",
      "metadata": {
        "id": "62e61c60"
      },
      "source": [
        "## Now from the Comparison table, you need to choose the best fit model\n",
        "\n",
        "- Step 1 - Fit X_train and y_train inside the model \n",
        "- Step 2 - Predict the X_test dataset\n",
        "- Step 3 - Predict the X_val dataset\n",
        "\n",
        "\n",
        "- Note - No need to change the code"
      ]
    },
    {
      "cell_type": "code",
      "execution_count": null,
      "id": "3e07c258",
      "metadata": {
        "id": "3e07c258",
        "colab": {
          "base_uri": "https://localhost:8080/"
        },
        "outputId": "b4a18377-2a4c-4ced-be4b-2cf7f5244999"
      },
      "outputs": [
        {
          "output_type": "stream",
          "name": "stdout",
          "text": [
            "[07:09:46] WARNING: /workspace/src/objective/regression_obj.cu:152: reg:linear is now deprecated in favor of reg:squarederror.\n"
          ]
        }
      ],
      "source": [
        "regressorfinal = xgb.XGBRegressor()\n",
        "regressorfinal.fit(X_train, y_train)\n",
        "predictedfinal = regressorfinal.predict(X_test)\n",
        "predict_testfinal = regressorfinal.predict(X_val)"
      ]
    },
    {
      "cell_type": "markdown",
      "id": "8e4df6c4",
      "metadata": {
        "id": "8e4df6c4"
      },
      "source": [
        "### Calculate the Mean Square Error for test dataset\n",
        "\n",
        "- Note - No need to change the code"
      ]
    },
    {
      "cell_type": "code",
      "execution_count": null,
      "id": "5fb466d0",
      "metadata": {
        "id": "5fb466d0",
        "colab": {
          "base_uri": "https://localhost:8080/"
        },
        "outputId": "9ffc648d-7deb-4572-a3f1-7ddcbb3fa192"
      },
      "outputs": [
        {
          "output_type": "execute_result",
          "data": {
            "text/plain": [
              "396549.0561383317"
            ]
          },
          "metadata": {},
          "execution_count": 269
        }
      ],
      "source": [
        "mean_squared_error(y_test,predictedfinal,squared=False)"
      ]
    },
    {
      "cell_type": "markdown",
      "id": "ce27f87f",
      "metadata": {
        "id": "ce27f87f"
      },
      "source": [
        "### Calculate the mean Square Error for validation dataset"
      ]
    },
    {
      "cell_type": "code",
      "execution_count": null,
      "id": "b47978ea",
      "metadata": {
        "id": "b47978ea",
        "colab": {
          "base_uri": "https://localhost:8080/"
        },
        "outputId": "d9d80d98-21b0-4839-c1d9-c873c4b7fa5d"
      },
      "outputs": [
        {
          "output_type": "execute_result",
          "data": {
            "text/plain": [
              "386210.54082911316"
            ]
          },
          "metadata": {},
          "execution_count": 270
        }
      ],
      "source": [
        "mean_squared_error(y_val,predict_testfinal,squared=False)"
      ]
    },
    {
      "cell_type": "markdown",
      "id": "30014dbd",
      "metadata": {
        "id": "30014dbd"
      },
      "source": [
        "### Calculate the R2 score for test"
      ]
    },
    {
      "cell_type": "code",
      "execution_count": null,
      "id": "8a162737",
      "metadata": {
        "id": "8a162737",
        "colab": {
          "base_uri": "https://localhost:8080/"
        },
        "outputId": "7949aac1-4839-47b8-d2eb-37a0fe4797e5"
      },
      "outputs": [
        {
          "output_type": "execute_result",
          "data": {
            "text/plain": [
              "0.644589085521392"
            ]
          },
          "metadata": {},
          "execution_count": 271
        }
      ],
      "source": [
        "r2_score(y_test, predictedfinal)"
      ]
    },
    {
      "cell_type": "markdown",
      "id": "1c9853b0",
      "metadata": {
        "id": "1c9853b0"
      },
      "source": [
        "### Calculate the R2 score for Validation"
      ]
    },
    {
      "cell_type": "code",
      "execution_count": null,
      "id": "1a6dc77c",
      "metadata": {
        "id": "1a6dc77c",
        "colab": {
          "base_uri": "https://localhost:8080/"
        },
        "outputId": "8fc1ce8f-7948-4da8-c5a7-3ab5af095baa"
      },
      "outputs": [
        {
          "output_type": "execute_result",
          "data": {
            "text/plain": [
              "0.6916947056833758"
            ]
          },
          "metadata": {},
          "execution_count": 272
        }
      ],
      "source": [
        "r2_score(y_val, predict_testfinal)"
      ]
    },
    {
      "cell_type": "markdown",
      "id": "499522d9",
      "metadata": {
        "id": "499522d9"
      },
      "source": [
        "### Calculate the Accuracy for train Dataset "
      ]
    },
    {
      "cell_type": "code",
      "execution_count": null,
      "id": "7a4f1ce8",
      "metadata": {
        "id": "7a4f1ce8",
        "colab": {
          "base_uri": "https://localhost:8080/"
        },
        "outputId": "9de62234-f597-4704-a52a-3bc1db9ee301"
      },
      "outputs": [
        {
          "output_type": "stream",
          "name": "stdout",
          "text": [
            "76.9388225611207 %\n"
          ]
        }
      ],
      "source": [
        "acc=regressorfinal.score(X_train,y_train)\n",
        "print(acc*100,'%')"
      ]
    },
    {
      "cell_type": "markdown",
      "id": "12a1c921",
      "metadata": {
        "id": "12a1c921"
      },
      "source": [
        "### Calculate the accuracy for validation"
      ]
    },
    {
      "cell_type": "code",
      "execution_count": null,
      "id": "d2579b4f",
      "metadata": {
        "id": "d2579b4f",
        "colab": {
          "base_uri": "https://localhost:8080/"
        },
        "outputId": "fb41f492-0312-4c25-d59c-f0767ba22cb9"
      },
      "outputs": [
        {
          "output_type": "stream",
          "name": "stdout",
          "text": [
            "69.16947056833757 %\n"
          ]
        }
      ],
      "source": [
        "acc=regressorfinal.score(X_val,y_val)\n",
        "print(acc*100,'%')"
      ]
    },
    {
      "cell_type": "markdown",
      "id": "79b82e84",
      "metadata": {
        "id": "79b82e84"
      },
      "source": [
        "### Calculate the accuracy for test"
      ]
    },
    {
      "cell_type": "code",
      "execution_count": null,
      "id": "f09e6431",
      "metadata": {
        "id": "f09e6431",
        "colab": {
          "base_uri": "https://localhost:8080/"
        },
        "outputId": "c9775346-0200-4df8-9abc-6a68bbac7c04"
      },
      "outputs": [
        {
          "output_type": "stream",
          "name": "stdout",
          "text": [
            "64.4589085521392 %\n"
          ]
        }
      ],
      "source": [
        "acc=regressorfinal.score(X_test,y_test)\n",
        "print(acc*100,'%')"
      ]
    },
    {
      "cell_type": "markdown",
      "id": "9488a5d9",
      "metadata": {
        "id": "9488a5d9"
      },
      "source": [
        "## Specify the reason behind choosing your machine learning model \n",
        "\n",
        "- XGBoost is a powerful approach for building supervised regression models.\n",
        "- Mean squared error (MSE) and R square error (R2) are the metrics which decides to choose the regression algorithm.\n",
        "- From the above Comparsion table we can find the MSE & R2 scores of XGB is better that other Algorithms and this gives better accuracy. "
      ]
    },
    {
      "cell_type": "markdown",
      "id": "387a6519",
      "metadata": {
        "id": "387a6519"
      },
      "source": [
        "## Now you need to pass the Nulldata dataframe into this machine learning model\n",
        "\n",
        "#### In order to pass this Nulldata dataframe into the ML model, we need to perform the following\n",
        "\n",
        "- Step 1 : Label Encoding \n",
        "- Step 2 : Day, Month and Year extraction \n",
        "- Step 3 : Change all the column data type into int64 or float64\n",
        "- Step 4 : Need to drop the useless columns "
      ]
    },
    {
      "cell_type": "markdown",
      "source": [
        "### Display the Nulldata "
      ],
      "metadata": {
        "id": "I7JuxAkdiAdI"
      },
      "id": "I7JuxAkdiAdI"
    },
    {
      "cell_type": "code",
      "execution_count": null,
      "id": "6d6a51d2",
      "metadata": {
        "id": "6d6a51d2",
        "colab": {
          "base_uri": "https://localhost:8080/",
          "height": 522
        },
        "outputId": "9ba7e047-9a19-473c-b98e-b7678647bd34"
      },
      "outputs": [
        {
          "output_type": "execute_result",
          "data": {
            "text/plain": [
              "      business_code cust_number        name_customer clear_date  \\\n",
              "3              CA02  0140105686             SYSC llc        NaT   \n",
              "7              U001  0200744019              TARG us        NaT   \n",
              "10             U001  0200418007                  AM         NaT   \n",
              "14             U001  0200739534           OK systems        NaT   \n",
              "15             U001  0200353024     DECA corporation        NaT   \n",
              "...             ...         ...                  ...        ...   \n",
              "49975          U001  0200769623           WAL-MAR in        NaT   \n",
              "49980          U001  0200769623  WAL-MAR corporation        NaT   \n",
              "49982          U001  0200148860             DOLLA co        NaT   \n",
              "49992          U001  0200900909             SYSCO co        NaT   \n",
              "49995          U001  0200561861       CO corporation        NaT   \n",
              "\n",
              "       buisness_year        doc_id posting_date due_in_date  \\\n",
              "3               2020  2.960623e+09   2020-03-30  2020-04-10   \n",
              "7               2020  1.930659e+09   2020-03-19  2020-04-03   \n",
              "10              2020  1.930611e+09   2020-03-11  2020-03-26   \n",
              "14              2020  1.930788e+09   2020-04-15  2020-04-30   \n",
              "15              2020  1.930817e+09   2020-04-23  2020-04-26   \n",
              "...              ...           ...          ...         ...   \n",
              "49975           2020  1.930625e+09   2020-03-10  2020-03-25   \n",
              "49980           2020  1.930851e+09   2020-05-03  2020-05-18   \n",
              "49982           2020  1.930638e+09   2020-03-11  2020-03-26   \n",
              "49992           2020  1.930702e+09   2020-03-25  2020-04-09   \n",
              "49995           2020  1.930797e+09   2020-04-21  2020-05-06   \n",
              "\n",
              "      baseline_create_date cust_payment_terms  converted_usd  \n",
              "3               2020-03-31               CA10        2309.79  \n",
              "7               2020-03-19               NAA8       11173.02  \n",
              "10              2020-03-11               NAA8        3525.59  \n",
              "14              2020-04-15               NAA8      121105.65  \n",
              "15              2020-04-16               NAM2        3726.06  \n",
              "...                    ...                ...            ...  \n",
              "49975           2020-03-10               NAH4       13114.99  \n",
              "49980           2020-05-03               NAH4        8899.71  \n",
              "49982           2020-03-11               NAA8        4967.06  \n",
              "49992           2020-03-25               NAA8        1998.64  \n",
              "49995           2020-04-21               NAA8        3187.86  \n",
              "\n",
              "[9681 rows x 11 columns]"
            ],
            "text/html": [
              "\n",
              "  <div id=\"df-135ce3f3-2fd4-407f-8ab2-aea4c631a133\">\n",
              "    <div class=\"colab-df-container\">\n",
              "      <div>\n",
              "<style scoped>\n",
              "    .dataframe tbody tr th:only-of-type {\n",
              "        vertical-align: middle;\n",
              "    }\n",
              "\n",
              "    .dataframe tbody tr th {\n",
              "        vertical-align: top;\n",
              "    }\n",
              "\n",
              "    .dataframe thead th {\n",
              "        text-align: right;\n",
              "    }\n",
              "</style>\n",
              "<table border=\"1\" class=\"dataframe\">\n",
              "  <thead>\n",
              "    <tr style=\"text-align: right;\">\n",
              "      <th></th>\n",
              "      <th>business_code</th>\n",
              "      <th>cust_number</th>\n",
              "      <th>name_customer</th>\n",
              "      <th>clear_date</th>\n",
              "      <th>buisness_year</th>\n",
              "      <th>doc_id</th>\n",
              "      <th>posting_date</th>\n",
              "      <th>due_in_date</th>\n",
              "      <th>baseline_create_date</th>\n",
              "      <th>cust_payment_terms</th>\n",
              "      <th>converted_usd</th>\n",
              "    </tr>\n",
              "  </thead>\n",
              "  <tbody>\n",
              "    <tr>\n",
              "      <th>3</th>\n",
              "      <td>CA02</td>\n",
              "      <td>0140105686</td>\n",
              "      <td>SYSC llc</td>\n",
              "      <td>NaT</td>\n",
              "      <td>2020</td>\n",
              "      <td>2.960623e+09</td>\n",
              "      <td>2020-03-30</td>\n",
              "      <td>2020-04-10</td>\n",
              "      <td>2020-03-31</td>\n",
              "      <td>CA10</td>\n",
              "      <td>2309.79</td>\n",
              "    </tr>\n",
              "    <tr>\n",
              "      <th>7</th>\n",
              "      <td>U001</td>\n",
              "      <td>0200744019</td>\n",
              "      <td>TARG us</td>\n",
              "      <td>NaT</td>\n",
              "      <td>2020</td>\n",
              "      <td>1.930659e+09</td>\n",
              "      <td>2020-03-19</td>\n",
              "      <td>2020-04-03</td>\n",
              "      <td>2020-03-19</td>\n",
              "      <td>NAA8</td>\n",
              "      <td>11173.02</td>\n",
              "    </tr>\n",
              "    <tr>\n",
              "      <th>10</th>\n",
              "      <td>U001</td>\n",
              "      <td>0200418007</td>\n",
              "      <td>AM</td>\n",
              "      <td>NaT</td>\n",
              "      <td>2020</td>\n",
              "      <td>1.930611e+09</td>\n",
              "      <td>2020-03-11</td>\n",
              "      <td>2020-03-26</td>\n",
              "      <td>2020-03-11</td>\n",
              "      <td>NAA8</td>\n",
              "      <td>3525.59</td>\n",
              "    </tr>\n",
              "    <tr>\n",
              "      <th>14</th>\n",
              "      <td>U001</td>\n",
              "      <td>0200739534</td>\n",
              "      <td>OK systems</td>\n",
              "      <td>NaT</td>\n",
              "      <td>2020</td>\n",
              "      <td>1.930788e+09</td>\n",
              "      <td>2020-04-15</td>\n",
              "      <td>2020-04-30</td>\n",
              "      <td>2020-04-15</td>\n",
              "      <td>NAA8</td>\n",
              "      <td>121105.65</td>\n",
              "    </tr>\n",
              "    <tr>\n",
              "      <th>15</th>\n",
              "      <td>U001</td>\n",
              "      <td>0200353024</td>\n",
              "      <td>DECA corporation</td>\n",
              "      <td>NaT</td>\n",
              "      <td>2020</td>\n",
              "      <td>1.930817e+09</td>\n",
              "      <td>2020-04-23</td>\n",
              "      <td>2020-04-26</td>\n",
              "      <td>2020-04-16</td>\n",
              "      <td>NAM2</td>\n",
              "      <td>3726.06</td>\n",
              "    </tr>\n",
              "    <tr>\n",
              "      <th>...</th>\n",
              "      <td>...</td>\n",
              "      <td>...</td>\n",
              "      <td>...</td>\n",
              "      <td>...</td>\n",
              "      <td>...</td>\n",
              "      <td>...</td>\n",
              "      <td>...</td>\n",
              "      <td>...</td>\n",
              "      <td>...</td>\n",
              "      <td>...</td>\n",
              "      <td>...</td>\n",
              "    </tr>\n",
              "    <tr>\n",
              "      <th>49975</th>\n",
              "      <td>U001</td>\n",
              "      <td>0200769623</td>\n",
              "      <td>WAL-MAR in</td>\n",
              "      <td>NaT</td>\n",
              "      <td>2020</td>\n",
              "      <td>1.930625e+09</td>\n",
              "      <td>2020-03-10</td>\n",
              "      <td>2020-03-25</td>\n",
              "      <td>2020-03-10</td>\n",
              "      <td>NAH4</td>\n",
              "      <td>13114.99</td>\n",
              "    </tr>\n",
              "    <tr>\n",
              "      <th>49980</th>\n",
              "      <td>U001</td>\n",
              "      <td>0200769623</td>\n",
              "      <td>WAL-MAR corporation</td>\n",
              "      <td>NaT</td>\n",
              "      <td>2020</td>\n",
              "      <td>1.930851e+09</td>\n",
              "      <td>2020-05-03</td>\n",
              "      <td>2020-05-18</td>\n",
              "      <td>2020-05-03</td>\n",
              "      <td>NAH4</td>\n",
              "      <td>8899.71</td>\n",
              "    </tr>\n",
              "    <tr>\n",
              "      <th>49982</th>\n",
              "      <td>U001</td>\n",
              "      <td>0200148860</td>\n",
              "      <td>DOLLA co</td>\n",
              "      <td>NaT</td>\n",
              "      <td>2020</td>\n",
              "      <td>1.930638e+09</td>\n",
              "      <td>2020-03-11</td>\n",
              "      <td>2020-03-26</td>\n",
              "      <td>2020-03-11</td>\n",
              "      <td>NAA8</td>\n",
              "      <td>4967.06</td>\n",
              "    </tr>\n",
              "    <tr>\n",
              "      <th>49992</th>\n",
              "      <td>U001</td>\n",
              "      <td>0200900909</td>\n",
              "      <td>SYSCO co</td>\n",
              "      <td>NaT</td>\n",
              "      <td>2020</td>\n",
              "      <td>1.930702e+09</td>\n",
              "      <td>2020-03-25</td>\n",
              "      <td>2020-04-09</td>\n",
              "      <td>2020-03-25</td>\n",
              "      <td>NAA8</td>\n",
              "      <td>1998.64</td>\n",
              "    </tr>\n",
              "    <tr>\n",
              "      <th>49995</th>\n",
              "      <td>U001</td>\n",
              "      <td>0200561861</td>\n",
              "      <td>CO corporation</td>\n",
              "      <td>NaT</td>\n",
              "      <td>2020</td>\n",
              "      <td>1.930797e+09</td>\n",
              "      <td>2020-04-21</td>\n",
              "      <td>2020-05-06</td>\n",
              "      <td>2020-04-21</td>\n",
              "      <td>NAA8</td>\n",
              "      <td>3187.86</td>\n",
              "    </tr>\n",
              "  </tbody>\n",
              "</table>\n",
              "<p>9681 rows × 11 columns</p>\n",
              "</div>\n",
              "      <button class=\"colab-df-convert\" onclick=\"convertToInteractive('df-135ce3f3-2fd4-407f-8ab2-aea4c631a133')\"\n",
              "              title=\"Convert this dataframe to an interactive table.\"\n",
              "              style=\"display:none;\">\n",
              "        \n",
              "  <svg xmlns=\"http://www.w3.org/2000/svg\" height=\"24px\"viewBox=\"0 0 24 24\"\n",
              "       width=\"24px\">\n",
              "    <path d=\"M0 0h24v24H0V0z\" fill=\"none\"/>\n",
              "    <path d=\"M18.56 5.44l.94 2.06.94-2.06 2.06-.94-2.06-.94-.94-2.06-.94 2.06-2.06.94zm-11 1L8.5 8.5l.94-2.06 2.06-.94-2.06-.94L8.5 2.5l-.94 2.06-2.06.94zm10 10l.94 2.06.94-2.06 2.06-.94-2.06-.94-.94-2.06-.94 2.06-2.06.94z\"/><path d=\"M17.41 7.96l-1.37-1.37c-.4-.4-.92-.59-1.43-.59-.52 0-1.04.2-1.43.59L10.3 9.45l-7.72 7.72c-.78.78-.78 2.05 0 2.83L4 21.41c.39.39.9.59 1.41.59.51 0 1.02-.2 1.41-.59l7.78-7.78 2.81-2.81c.8-.78.8-2.07 0-2.86zM5.41 20L4 18.59l7.72-7.72 1.47 1.35L5.41 20z\"/>\n",
              "  </svg>\n",
              "      </button>\n",
              "      \n",
              "  <style>\n",
              "    .colab-df-container {\n",
              "      display:flex;\n",
              "      flex-wrap:wrap;\n",
              "      gap: 12px;\n",
              "    }\n",
              "\n",
              "    .colab-df-convert {\n",
              "      background-color: #E8F0FE;\n",
              "      border: none;\n",
              "      border-radius: 50%;\n",
              "      cursor: pointer;\n",
              "      display: none;\n",
              "      fill: #1967D2;\n",
              "      height: 32px;\n",
              "      padding: 0 0 0 0;\n",
              "      width: 32px;\n",
              "    }\n",
              "\n",
              "    .colab-df-convert:hover {\n",
              "      background-color: #E2EBFA;\n",
              "      box-shadow: 0px 1px 2px rgba(60, 64, 67, 0.3), 0px 1px 3px 1px rgba(60, 64, 67, 0.15);\n",
              "      fill: #174EA6;\n",
              "    }\n",
              "\n",
              "    [theme=dark] .colab-df-convert {\n",
              "      background-color: #3B4455;\n",
              "      fill: #D2E3FC;\n",
              "    }\n",
              "\n",
              "    [theme=dark] .colab-df-convert:hover {\n",
              "      background-color: #434B5C;\n",
              "      box-shadow: 0px 1px 3px 1px rgba(0, 0, 0, 0.15);\n",
              "      filter: drop-shadow(0px 1px 2px rgba(0, 0, 0, 0.3));\n",
              "      fill: #FFFFFF;\n",
              "    }\n",
              "  </style>\n",
              "\n",
              "      <script>\n",
              "        const buttonEl =\n",
              "          document.querySelector('#df-135ce3f3-2fd4-407f-8ab2-aea4c631a133 button.colab-df-convert');\n",
              "        buttonEl.style.display =\n",
              "          google.colab.kernel.accessAllowed ? 'block' : 'none';\n",
              "\n",
              "        async function convertToInteractive(key) {\n",
              "          const element = document.querySelector('#df-135ce3f3-2fd4-407f-8ab2-aea4c631a133');\n",
              "          const dataTable =\n",
              "            await google.colab.kernel.invokeFunction('convertToInteractive',\n",
              "                                                     [key], {});\n",
              "          if (!dataTable) return;\n",
              "\n",
              "          const docLinkHtml = 'Like what you see? Visit the ' +\n",
              "            '<a target=\"_blank\" href=https://colab.research.google.com/notebooks/data_table.ipynb>data table notebook</a>'\n",
              "            + ' to learn more about interactive tables.';\n",
              "          element.innerHTML = '';\n",
              "          dataTable['output_type'] = 'display_data';\n",
              "          await google.colab.output.renderOutput(dataTable, element);\n",
              "          const docLink = document.createElement('div');\n",
              "          docLink.innerHTML = docLinkHtml;\n",
              "          element.appendChild(docLink);\n",
              "        }\n",
              "      </script>\n",
              "    </div>\n",
              "  </div>\n",
              "  "
            ]
          },
          "metadata": {},
          "execution_count": 276
        }
      ],
      "source": [
        "nulldata"
      ]
    },
    {
      "cell_type": "markdown",
      "source": [
        "### Check for the number of rows and columns in the nulldata"
      ],
      "metadata": {
        "id": "Vamx5xqtiHCH"
      },
      "id": "Vamx5xqtiHCH"
    },
    {
      "cell_type": "code",
      "execution_count": null,
      "id": "59de1092",
      "metadata": {
        "id": "59de1092",
        "colab": {
          "base_uri": "https://localhost:8080/"
        },
        "outputId": "1183ee7a-6aa9-4b36-b6d9-14f8d85d197a"
      },
      "outputs": [
        {
          "output_type": "execute_result",
          "data": {
            "text/plain": [
              "(9681, 11)"
            ]
          },
          "metadata": {},
          "execution_count": 277
        }
      ],
      "source": [
        "nulldata.shape"
      ]
    },
    {
      "cell_type": "markdown",
      "source": [
        "### Check the Description and Information of the nulldata "
      ],
      "metadata": {
        "id": "BxzHNbBjpqXL"
      },
      "id": "BxzHNbBjpqXL"
    },
    {
      "cell_type": "code",
      "execution_count": null,
      "id": "a6294d29",
      "metadata": {
        "id": "a6294d29",
        "colab": {
          "base_uri": "https://localhost:8080/"
        },
        "outputId": "7fc3e465-6fb7-461b-9fd4-76f916815560"
      },
      "outputs": [
        {
          "output_type": "stream",
          "name": "stdout",
          "text": [
            "       buisness_year        doc_id  converted_usd\n",
            "count         9681.0  9.681000e+03    9681.000000\n",
            "mean          2020.0  2.006165e+09   32065.681125\n",
            "std              0.0  2.673629e+08   35419.613688\n",
            "min           2020.0  1.930535e+09       0.720000\n",
            "25%           2020.0  1.930658e+09    5607.190000\n",
            "50%           2020.0  1.930731e+09   19024.190000\n",
            "75%           2020.0  1.930818e+09   47752.640000\n",
            "max           2020.0  2.960636e+09  653644.800000\n",
            "<class 'pandas.core.frame.DataFrame'>\n",
            "Int64Index: 9681 entries, 3 to 49995\n",
            "Data columns (total 11 columns):\n",
            " #   Column                Non-Null Count  Dtype         \n",
            "---  ------                --------------  -----         \n",
            " 0   business_code         9681 non-null   object        \n",
            " 1   cust_number           9681 non-null   object        \n",
            " 2   name_customer         9681 non-null   object        \n",
            " 3   clear_date            0 non-null      datetime64[ns]\n",
            " 4   buisness_year         9681 non-null   int64         \n",
            " 5   doc_id                9681 non-null   float64       \n",
            " 6   posting_date          9681 non-null   datetime64[ns]\n",
            " 7   due_in_date           9681 non-null   datetime64[ns]\n",
            " 8   baseline_create_date  9681 non-null   datetime64[ns]\n",
            " 9   cust_payment_terms    9681 non-null   object        \n",
            " 10  converted_usd         9681 non-null   float64       \n",
            "dtypes: datetime64[ns](4), float64(2), int64(1), object(4)\n",
            "memory usage: 907.6+ KB\n",
            "None\n"
          ]
        }
      ],
      "source": [
        "print(nulldata.describe())\n",
        "print(nulldata.info())"
      ]
    },
    {
      "cell_type": "markdown",
      "id": "fe860d94",
      "metadata": {
        "id": "fe860d94"
      },
      "source": [
        "### Storing the Nulldata into a different dataset \n",
        "# for BACKUP"
      ]
    },
    {
      "cell_type": "code",
      "execution_count": null,
      "id": "16352034",
      "metadata": {
        "id": "16352034"
      },
      "outputs": [],
      "source": [
        "nulldata1=nulldata.copy()"
      ]
    },
    {
      "cell_type": "markdown",
      "id": "00f35b8c",
      "metadata": {
        "id": "00f35b8c"
      },
      "source": [
        "### Call the Label Encoder for Nulldata\n",
        "\n",
        "- Note - you are expected to fit \"business_code\" as it is a categorical variable\n",
        "- Note - No need to change the code"
      ]
    },
    {
      "cell_type": "code",
      "execution_count": null,
      "id": "baf04b17",
      "metadata": {
        "id": "baf04b17"
      },
      "outputs": [],
      "source": [
        "from sklearn.preprocessing import LabelEncoder\n",
        "business_codern = LabelEncoder()\n",
        "business_codern.fit(nulldata['business_code'])\n",
        "nulldata['business_code_enc'] = business_codern.transform(nulldata['business_code'])"
      ]
    },
    {
      "cell_type": "markdown",
      "source": [
        "### Now you need to manually replacing str values with numbers\n",
        "- Note - No need to change the code"
      ],
      "metadata": {
        "id": "ZCPBK9karIR-"
      },
      "id": "ZCPBK9karIR-"
    },
    {
      "cell_type": "code",
      "execution_count": null,
      "id": "c64924be",
      "metadata": {
        "id": "c64924be"
      },
      "outputs": [],
      "source": [
        "nulldata['cust_number'] = nulldata['cust_number'].str.replace('CCCA',\"1\").str.replace('CCU',\"2\").str.replace('CC',\"3\").astype(int)"
      ]
    },
    {
      "cell_type": "markdown",
      "id": "9a55f5f6",
      "metadata": {
        "id": "9a55f5f6"
      },
      "source": [
        "## You need to extract day, month and year from the \"clear_date\", \"posting_date\", \"due_in_date\", \"baseline_create_date\" columns\n",
        "\n",
        "\n",
        "##### 1.   Extract day from \"clear_date\" column and store it into 'day_of_cleardate'\n",
        "##### 2.   Extract month from \"clear_date\" column and store it into 'month_of_cleardate'\n",
        "##### 3.   Extract year from \"clear_date\" column and store it into 'year_of_cleardate'\n",
        "\n",
        "\n",
        "\n",
        "##### 4.   Extract day from \"posting_date\" column and store it into 'day_of_postingdate'\n",
        "##### 5.   Extract month from \"posting_date\" column and store it into 'month_of_postingdate'\n",
        "##### 6.   Extract year from \"posting_date\" column and store it into 'year_of_postingdate'\n",
        "\n",
        "\n",
        "\n",
        "\n",
        "##### 7.   Extract day from \"due_in_date\" column and store it into 'day_of_due'\n",
        "##### 8.   Extract month from \"due_in_date\" column and store it into 'month_of_due'\n",
        "##### 9.   Extract year from \"due_in_date\" column and store it into 'year_of_due'\n",
        "\n",
        "\n",
        "\n",
        "\n",
        "##### 10.   Extract day from \"baseline_create_date\" column and store it into 'day_of_createdate'\n",
        "##### 11.   Extract month from \"baseline_create_date\" column and store it into 'month_of_createdate'\n",
        "##### 12.   Extract year from \"baseline_create_date\" column and store it into 'year_of_createdate'\n",
        "\n",
        "\n",
        "\n",
        "\n",
        "- Note - You are supposed To use - \n",
        "\n",
        "*   dt.day\n",
        "*   dt.month\n",
        "*   dt.year"
      ]
    },
    {
      "cell_type": "code",
      "source": [
        "nulldata['day_of_cleardate'] = nulldata['clear_date'].dt.day\n",
        "nulldata['month_of_cleardate'] = nulldata['clear_date'].dt.month\n",
        "nulldata['year_of_cleardate'] = nulldata['clear_date'].dt.year\n",
        "\n",
        "nulldata['day_of_postingdate'] = nulldata['posting_date'].dt.day\n",
        "nulldata['month_of_postingdate'] = nulldata['posting_date'].dt.month\n",
        "nulldata['year_of_postingdate'] = nulldata['posting_date'].dt.year\n",
        "\n",
        "nulldata['day_of_due'] = nulldata['due_in_date'].dt.day\n",
        "nulldata['month_of_due'] = nulldata['due_in_date'].dt.month\n",
        "nulldata['year_of_due'] = nulldata['due_in_date'].dt.year\n",
        "\n",
        "nulldata['day_of_createdate'] = nulldata['baseline_create_date'].dt.day\n",
        "nulldata['month_of_createdate'] = nulldata['baseline_create_date'].dt.month\n",
        "nulldata['year_of_createdate'] = nulldata['baseline_create_date'].dt.year\n"
      ],
      "metadata": {
        "id": "McnaHleWRFYo"
      },
      "id": "McnaHleWRFYo",
      "execution_count": null,
      "outputs": []
    },
    {
      "cell_type": "markdown",
      "source": [
        "### Use Label Encoder1 of all the following columns - \n",
        "- 'cust_payment_terms' and store into 'cust_payment_terms_enc'\n",
        "- 'business_code' and store into 'business_code_enc'\n",
        "- 'name_customer' and store into 'name_customer_enc'\n",
        "\n",
        "Note - No need to change the code"
      ],
      "metadata": {
        "id": "QeHWJYrAvOC6"
      },
      "id": "QeHWJYrAvOC6"
    },
    {
      "cell_type": "code",
      "execution_count": null,
      "id": "bac330e2",
      "metadata": {
        "id": "bac330e2"
      },
      "outputs": [],
      "source": [
        "nulldata['cust_payment_terms_enc']=label_encoder1.transform(nulldata['cust_payment_terms'])\n",
        "nulldata['business_code_enc']=label_encoder1.transform(nulldata['business_code'])\n",
        "nulldata['name_customer_enc']=label_encoder.transform(nulldata['name_customer'])\n"
      ]
    },
    {
      "cell_type": "markdown",
      "source": [
        "### Check for the datatypes of all the columns of Nulldata"
      ],
      "metadata": {
        "id": "zD9I-XqQwC28"
      },
      "id": "zD9I-XqQwC28"
    },
    {
      "cell_type": "code",
      "execution_count": null,
      "id": "d4f72517",
      "metadata": {
        "id": "d4f72517",
        "colab": {
          "base_uri": "https://localhost:8080/"
        },
        "outputId": "208e06f2-d19c-4a22-ec19-10baa61ed883"
      },
      "outputs": [
        {
          "output_type": "execute_result",
          "data": {
            "text/plain": [
              "business_code                     object\n",
              "cust_number                        int64\n",
              "name_customer                     object\n",
              "clear_date                datetime64[ns]\n",
              "buisness_year                      int64\n",
              "doc_id                           float64\n",
              "posting_date              datetime64[ns]\n",
              "due_in_date               datetime64[ns]\n",
              "baseline_create_date      datetime64[ns]\n",
              "cust_payment_terms                object\n",
              "converted_usd                    float64\n",
              "business_code_enc                  int64\n",
              "day_of_cleardate                 float64\n",
              "month_of_cleardate               float64\n",
              "year_of_cleardate                float64\n",
              "day_of_postingdate                 int64\n",
              "month_of_postingdate               int64\n",
              "year_of_postingdate                int64\n",
              "day_of_due                         int64\n",
              "month_of_due                       int64\n",
              "year_of_due                        int64\n",
              "day_of_createdate                  int64\n",
              "month_of_createdate                int64\n",
              "year_of_createdate                 int64\n",
              "cust_payment_terms_enc             int64\n",
              "name_customer_enc                  int64\n",
              "dtype: object"
            ]
          },
          "metadata": {},
          "execution_count": 284
        }
      ],
      "source": [
        "nulldata.dtypes"
      ]
    },
    {
      "cell_type": "markdown",
      "id": "17cd5452",
      "metadata": {
        "id": "17cd5452"
      },
      "source": [
        "### Now you need to drop all the unnecessary columns - \n",
        "\n",
        "- 'business_code'\n",
        "- \"baseline_create_date\"\n",
        "- \"due_in_date\"\n",
        "- \"posting_date\"\n",
        "- \"name_customer\"\n",
        "- \"clear_date\"\n",
        "- \"cust_payment_terms\"\n",
        "- 'day_of_cleardate'\n",
        "- \"month_of_cleardate\"\n",
        "- \"year_of_cleardate\""
      ]
    },
    {
      "cell_type": "code",
      "execution_count": null,
      "id": "d7c82076",
      "metadata": {
        "id": "d7c82076"
      },
      "outputs": [],
      "source": [
        "nulldata.drop(nulldata[['business_code',\"baseline_create_date\",\"due_in_date\",\"posting_date\",\"name_customer\",\"clear_date\",\"cust_payment_terms\",'day_of_cleardate',\"month_of_cleardate\",\"year_of_cleardate\"]],axis=1,inplace=True)"
      ]
    },
    {
      "cell_type": "markdown",
      "source": [
        "### Check the information of the \"nulldata\" dataframe"
      ],
      "metadata": {
        "id": "Q_NCr9IPweVq"
      },
      "id": "Q_NCr9IPweVq"
    },
    {
      "cell_type": "code",
      "execution_count": null,
      "id": "4e7ffee0",
      "metadata": {
        "id": "4e7ffee0",
        "colab": {
          "base_uri": "https://localhost:8080/"
        },
        "outputId": "abe15843-6635-4745-e8f5-2514fc8249bc"
      },
      "outputs": [
        {
          "output_type": "stream",
          "name": "stdout",
          "text": [
            "<class 'pandas.core.frame.DataFrame'>\n",
            "Int64Index: 9681 entries, 3 to 49995\n",
            "Data columns (total 16 columns):\n",
            " #   Column                  Non-Null Count  Dtype  \n",
            "---  ------                  --------------  -----  \n",
            " 0   cust_number             9681 non-null   int64  \n",
            " 1   buisness_year           9681 non-null   int64  \n",
            " 2   doc_id                  9681 non-null   float64\n",
            " 3   converted_usd           9681 non-null   float64\n",
            " 4   business_code_enc       9681 non-null   int64  \n",
            " 5   day_of_postingdate      9681 non-null   int64  \n",
            " 6   month_of_postingdate    9681 non-null   int64  \n",
            " 7   year_of_postingdate     9681 non-null   int64  \n",
            " 8   day_of_due              9681 non-null   int64  \n",
            " 9   month_of_due            9681 non-null   int64  \n",
            " 10  year_of_due             9681 non-null   int64  \n",
            " 11  day_of_createdate       9681 non-null   int64  \n",
            " 12  month_of_createdate     9681 non-null   int64  \n",
            " 13  year_of_createdate      9681 non-null   int64  \n",
            " 14  cust_payment_terms_enc  9681 non-null   int64  \n",
            " 15  name_customer_enc       9681 non-null   int64  \n",
            "dtypes: float64(2), int64(14)\n",
            "memory usage: 1.3 MB\n"
          ]
        }
      ],
      "source": [
        "nulldata.info()"
      ]
    },
    {
      "cell_type": "markdown",
      "source": [
        "### Compare \"nulldata\" with the \"X_test\" dataframe \n",
        "\n",
        "- use info() method"
      ],
      "metadata": {
        "id": "-XvjhWqmwi-C"
      },
      "id": "-XvjhWqmwi-C"
    },
    {
      "cell_type": "code",
      "execution_count": null,
      "id": "02f4b62d",
      "metadata": {
        "id": "02f4b62d",
        "colab": {
          "base_uri": "https://localhost:8080/"
        },
        "outputId": "99f92f79-004d-4d8b-d13d-7f0ddb9e0b48"
      },
      "outputs": [
        {
          "output_type": "stream",
          "name": "stdout",
          "text": [
            "<class 'pandas.core.frame.DataFrame'>\n",
            "Int64Index: 7832 entries, 39759 to 49999\n",
            "Data columns (total 16 columns):\n",
            " #   Column                  Non-Null Count  Dtype  \n",
            "---  ------                  --------------  -----  \n",
            " 0   cust_number             7832 non-null   int64  \n",
            " 1   buisness_year           7832 non-null   int64  \n",
            " 2   doc_id                  7832 non-null   float64\n",
            " 3   converted_usd           7832 non-null   float64\n",
            " 4   business_code_enc       7832 non-null   int64  \n",
            " 5   name_customer_enc       7832 non-null   int64  \n",
            " 6   cust_payment_terms_enc  7832 non-null   int64  \n",
            " 7   day_of_postingdate      7832 non-null   int64  \n",
            " 8   month_of_postingdate    7832 non-null   int64  \n",
            " 9   year_of_postingdate     7832 non-null   int64  \n",
            " 10  day_of_createdate       7832 non-null   int64  \n",
            " 11  month_of_createdate     7832 non-null   int64  \n",
            " 12  year_of_createdate      7832 non-null   int64  \n",
            " 13  day_of_due              7832 non-null   int64  \n",
            " 14  month_of_due            7832 non-null   int64  \n",
            " 15  year_of_due             7832 non-null   int64  \n",
            "dtypes: float64(2), int64(14)\n",
            "memory usage: 1.0 MB\n"
          ]
        }
      ],
      "source": [
        "X_test.info()"
      ]
    },
    {
      "cell_type": "markdown",
      "source": [
        "### You must have noticed that there is a mismatch in the column sequence while compairing the dataframes\n",
        "\n",
        "- Note - In order to fed into the machine learning model, you need to edit the sequence of \"nulldata\", similar to the \"X_test\" dataframe"
      ],
      "metadata": {
        "id": "Us3ey-9zwqjq"
      },
      "id": "Us3ey-9zwqjq"
    },
    {
      "cell_type": "markdown",
      "source": [
        "- Display all the columns of the X_test dataframe \n",
        "- Display all the columns of the Nulldata dataframe \n",
        "- Store the Nulldata with new sequence into a new dataframe \n",
        "\n",
        "\n",
        "- Note - The code is given below, no need to change "
      ],
      "metadata": {
        "id": "vduVNt1kxPW-"
      },
      "id": "vduVNt1kxPW-"
    },
    {
      "cell_type": "code",
      "execution_count": null,
      "id": "6729353e",
      "metadata": {
        "id": "6729353e",
        "colab": {
          "base_uri": "https://localhost:8080/"
        },
        "outputId": "74bfc5c6-4209-4d05-9273-9163794d8242"
      },
      "outputs": [
        {
          "output_type": "execute_result",
          "data": {
            "text/plain": [
              "Index(['cust_number', 'buisness_year', 'doc_id', 'converted_usd',\n",
              "       'business_code_enc', 'name_customer_enc', 'cust_payment_terms_enc',\n",
              "       'day_of_postingdate', 'month_of_postingdate', 'year_of_postingdate',\n",
              "       'day_of_createdate', 'month_of_createdate', 'year_of_createdate',\n",
              "       'day_of_due', 'month_of_due', 'year_of_due'],\n",
              "      dtype='object')"
            ]
          },
          "metadata": {},
          "execution_count": 288
        }
      ],
      "source": [
        "X_test.columns"
      ]
    },
    {
      "cell_type": "code",
      "execution_count": null,
      "id": "47bd9c5e",
      "metadata": {
        "id": "47bd9c5e",
        "colab": {
          "base_uri": "https://localhost:8080/"
        },
        "outputId": "207460ae-6b33-4219-f555-0e9423851f49"
      },
      "outputs": [
        {
          "output_type": "execute_result",
          "data": {
            "text/plain": [
              "Index(['cust_number', 'buisness_year', 'doc_id', 'converted_usd',\n",
              "       'business_code_enc', 'day_of_postingdate', 'month_of_postingdate',\n",
              "       'year_of_postingdate', 'day_of_due', 'month_of_due', 'year_of_due',\n",
              "       'day_of_createdate', 'month_of_createdate', 'year_of_createdate',\n",
              "       'cust_payment_terms_enc', 'name_customer_enc'],\n",
              "      dtype='object')"
            ]
          },
          "metadata": {},
          "execution_count": 289
        }
      ],
      "source": [
        "nulldata.columns"
      ]
    },
    {
      "cell_type": "code",
      "execution_count": null,
      "id": "aa5a2103",
      "metadata": {
        "id": "aa5a2103"
      },
      "outputs": [],
      "source": [
        "nulldata2=nulldata[['cust_number', 'buisness_year', 'doc_id', 'converted_usd',\n",
        "       'business_code_enc', 'name_customer_enc', 'cust_payment_terms_enc',\n",
        "       'day_of_postingdate', 'month_of_postingdate', 'year_of_postingdate',\n",
        "       'day_of_createdate', 'month_of_createdate', 'year_of_createdate',\n",
        "       'day_of_due', 'month_of_due', 'year_of_due']]"
      ]
    },
    {
      "cell_type": "markdown",
      "id": "1dc8b021",
      "metadata": {
        "id": "1dc8b021"
      },
      "source": [
        "### Display the Final Dataset"
      ]
    },
    {
      "cell_type": "code",
      "execution_count": null,
      "id": "2f39785a",
      "metadata": {
        "id": "2f39785a",
        "colab": {
          "base_uri": "https://localhost:8080/"
        },
        "outputId": "6f53cc89-0a47-40e6-fcb8-7dfdf671e30d"
      },
      "outputs": [
        {
          "output_type": "execute_result",
          "data": {
            "text/plain": [
              "cust_number                 int64\n",
              "buisness_year               int64\n",
              "doc_id                    float64\n",
              "converted_usd             float64\n",
              "business_code_enc           int64\n",
              "name_customer_enc           int64\n",
              "cust_payment_terms_enc      int64\n",
              "day_of_postingdate          int64\n",
              "month_of_postingdate        int64\n",
              "year_of_postingdate         int64\n",
              "day_of_createdate           int64\n",
              "month_of_createdate         int64\n",
              "year_of_createdate          int64\n",
              "day_of_due                  int64\n",
              "month_of_due                int64\n",
              "year_of_due                 int64\n",
              "dtype: object"
            ]
          },
          "metadata": {},
          "execution_count": 291
        }
      ],
      "source": [
        "nulldata2.dtypes"
      ]
    },
    {
      "cell_type": "markdown",
      "id": "27b88c5a",
      "metadata": {
        "id": "27b88c5a"
      },
      "source": [
        "### Now you can pass this dataset into you final model and store it into \"final_result\""
      ]
    },
    {
      "cell_type": "code",
      "execution_count": null,
      "id": "9e0b6388",
      "metadata": {
        "id": "9e0b6388"
      },
      "outputs": [],
      "source": [
        "final_result=regressorfinal.predict(nulldata2)"
      ]
    },
    {
      "cell_type": "markdown",
      "id": "9653d3c6",
      "metadata": {
        "id": "9653d3c6"
      },
      "source": [
        "### you need to make the final_result as dataframe, with a column name \"avg_delay\"\n",
        "\n",
        "- Note - No need to change the code"
      ]
    },
    {
      "cell_type": "code",
      "execution_count": null,
      "id": "25ef814d",
      "metadata": {
        "id": "25ef814d"
      },
      "outputs": [],
      "source": [
        "final_result = pd.Series(final_result,name='avg_delay')"
      ]
    },
    {
      "cell_type": "markdown",
      "source": [
        "### Display the \"avg_delay\" column"
      ],
      "metadata": {
        "id": "C86staIhyf2C"
      },
      "id": "C86staIhyf2C"
    },
    {
      "cell_type": "code",
      "execution_count": null,
      "id": "4fd46406",
      "metadata": {
        "id": "4fd46406",
        "colab": {
          "base_uri": "https://localhost:8080/"
        },
        "outputId": "2063c708-c448-478b-cb9f-423194646f45"
      },
      "outputs": [
        {
          "output_type": "execute_result",
          "data": {
            "text/plain": [
              "name_customer\n",
              "11078 us                 17 days 00:00:00\n",
              "17135 associates       -10 days +00:00:00\n",
              "17135 llc               -3 days +00:00:00\n",
              "236008 associates       -3 days +00:00:00\n",
              "99 CE                     2 days 00:00:00\n",
              "                              ...        \n",
              "YEN BROS corp             0 days 00:00:00\n",
              "YEN BROS corporation    -1 days +12:00:00\n",
              "YEN BROS llc            -2 days +00:00:00\n",
              "ZARCO co                -1 days +00:00:00\n",
              "ZIYAD  us                 6 days 00:00:00\n",
              "Name: Delay, Length: 3889, dtype: timedelta64[ns]"
            ]
          },
          "metadata": {},
          "execution_count": 294
        }
      ],
      "source": [
        "avg_delay"
      ]
    },
    {
      "cell_type": "markdown",
      "id": "44f71a7e",
      "metadata": {
        "id": "44f71a7e"
      },
      "source": [
        "### Now you need to merge this final_result dataframe with the BACKUP of \"nulldata\" Dataframe which we have created in earlier steps"
      ]
    },
    {
      "cell_type": "code",
      "execution_count": null,
      "id": "e8f0969d",
      "metadata": {
        "id": "e8f0969d"
      },
      "outputs": [],
      "source": [
        "nulldata1.reset_index(drop=True,inplace=True)\n",
        "Final = nulldata1.merge(final_result , on = nulldata.index )"
      ]
    },
    {
      "cell_type": "markdown",
      "source": [
        "### Display the \"Final\" dataframe "
      ],
      "metadata": {
        "id": "G-hLtxXgy4GZ"
      },
      "id": "G-hLtxXgy4GZ"
    },
    {
      "cell_type": "code",
      "execution_count": null,
      "id": "71fb4dc0",
      "metadata": {
        "id": "71fb4dc0",
        "colab": {
          "base_uri": "https://localhost:8080/",
          "height": 522
        },
        "outputId": "c227ae42-1cf7-432e-d79a-65193bbc7a39"
      },
      "outputs": [
        {
          "output_type": "execute_result",
          "data": {
            "text/plain": [
              "      key_0 business_code cust_number        name_customer clear_date  \\\n",
              "0         3          CA02  0140105686             SYSC llc        NaT   \n",
              "1         7          U001  0200744019              TARG us        NaT   \n",
              "2        10          U001  0200418007                  AM         NaT   \n",
              "3        14          U001  0200739534           OK systems        NaT   \n",
              "4        15          U001  0200353024     DECA corporation        NaT   \n",
              "...     ...           ...         ...                  ...        ...   \n",
              "9676  49975          U001  0200769623           WAL-MAR in        NaT   \n",
              "9677  49980          U001  0200769623  WAL-MAR corporation        NaT   \n",
              "9678  49982          U001  0200148860             DOLLA co        NaT   \n",
              "9679  49992          U001  0200900909             SYSCO co        NaT   \n",
              "9680  49995          U001  0200561861       CO corporation        NaT   \n",
              "\n",
              "      buisness_year        doc_id posting_date due_in_date  \\\n",
              "0              2020  2.960623e+09   2020-03-30  2020-04-10   \n",
              "1              2020  1.930659e+09   2020-03-19  2020-04-03   \n",
              "2              2020  1.930611e+09   2020-03-11  2020-03-26   \n",
              "3              2020  1.930788e+09   2020-04-15  2020-04-30   \n",
              "4              2020  1.930817e+09   2020-04-23  2020-04-26   \n",
              "...             ...           ...          ...         ...   \n",
              "9676           2020  1.930625e+09   2020-03-10  2020-03-25   \n",
              "9677           2020  1.930851e+09   2020-05-03  2020-05-18   \n",
              "9678           2020  1.930638e+09   2020-03-11  2020-03-26   \n",
              "9679           2020  1.930702e+09   2020-03-25  2020-04-09   \n",
              "9680           2020  1.930797e+09   2020-04-21  2020-05-06   \n",
              "\n",
              "     baseline_create_date cust_payment_terms  converted_usd      avg_delay  \n",
              "0              2020-03-31               CA10        2309.79  370741.718750  \n",
              "1              2020-03-19               NAA8       11173.02  394555.812500  \n",
              "2              2020-03-11               NAA8        3525.59  289793.406250  \n",
              "3              2020-04-15               NAA8      121105.65  109147.882812  \n",
              "4              2020-04-16               NAM2        3726.06 -272168.156250  \n",
              "...                   ...                ...            ...            ...  \n",
              "9676           2020-03-10               NAH4       13114.99  115253.664062  \n",
              "9677           2020-05-03               NAH4        8899.71  115253.664062  \n",
              "9678           2020-03-11               NAA8        4967.06 -224047.562500  \n",
              "9679           2020-03-25               NAA8        1998.64  422975.093750  \n",
              "9680           2020-04-21               NAA8        3187.86  -31042.601562  \n",
              "\n",
              "[9681 rows x 13 columns]"
            ],
            "text/html": [
              "\n",
              "  <div id=\"df-751d7da8-ef8d-42b0-90af-da0f12a00d46\">\n",
              "    <div class=\"colab-df-container\">\n",
              "      <div>\n",
              "<style scoped>\n",
              "    .dataframe tbody tr th:only-of-type {\n",
              "        vertical-align: middle;\n",
              "    }\n",
              "\n",
              "    .dataframe tbody tr th {\n",
              "        vertical-align: top;\n",
              "    }\n",
              "\n",
              "    .dataframe thead th {\n",
              "        text-align: right;\n",
              "    }\n",
              "</style>\n",
              "<table border=\"1\" class=\"dataframe\">\n",
              "  <thead>\n",
              "    <tr style=\"text-align: right;\">\n",
              "      <th></th>\n",
              "      <th>key_0</th>\n",
              "      <th>business_code</th>\n",
              "      <th>cust_number</th>\n",
              "      <th>name_customer</th>\n",
              "      <th>clear_date</th>\n",
              "      <th>buisness_year</th>\n",
              "      <th>doc_id</th>\n",
              "      <th>posting_date</th>\n",
              "      <th>due_in_date</th>\n",
              "      <th>baseline_create_date</th>\n",
              "      <th>cust_payment_terms</th>\n",
              "      <th>converted_usd</th>\n",
              "      <th>avg_delay</th>\n",
              "    </tr>\n",
              "  </thead>\n",
              "  <tbody>\n",
              "    <tr>\n",
              "      <th>0</th>\n",
              "      <td>3</td>\n",
              "      <td>CA02</td>\n",
              "      <td>0140105686</td>\n",
              "      <td>SYSC llc</td>\n",
              "      <td>NaT</td>\n",
              "      <td>2020</td>\n",
              "      <td>2.960623e+09</td>\n",
              "      <td>2020-03-30</td>\n",
              "      <td>2020-04-10</td>\n",
              "      <td>2020-03-31</td>\n",
              "      <td>CA10</td>\n",
              "      <td>2309.79</td>\n",
              "      <td>370741.718750</td>\n",
              "    </tr>\n",
              "    <tr>\n",
              "      <th>1</th>\n",
              "      <td>7</td>\n",
              "      <td>U001</td>\n",
              "      <td>0200744019</td>\n",
              "      <td>TARG us</td>\n",
              "      <td>NaT</td>\n",
              "      <td>2020</td>\n",
              "      <td>1.930659e+09</td>\n",
              "      <td>2020-03-19</td>\n",
              "      <td>2020-04-03</td>\n",
              "      <td>2020-03-19</td>\n",
              "      <td>NAA8</td>\n",
              "      <td>11173.02</td>\n",
              "      <td>394555.812500</td>\n",
              "    </tr>\n",
              "    <tr>\n",
              "      <th>2</th>\n",
              "      <td>10</td>\n",
              "      <td>U001</td>\n",
              "      <td>0200418007</td>\n",
              "      <td>AM</td>\n",
              "      <td>NaT</td>\n",
              "      <td>2020</td>\n",
              "      <td>1.930611e+09</td>\n",
              "      <td>2020-03-11</td>\n",
              "      <td>2020-03-26</td>\n",
              "      <td>2020-03-11</td>\n",
              "      <td>NAA8</td>\n",
              "      <td>3525.59</td>\n",
              "      <td>289793.406250</td>\n",
              "    </tr>\n",
              "    <tr>\n",
              "      <th>3</th>\n",
              "      <td>14</td>\n",
              "      <td>U001</td>\n",
              "      <td>0200739534</td>\n",
              "      <td>OK systems</td>\n",
              "      <td>NaT</td>\n",
              "      <td>2020</td>\n",
              "      <td>1.930788e+09</td>\n",
              "      <td>2020-04-15</td>\n",
              "      <td>2020-04-30</td>\n",
              "      <td>2020-04-15</td>\n",
              "      <td>NAA8</td>\n",
              "      <td>121105.65</td>\n",
              "      <td>109147.882812</td>\n",
              "    </tr>\n",
              "    <tr>\n",
              "      <th>4</th>\n",
              "      <td>15</td>\n",
              "      <td>U001</td>\n",
              "      <td>0200353024</td>\n",
              "      <td>DECA corporation</td>\n",
              "      <td>NaT</td>\n",
              "      <td>2020</td>\n",
              "      <td>1.930817e+09</td>\n",
              "      <td>2020-04-23</td>\n",
              "      <td>2020-04-26</td>\n",
              "      <td>2020-04-16</td>\n",
              "      <td>NAM2</td>\n",
              "      <td>3726.06</td>\n",
              "      <td>-272168.156250</td>\n",
              "    </tr>\n",
              "    <tr>\n",
              "      <th>...</th>\n",
              "      <td>...</td>\n",
              "      <td>...</td>\n",
              "      <td>...</td>\n",
              "      <td>...</td>\n",
              "      <td>...</td>\n",
              "      <td>...</td>\n",
              "      <td>...</td>\n",
              "      <td>...</td>\n",
              "      <td>...</td>\n",
              "      <td>...</td>\n",
              "      <td>...</td>\n",
              "      <td>...</td>\n",
              "      <td>...</td>\n",
              "    </tr>\n",
              "    <tr>\n",
              "      <th>9676</th>\n",
              "      <td>49975</td>\n",
              "      <td>U001</td>\n",
              "      <td>0200769623</td>\n",
              "      <td>WAL-MAR in</td>\n",
              "      <td>NaT</td>\n",
              "      <td>2020</td>\n",
              "      <td>1.930625e+09</td>\n",
              "      <td>2020-03-10</td>\n",
              "      <td>2020-03-25</td>\n",
              "      <td>2020-03-10</td>\n",
              "      <td>NAH4</td>\n",
              "      <td>13114.99</td>\n",
              "      <td>115253.664062</td>\n",
              "    </tr>\n",
              "    <tr>\n",
              "      <th>9677</th>\n",
              "      <td>49980</td>\n",
              "      <td>U001</td>\n",
              "      <td>0200769623</td>\n",
              "      <td>WAL-MAR corporation</td>\n",
              "      <td>NaT</td>\n",
              "      <td>2020</td>\n",
              "      <td>1.930851e+09</td>\n",
              "      <td>2020-05-03</td>\n",
              "      <td>2020-05-18</td>\n",
              "      <td>2020-05-03</td>\n",
              "      <td>NAH4</td>\n",
              "      <td>8899.71</td>\n",
              "      <td>115253.664062</td>\n",
              "    </tr>\n",
              "    <tr>\n",
              "      <th>9678</th>\n",
              "      <td>49982</td>\n",
              "      <td>U001</td>\n",
              "      <td>0200148860</td>\n",
              "      <td>DOLLA co</td>\n",
              "      <td>NaT</td>\n",
              "      <td>2020</td>\n",
              "      <td>1.930638e+09</td>\n",
              "      <td>2020-03-11</td>\n",
              "      <td>2020-03-26</td>\n",
              "      <td>2020-03-11</td>\n",
              "      <td>NAA8</td>\n",
              "      <td>4967.06</td>\n",
              "      <td>-224047.562500</td>\n",
              "    </tr>\n",
              "    <tr>\n",
              "      <th>9679</th>\n",
              "      <td>49992</td>\n",
              "      <td>U001</td>\n",
              "      <td>0200900909</td>\n",
              "      <td>SYSCO co</td>\n",
              "      <td>NaT</td>\n",
              "      <td>2020</td>\n",
              "      <td>1.930702e+09</td>\n",
              "      <td>2020-03-25</td>\n",
              "      <td>2020-04-09</td>\n",
              "      <td>2020-03-25</td>\n",
              "      <td>NAA8</td>\n",
              "      <td>1998.64</td>\n",
              "      <td>422975.093750</td>\n",
              "    </tr>\n",
              "    <tr>\n",
              "      <th>9680</th>\n",
              "      <td>49995</td>\n",
              "      <td>U001</td>\n",
              "      <td>0200561861</td>\n",
              "      <td>CO corporation</td>\n",
              "      <td>NaT</td>\n",
              "      <td>2020</td>\n",
              "      <td>1.930797e+09</td>\n",
              "      <td>2020-04-21</td>\n",
              "      <td>2020-05-06</td>\n",
              "      <td>2020-04-21</td>\n",
              "      <td>NAA8</td>\n",
              "      <td>3187.86</td>\n",
              "      <td>-31042.601562</td>\n",
              "    </tr>\n",
              "  </tbody>\n",
              "</table>\n",
              "<p>9681 rows × 13 columns</p>\n",
              "</div>\n",
              "      <button class=\"colab-df-convert\" onclick=\"convertToInteractive('df-751d7da8-ef8d-42b0-90af-da0f12a00d46')\"\n",
              "              title=\"Convert this dataframe to an interactive table.\"\n",
              "              style=\"display:none;\">\n",
              "        \n",
              "  <svg xmlns=\"http://www.w3.org/2000/svg\" height=\"24px\"viewBox=\"0 0 24 24\"\n",
              "       width=\"24px\">\n",
              "    <path d=\"M0 0h24v24H0V0z\" fill=\"none\"/>\n",
              "    <path d=\"M18.56 5.44l.94 2.06.94-2.06 2.06-.94-2.06-.94-.94-2.06-.94 2.06-2.06.94zm-11 1L8.5 8.5l.94-2.06 2.06-.94-2.06-.94L8.5 2.5l-.94 2.06-2.06.94zm10 10l.94 2.06.94-2.06 2.06-.94-2.06-.94-.94-2.06-.94 2.06-2.06.94z\"/><path d=\"M17.41 7.96l-1.37-1.37c-.4-.4-.92-.59-1.43-.59-.52 0-1.04.2-1.43.59L10.3 9.45l-7.72 7.72c-.78.78-.78 2.05 0 2.83L4 21.41c.39.39.9.59 1.41.59.51 0 1.02-.2 1.41-.59l7.78-7.78 2.81-2.81c.8-.78.8-2.07 0-2.86zM5.41 20L4 18.59l7.72-7.72 1.47 1.35L5.41 20z\"/>\n",
              "  </svg>\n",
              "      </button>\n",
              "      \n",
              "  <style>\n",
              "    .colab-df-container {\n",
              "      display:flex;\n",
              "      flex-wrap:wrap;\n",
              "      gap: 12px;\n",
              "    }\n",
              "\n",
              "    .colab-df-convert {\n",
              "      background-color: #E8F0FE;\n",
              "      border: none;\n",
              "      border-radius: 50%;\n",
              "      cursor: pointer;\n",
              "      display: none;\n",
              "      fill: #1967D2;\n",
              "      height: 32px;\n",
              "      padding: 0 0 0 0;\n",
              "      width: 32px;\n",
              "    }\n",
              "\n",
              "    .colab-df-convert:hover {\n",
              "      background-color: #E2EBFA;\n",
              "      box-shadow: 0px 1px 2px rgba(60, 64, 67, 0.3), 0px 1px 3px 1px rgba(60, 64, 67, 0.15);\n",
              "      fill: #174EA6;\n",
              "    }\n",
              "\n",
              "    [theme=dark] .colab-df-convert {\n",
              "      background-color: #3B4455;\n",
              "      fill: #D2E3FC;\n",
              "    }\n",
              "\n",
              "    [theme=dark] .colab-df-convert:hover {\n",
              "      background-color: #434B5C;\n",
              "      box-shadow: 0px 1px 3px 1px rgba(0, 0, 0, 0.15);\n",
              "      filter: drop-shadow(0px 1px 2px rgba(0, 0, 0, 0.3));\n",
              "      fill: #FFFFFF;\n",
              "    }\n",
              "  </style>\n",
              "\n",
              "      <script>\n",
              "        const buttonEl =\n",
              "          document.querySelector('#df-751d7da8-ef8d-42b0-90af-da0f12a00d46 button.colab-df-convert');\n",
              "        buttonEl.style.display =\n",
              "          google.colab.kernel.accessAllowed ? 'block' : 'none';\n",
              "\n",
              "        async function convertToInteractive(key) {\n",
              "          const element = document.querySelector('#df-751d7da8-ef8d-42b0-90af-da0f12a00d46');\n",
              "          const dataTable =\n",
              "            await google.colab.kernel.invokeFunction('convertToInteractive',\n",
              "                                                     [key], {});\n",
              "          if (!dataTable) return;\n",
              "\n",
              "          const docLinkHtml = 'Like what you see? Visit the ' +\n",
              "            '<a target=\"_blank\" href=https://colab.research.google.com/notebooks/data_table.ipynb>data table notebook</a>'\n",
              "            + ' to learn more about interactive tables.';\n",
              "          element.innerHTML = '';\n",
              "          dataTable['output_type'] = 'display_data';\n",
              "          await google.colab.output.renderOutput(dataTable, element);\n",
              "          const docLink = document.createElement('div');\n",
              "          docLink.innerHTML = docLinkHtml;\n",
              "          element.appendChild(docLink);\n",
              "        }\n",
              "      </script>\n",
              "    </div>\n",
              "  </div>\n",
              "  "
            ]
          },
          "metadata": {},
          "execution_count": 296
        }
      ],
      "source": [
        "Final"
      ]
    },
    {
      "cell_type": "markdown",
      "source": [
        "### Check for the Number of Rows and Columns in your \"Final\" dataframe "
      ],
      "metadata": {
        "id": "4sc27Uz-y-0O"
      },
      "id": "4sc27Uz-y-0O"
    },
    {
      "cell_type": "code",
      "source": [
        "Final.shape"
      ],
      "metadata": {
        "id": "5iUXOIhzy_HR",
        "colab": {
          "base_uri": "https://localhost:8080/"
        },
        "outputId": "bf1dd45f-82fc-4794-8b96-031d4894c4ab"
      },
      "id": "5iUXOIhzy_HR",
      "execution_count": null,
      "outputs": [
        {
          "output_type": "execute_result",
          "data": {
            "text/plain": [
              "(9681, 13)"
            ]
          },
          "metadata": {},
          "execution_count": 297
        }
      ]
    },
    {
      "cell_type": "markdown",
      "id": "48886d2c",
      "metadata": {
        "id": "48886d2c"
      },
      "source": [
        "### Now, you need to do convert the below fields back into date and time format \n",
        "\n",
        "- Convert \"due_in_date\" into datetime format\n",
        "- Convert \"avg_delay\" into datetime format\n",
        "- Create a new column \"clear_date\" and store the sum of \"due_in_date\" and \"avg_delay\"\n",
        "- display the new \"clear_date\" column\n",
        "- Note - Code is given below, no need to change "
      ]
    },
    {
      "cell_type": "code",
      "execution_count": null,
      "id": "243abc2d",
      "metadata": {
        "id": "243abc2d"
      },
      "outputs": [],
      "source": [
        "Final['clear_date'] = pd.to_datetime(Final['due_in_date']) + pd.to_timedelta(Final['avg_delay'], unit='s')"
      ]
    },
    {
      "cell_type": "markdown",
      "source": [
        "### Display the \"clear_date\" column"
      ],
      "metadata": {
        "id": "9QcX_fAjIkYR"
      },
      "id": "9QcX_fAjIkYR"
    },
    {
      "cell_type": "code",
      "execution_count": null,
      "id": "740e1486",
      "metadata": {
        "id": "740e1486",
        "colab": {
          "base_uri": "https://localhost:8080/",
          "height": 424
        },
        "outputId": "c9ac6c7a-8fb3-4bd3-9ee0-747c2629be57"
      },
      "outputs": [
        {
          "output_type": "execute_result",
          "data": {
            "text/plain": [
              "                        clear_date\n",
              "0    2020-04-14 06:59:01.718750000\n",
              "1    2020-04-07 13:35:55.812500000\n",
              "2    2020-03-29 08:29:53.406250000\n",
              "3    2020-05-01 06:19:07.882812500\n",
              "4    2020-04-22 20:23:51.843750000\n",
              "...                            ...\n",
              "9676 2020-03-26 08:00:53.664062500\n",
              "9677 2020-05-19 08:00:53.664062500\n",
              "9678 2020-03-23 09:45:52.437500000\n",
              "9679 2020-04-13 21:29:35.093750000\n",
              "9680 2020-05-05 15:22:37.398437500\n",
              "\n",
              "[9681 rows x 1 columns]"
            ],
            "text/html": [
              "\n",
              "  <div id=\"df-d8704e63-03c6-48d8-b7c9-c5f6e21c6929\">\n",
              "    <div class=\"colab-df-container\">\n",
              "      <div>\n",
              "<style scoped>\n",
              "    .dataframe tbody tr th:only-of-type {\n",
              "        vertical-align: middle;\n",
              "    }\n",
              "\n",
              "    .dataframe tbody tr th {\n",
              "        vertical-align: top;\n",
              "    }\n",
              "\n",
              "    .dataframe thead th {\n",
              "        text-align: right;\n",
              "    }\n",
              "</style>\n",
              "<table border=\"1\" class=\"dataframe\">\n",
              "  <thead>\n",
              "    <tr style=\"text-align: right;\">\n",
              "      <th></th>\n",
              "      <th>clear_date</th>\n",
              "    </tr>\n",
              "  </thead>\n",
              "  <tbody>\n",
              "    <tr>\n",
              "      <th>0</th>\n",
              "      <td>2020-04-14 06:59:01.718750000</td>\n",
              "    </tr>\n",
              "    <tr>\n",
              "      <th>1</th>\n",
              "      <td>2020-04-07 13:35:55.812500000</td>\n",
              "    </tr>\n",
              "    <tr>\n",
              "      <th>2</th>\n",
              "      <td>2020-03-29 08:29:53.406250000</td>\n",
              "    </tr>\n",
              "    <tr>\n",
              "      <th>3</th>\n",
              "      <td>2020-05-01 06:19:07.882812500</td>\n",
              "    </tr>\n",
              "    <tr>\n",
              "      <th>4</th>\n",
              "      <td>2020-04-22 20:23:51.843750000</td>\n",
              "    </tr>\n",
              "    <tr>\n",
              "      <th>...</th>\n",
              "      <td>...</td>\n",
              "    </tr>\n",
              "    <tr>\n",
              "      <th>9676</th>\n",
              "      <td>2020-03-26 08:00:53.664062500</td>\n",
              "    </tr>\n",
              "    <tr>\n",
              "      <th>9677</th>\n",
              "      <td>2020-05-19 08:00:53.664062500</td>\n",
              "    </tr>\n",
              "    <tr>\n",
              "      <th>9678</th>\n",
              "      <td>2020-03-23 09:45:52.437500000</td>\n",
              "    </tr>\n",
              "    <tr>\n",
              "      <th>9679</th>\n",
              "      <td>2020-04-13 21:29:35.093750000</td>\n",
              "    </tr>\n",
              "    <tr>\n",
              "      <th>9680</th>\n",
              "      <td>2020-05-05 15:22:37.398437500</td>\n",
              "    </tr>\n",
              "  </tbody>\n",
              "</table>\n",
              "<p>9681 rows × 1 columns</p>\n",
              "</div>\n",
              "      <button class=\"colab-df-convert\" onclick=\"convertToInteractive('df-d8704e63-03c6-48d8-b7c9-c5f6e21c6929')\"\n",
              "              title=\"Convert this dataframe to an interactive table.\"\n",
              "              style=\"display:none;\">\n",
              "        \n",
              "  <svg xmlns=\"http://www.w3.org/2000/svg\" height=\"24px\"viewBox=\"0 0 24 24\"\n",
              "       width=\"24px\">\n",
              "    <path d=\"M0 0h24v24H0V0z\" fill=\"none\"/>\n",
              "    <path d=\"M18.56 5.44l.94 2.06.94-2.06 2.06-.94-2.06-.94-.94-2.06-.94 2.06-2.06.94zm-11 1L8.5 8.5l.94-2.06 2.06-.94-2.06-.94L8.5 2.5l-.94 2.06-2.06.94zm10 10l.94 2.06.94-2.06 2.06-.94-2.06-.94-.94-2.06-.94 2.06-2.06.94z\"/><path d=\"M17.41 7.96l-1.37-1.37c-.4-.4-.92-.59-1.43-.59-.52 0-1.04.2-1.43.59L10.3 9.45l-7.72 7.72c-.78.78-.78 2.05 0 2.83L4 21.41c.39.39.9.59 1.41.59.51 0 1.02-.2 1.41-.59l7.78-7.78 2.81-2.81c.8-.78.8-2.07 0-2.86zM5.41 20L4 18.59l7.72-7.72 1.47 1.35L5.41 20z\"/>\n",
              "  </svg>\n",
              "      </button>\n",
              "      \n",
              "  <style>\n",
              "    .colab-df-container {\n",
              "      display:flex;\n",
              "      flex-wrap:wrap;\n",
              "      gap: 12px;\n",
              "    }\n",
              "\n",
              "    .colab-df-convert {\n",
              "      background-color: #E8F0FE;\n",
              "      border: none;\n",
              "      border-radius: 50%;\n",
              "      cursor: pointer;\n",
              "      display: none;\n",
              "      fill: #1967D2;\n",
              "      height: 32px;\n",
              "      padding: 0 0 0 0;\n",
              "      width: 32px;\n",
              "    }\n",
              "\n",
              "    .colab-df-convert:hover {\n",
              "      background-color: #E2EBFA;\n",
              "      box-shadow: 0px 1px 2px rgba(60, 64, 67, 0.3), 0px 1px 3px 1px rgba(60, 64, 67, 0.15);\n",
              "      fill: #174EA6;\n",
              "    }\n",
              "\n",
              "    [theme=dark] .colab-df-convert {\n",
              "      background-color: #3B4455;\n",
              "      fill: #D2E3FC;\n",
              "    }\n",
              "\n",
              "    [theme=dark] .colab-df-convert:hover {\n",
              "      background-color: #434B5C;\n",
              "      box-shadow: 0px 1px 3px 1px rgba(0, 0, 0, 0.15);\n",
              "      filter: drop-shadow(0px 1px 2px rgba(0, 0, 0, 0.3));\n",
              "      fill: #FFFFFF;\n",
              "    }\n",
              "  </style>\n",
              "\n",
              "      <script>\n",
              "        const buttonEl =\n",
              "          document.querySelector('#df-d8704e63-03c6-48d8-b7c9-c5f6e21c6929 button.colab-df-convert');\n",
              "        buttonEl.style.display =\n",
              "          google.colab.kernel.accessAllowed ? 'block' : 'none';\n",
              "\n",
              "        async function convertToInteractive(key) {\n",
              "          const element = document.querySelector('#df-d8704e63-03c6-48d8-b7c9-c5f6e21c6929');\n",
              "          const dataTable =\n",
              "            await google.colab.kernel.invokeFunction('convertToInteractive',\n",
              "                                                     [key], {});\n",
              "          if (!dataTable) return;\n",
              "\n",
              "          const docLinkHtml = 'Like what you see? Visit the ' +\n",
              "            '<a target=\"_blank\" href=https://colab.research.google.com/notebooks/data_table.ipynb>data table notebook</a>'\n",
              "            + ' to learn more about interactive tables.';\n",
              "          element.innerHTML = '';\n",
              "          dataTable['output_type'] = 'display_data';\n",
              "          await google.colab.output.renderOutput(dataTable, element);\n",
              "          const docLink = document.createElement('div');\n",
              "          docLink.innerHTML = docLinkHtml;\n",
              "          element.appendChild(docLink);\n",
              "        }\n",
              "      </script>\n",
              "    </div>\n",
              "  </div>\n",
              "  "
            ]
          },
          "metadata": {},
          "execution_count": 299
        }
      ],
      "source": [
        "Final[['clear_date']]"
      ]
    },
    {
      "cell_type": "markdown",
      "source": [
        "### Convert the average delay into number of days format \n",
        "\n",
        "- Note - Formula = avg_delay//(24 * 3600)\n",
        "- Note - full code is given for this, no need to change "
      ],
      "metadata": {
        "id": "MSkNLq6-z7rZ"
      },
      "id": "MSkNLq6-z7rZ"
    },
    {
      "cell_type": "code",
      "execution_count": null,
      "id": "ce6b618a",
      "metadata": {
        "id": "ce6b618a"
      },
      "outputs": [],
      "source": [
        "Final['avg_delay'] = Final.apply(lambda row: row.avg_delay//(24 * 3600), axis = 1)"
      ]
    },
    {
      "cell_type": "markdown",
      "source": [
        "### Display the \"avg_delay\" column "
      ],
      "metadata": {
        "id": "wbBBZPjP0W7o"
      },
      "id": "wbBBZPjP0W7o"
    },
    {
      "cell_type": "code",
      "execution_count": null,
      "id": "a494982f",
      "metadata": {
        "scrolled": true,
        "id": "a494982f",
        "colab": {
          "base_uri": "https://localhost:8080/",
          "height": 424
        },
        "outputId": "2a8ad8e6-6490-4dd6-f148-3a6e765fde40"
      },
      "outputs": [
        {
          "output_type": "execute_result",
          "data": {
            "text/plain": [
              "      avg_delay\n",
              "0           4.0\n",
              "1           4.0\n",
              "2           3.0\n",
              "3           1.0\n",
              "4          -4.0\n",
              "...         ...\n",
              "9676        1.0\n",
              "9677        1.0\n",
              "9678       -3.0\n",
              "9679        4.0\n",
              "9680       -1.0\n",
              "\n",
              "[9681 rows x 1 columns]"
            ],
            "text/html": [
              "\n",
              "  <div id=\"df-81b02c90-f071-452c-bde5-4e6903aa22b6\">\n",
              "    <div class=\"colab-df-container\">\n",
              "      <div>\n",
              "<style scoped>\n",
              "    .dataframe tbody tr th:only-of-type {\n",
              "        vertical-align: middle;\n",
              "    }\n",
              "\n",
              "    .dataframe tbody tr th {\n",
              "        vertical-align: top;\n",
              "    }\n",
              "\n",
              "    .dataframe thead th {\n",
              "        text-align: right;\n",
              "    }\n",
              "</style>\n",
              "<table border=\"1\" class=\"dataframe\">\n",
              "  <thead>\n",
              "    <tr style=\"text-align: right;\">\n",
              "      <th></th>\n",
              "      <th>avg_delay</th>\n",
              "    </tr>\n",
              "  </thead>\n",
              "  <tbody>\n",
              "    <tr>\n",
              "      <th>0</th>\n",
              "      <td>4.0</td>\n",
              "    </tr>\n",
              "    <tr>\n",
              "      <th>1</th>\n",
              "      <td>4.0</td>\n",
              "    </tr>\n",
              "    <tr>\n",
              "      <th>2</th>\n",
              "      <td>3.0</td>\n",
              "    </tr>\n",
              "    <tr>\n",
              "      <th>3</th>\n",
              "      <td>1.0</td>\n",
              "    </tr>\n",
              "    <tr>\n",
              "      <th>4</th>\n",
              "      <td>-4.0</td>\n",
              "    </tr>\n",
              "    <tr>\n",
              "      <th>...</th>\n",
              "      <td>...</td>\n",
              "    </tr>\n",
              "    <tr>\n",
              "      <th>9676</th>\n",
              "      <td>1.0</td>\n",
              "    </tr>\n",
              "    <tr>\n",
              "      <th>9677</th>\n",
              "      <td>1.0</td>\n",
              "    </tr>\n",
              "    <tr>\n",
              "      <th>9678</th>\n",
              "      <td>-3.0</td>\n",
              "    </tr>\n",
              "    <tr>\n",
              "      <th>9679</th>\n",
              "      <td>4.0</td>\n",
              "    </tr>\n",
              "    <tr>\n",
              "      <th>9680</th>\n",
              "      <td>-1.0</td>\n",
              "    </tr>\n",
              "  </tbody>\n",
              "</table>\n",
              "<p>9681 rows × 1 columns</p>\n",
              "</div>\n",
              "      <button class=\"colab-df-convert\" onclick=\"convertToInteractive('df-81b02c90-f071-452c-bde5-4e6903aa22b6')\"\n",
              "              title=\"Convert this dataframe to an interactive table.\"\n",
              "              style=\"display:none;\">\n",
              "        \n",
              "  <svg xmlns=\"http://www.w3.org/2000/svg\" height=\"24px\"viewBox=\"0 0 24 24\"\n",
              "       width=\"24px\">\n",
              "    <path d=\"M0 0h24v24H0V0z\" fill=\"none\"/>\n",
              "    <path d=\"M18.56 5.44l.94 2.06.94-2.06 2.06-.94-2.06-.94-.94-2.06-.94 2.06-2.06.94zm-11 1L8.5 8.5l.94-2.06 2.06-.94-2.06-.94L8.5 2.5l-.94 2.06-2.06.94zm10 10l.94 2.06.94-2.06 2.06-.94-2.06-.94-.94-2.06-.94 2.06-2.06.94z\"/><path d=\"M17.41 7.96l-1.37-1.37c-.4-.4-.92-.59-1.43-.59-.52 0-1.04.2-1.43.59L10.3 9.45l-7.72 7.72c-.78.78-.78 2.05 0 2.83L4 21.41c.39.39.9.59 1.41.59.51 0 1.02-.2 1.41-.59l7.78-7.78 2.81-2.81c.8-.78.8-2.07 0-2.86zM5.41 20L4 18.59l7.72-7.72 1.47 1.35L5.41 20z\"/>\n",
              "  </svg>\n",
              "      </button>\n",
              "      \n",
              "  <style>\n",
              "    .colab-df-container {\n",
              "      display:flex;\n",
              "      flex-wrap:wrap;\n",
              "      gap: 12px;\n",
              "    }\n",
              "\n",
              "    .colab-df-convert {\n",
              "      background-color: #E8F0FE;\n",
              "      border: none;\n",
              "      border-radius: 50%;\n",
              "      cursor: pointer;\n",
              "      display: none;\n",
              "      fill: #1967D2;\n",
              "      height: 32px;\n",
              "      padding: 0 0 0 0;\n",
              "      width: 32px;\n",
              "    }\n",
              "\n",
              "    .colab-df-convert:hover {\n",
              "      background-color: #E2EBFA;\n",
              "      box-shadow: 0px 1px 2px rgba(60, 64, 67, 0.3), 0px 1px 3px 1px rgba(60, 64, 67, 0.15);\n",
              "      fill: #174EA6;\n",
              "    }\n",
              "\n",
              "    [theme=dark] .colab-df-convert {\n",
              "      background-color: #3B4455;\n",
              "      fill: #D2E3FC;\n",
              "    }\n",
              "\n",
              "    [theme=dark] .colab-df-convert:hover {\n",
              "      background-color: #434B5C;\n",
              "      box-shadow: 0px 1px 3px 1px rgba(0, 0, 0, 0.15);\n",
              "      filter: drop-shadow(0px 1px 2px rgba(0, 0, 0, 0.3));\n",
              "      fill: #FFFFFF;\n",
              "    }\n",
              "  </style>\n",
              "\n",
              "      <script>\n",
              "        const buttonEl =\n",
              "          document.querySelector('#df-81b02c90-f071-452c-bde5-4e6903aa22b6 button.colab-df-convert');\n",
              "        buttonEl.style.display =\n",
              "          google.colab.kernel.accessAllowed ? 'block' : 'none';\n",
              "\n",
              "        async function convertToInteractive(key) {\n",
              "          const element = document.querySelector('#df-81b02c90-f071-452c-bde5-4e6903aa22b6');\n",
              "          const dataTable =\n",
              "            await google.colab.kernel.invokeFunction('convertToInteractive',\n",
              "                                                     [key], {});\n",
              "          if (!dataTable) return;\n",
              "\n",
              "          const docLinkHtml = 'Like what you see? Visit the ' +\n",
              "            '<a target=\"_blank\" href=https://colab.research.google.com/notebooks/data_table.ipynb>data table notebook</a>'\n",
              "            + ' to learn more about interactive tables.';\n",
              "          element.innerHTML = '';\n",
              "          dataTable['output_type'] = 'display_data';\n",
              "          await google.colab.output.renderOutput(dataTable, element);\n",
              "          const docLink = document.createElement('div');\n",
              "          docLink.innerHTML = docLinkHtml;\n",
              "          element.appendChild(docLink);\n",
              "        }\n",
              "      </script>\n",
              "    </div>\n",
              "  </div>\n",
              "  "
            ]
          },
          "metadata": {},
          "execution_count": 301
        }
      ],
      "source": [
        "Final[['avg_delay']]"
      ]
    },
    {
      "cell_type": "markdown",
      "id": "815d8811",
      "metadata": {
        "id": "815d8811"
      },
      "source": [
        "### Now you need to convert average delay column into bucket\n",
        "\n",
        "- Need to perform binning \n",
        "- create a list of bins i.e. bins= [0,15,30,45,60,100]\n",
        "- create a list of labels i.e. labels = ['0-15','16-30','31-45','46-60','Greatar than 60']\n",
        "- perform binning by using cut() function from \"Final\" dataframe\n",
        "\n",
        "\n",
        "- Please fill up the first two rows of the code"
      ]
    },
    {
      "cell_type": "code",
      "execution_count": null,
      "id": "c797e4b5",
      "metadata": {
        "id": "c797e4b5"
      },
      "outputs": [],
      "source": [
        "bins = [0,15,30,45,60,100]\n",
        "labels = ['0-15','16-30','31-45','46-60','Greatar than 60']\n",
        "Final['Aging Bucket'] = pd.cut(Final['avg_delay'], bins=bins, labels=labels, right=False)"
      ]
    },
    {
      "cell_type": "markdown",
      "id": "1c35725f",
      "metadata": {
        "id": "1c35725f"
      },
      "source": [
        "### Now you need to drop \"key_0\" and \"avg_delay\" columns from the \"Final\" Dataframe"
      ]
    },
    {
      "cell_type": "code",
      "execution_count": null,
      "id": "b31bc6a3",
      "metadata": {
        "id": "b31bc6a3"
      },
      "outputs": [],
      "source": [
        "Final.drop(Final[['key_0','avg_delay']],axis=1,inplace=True)"
      ]
    },
    {
      "cell_type": "markdown",
      "source": [
        "### Display the count of each categoty of new \"Aging Bucket\" column "
      ],
      "metadata": {
        "id": "Ui-tyIvU0-5u"
      },
      "id": "Ui-tyIvU0-5u"
    },
    {
      "cell_type": "code",
      "execution_count": null,
      "id": "a6e16218",
      "metadata": {
        "id": "a6e16218",
        "colab": {
          "base_uri": "https://localhost:8080/"
        },
        "outputId": "2940be7b-ad27-4959-e05e-1fec75559fde"
      },
      "outputs": [
        {
          "output_type": "execute_result",
          "data": {
            "text/plain": [
              "0-15               8545\n",
              "31-45                68\n",
              "16-30                21\n",
              "46-60                 9\n",
              "Greatar than 60       1\n",
              "Name: Aging Bucket, dtype: int64"
            ]
          },
          "metadata": {},
          "execution_count": 304
        }
      ],
      "source": [
        "Final['Aging Bucket'].value_counts()"
      ]
    },
    {
      "cell_type": "markdown",
      "source": [
        "### Display your final dataset with aging buckets "
      ],
      "metadata": {
        "id": "kgYegy551GKJ"
      },
      "id": "kgYegy551GKJ"
    },
    {
      "cell_type": "code",
      "source": [
        "Final"
      ],
      "metadata": {
        "colab": {
          "base_uri": "https://localhost:8080/",
          "height": 679
        },
        "id": "o8zDDxQJGYiA",
        "outputId": "f5f5984b-46f2-454e-eb4e-60bfa17e9524"
      },
      "id": "o8zDDxQJGYiA",
      "execution_count": null,
      "outputs": [
        {
          "output_type": "execute_result",
          "data": {
            "text/plain": [
              "     business_code cust_number        name_customer  \\\n",
              "0             CA02  0140105686             SYSC llc   \n",
              "1             U001  0200744019              TARG us   \n",
              "2             U001  0200418007                  AM    \n",
              "3             U001  0200739534           OK systems   \n",
              "4             U001  0200353024     DECA corporation   \n",
              "...            ...         ...                  ...   \n",
              "9676          U001  0200769623           WAL-MAR in   \n",
              "9677          U001  0200769623  WAL-MAR corporation   \n",
              "9678          U001  0200148860             DOLLA co   \n",
              "9679          U001  0200900909             SYSCO co   \n",
              "9680          U001  0200561861       CO corporation   \n",
              "\n",
              "                        clear_date  buisness_year        doc_id posting_date  \\\n",
              "0    2020-04-14 06:59:01.718750000           2020  2.960623e+09   2020-03-30   \n",
              "1    2020-04-07 13:35:55.812500000           2020  1.930659e+09   2020-03-19   \n",
              "2    2020-03-29 08:29:53.406250000           2020  1.930611e+09   2020-03-11   \n",
              "3    2020-05-01 06:19:07.882812500           2020  1.930788e+09   2020-04-15   \n",
              "4    2020-04-22 20:23:51.843750000           2020  1.930817e+09   2020-04-23   \n",
              "...                            ...            ...           ...          ...   \n",
              "9676 2020-03-26 08:00:53.664062500           2020  1.930625e+09   2020-03-10   \n",
              "9677 2020-05-19 08:00:53.664062500           2020  1.930851e+09   2020-05-03   \n",
              "9678 2020-03-23 09:45:52.437500000           2020  1.930638e+09   2020-03-11   \n",
              "9679 2020-04-13 21:29:35.093750000           2020  1.930702e+09   2020-03-25   \n",
              "9680 2020-05-05 15:22:37.398437500           2020  1.930797e+09   2020-04-21   \n",
              "\n",
              "     due_in_date baseline_create_date cust_payment_terms  converted_usd  \\\n",
              "0     2020-04-10           2020-03-31               CA10        2309.79   \n",
              "1     2020-04-03           2020-03-19               NAA8       11173.02   \n",
              "2     2020-03-26           2020-03-11               NAA8        3525.59   \n",
              "3     2020-04-30           2020-04-15               NAA8      121105.65   \n",
              "4     2020-04-26           2020-04-16               NAM2        3726.06   \n",
              "...          ...                  ...                ...            ...   \n",
              "9676  2020-03-25           2020-03-10               NAH4       13114.99   \n",
              "9677  2020-05-18           2020-05-03               NAH4        8899.71   \n",
              "9678  2020-03-26           2020-03-11               NAA8        4967.06   \n",
              "9679  2020-04-09           2020-03-25               NAA8        1998.64   \n",
              "9680  2020-05-06           2020-04-21               NAA8        3187.86   \n",
              "\n",
              "     Aging Bucket  \n",
              "0            0-15  \n",
              "1            0-15  \n",
              "2            0-15  \n",
              "3            0-15  \n",
              "4             NaN  \n",
              "...           ...  \n",
              "9676         0-15  \n",
              "9677         0-15  \n",
              "9678          NaN  \n",
              "9679         0-15  \n",
              "9680          NaN  \n",
              "\n",
              "[9681 rows x 12 columns]"
            ],
            "text/html": [
              "\n",
              "  <div id=\"df-f993ca90-2cb6-4247-87bb-a9bf53690385\">\n",
              "    <div class=\"colab-df-container\">\n",
              "      <div>\n",
              "<style scoped>\n",
              "    .dataframe tbody tr th:only-of-type {\n",
              "        vertical-align: middle;\n",
              "    }\n",
              "\n",
              "    .dataframe tbody tr th {\n",
              "        vertical-align: top;\n",
              "    }\n",
              "\n",
              "    .dataframe thead th {\n",
              "        text-align: right;\n",
              "    }\n",
              "</style>\n",
              "<table border=\"1\" class=\"dataframe\">\n",
              "  <thead>\n",
              "    <tr style=\"text-align: right;\">\n",
              "      <th></th>\n",
              "      <th>business_code</th>\n",
              "      <th>cust_number</th>\n",
              "      <th>name_customer</th>\n",
              "      <th>clear_date</th>\n",
              "      <th>buisness_year</th>\n",
              "      <th>doc_id</th>\n",
              "      <th>posting_date</th>\n",
              "      <th>due_in_date</th>\n",
              "      <th>baseline_create_date</th>\n",
              "      <th>cust_payment_terms</th>\n",
              "      <th>converted_usd</th>\n",
              "      <th>Aging Bucket</th>\n",
              "    </tr>\n",
              "  </thead>\n",
              "  <tbody>\n",
              "    <tr>\n",
              "      <th>0</th>\n",
              "      <td>CA02</td>\n",
              "      <td>0140105686</td>\n",
              "      <td>SYSC llc</td>\n",
              "      <td>2020-04-14 06:59:01.718750000</td>\n",
              "      <td>2020</td>\n",
              "      <td>2.960623e+09</td>\n",
              "      <td>2020-03-30</td>\n",
              "      <td>2020-04-10</td>\n",
              "      <td>2020-03-31</td>\n",
              "      <td>CA10</td>\n",
              "      <td>2309.79</td>\n",
              "      <td>0-15</td>\n",
              "    </tr>\n",
              "    <tr>\n",
              "      <th>1</th>\n",
              "      <td>U001</td>\n",
              "      <td>0200744019</td>\n",
              "      <td>TARG us</td>\n",
              "      <td>2020-04-07 13:35:55.812500000</td>\n",
              "      <td>2020</td>\n",
              "      <td>1.930659e+09</td>\n",
              "      <td>2020-03-19</td>\n",
              "      <td>2020-04-03</td>\n",
              "      <td>2020-03-19</td>\n",
              "      <td>NAA8</td>\n",
              "      <td>11173.02</td>\n",
              "      <td>0-15</td>\n",
              "    </tr>\n",
              "    <tr>\n",
              "      <th>2</th>\n",
              "      <td>U001</td>\n",
              "      <td>0200418007</td>\n",
              "      <td>AM</td>\n",
              "      <td>2020-03-29 08:29:53.406250000</td>\n",
              "      <td>2020</td>\n",
              "      <td>1.930611e+09</td>\n",
              "      <td>2020-03-11</td>\n",
              "      <td>2020-03-26</td>\n",
              "      <td>2020-03-11</td>\n",
              "      <td>NAA8</td>\n",
              "      <td>3525.59</td>\n",
              "      <td>0-15</td>\n",
              "    </tr>\n",
              "    <tr>\n",
              "      <th>3</th>\n",
              "      <td>U001</td>\n",
              "      <td>0200739534</td>\n",
              "      <td>OK systems</td>\n",
              "      <td>2020-05-01 06:19:07.882812500</td>\n",
              "      <td>2020</td>\n",
              "      <td>1.930788e+09</td>\n",
              "      <td>2020-04-15</td>\n",
              "      <td>2020-04-30</td>\n",
              "      <td>2020-04-15</td>\n",
              "      <td>NAA8</td>\n",
              "      <td>121105.65</td>\n",
              "      <td>0-15</td>\n",
              "    </tr>\n",
              "    <tr>\n",
              "      <th>4</th>\n",
              "      <td>U001</td>\n",
              "      <td>0200353024</td>\n",
              "      <td>DECA corporation</td>\n",
              "      <td>2020-04-22 20:23:51.843750000</td>\n",
              "      <td>2020</td>\n",
              "      <td>1.930817e+09</td>\n",
              "      <td>2020-04-23</td>\n",
              "      <td>2020-04-26</td>\n",
              "      <td>2020-04-16</td>\n",
              "      <td>NAM2</td>\n",
              "      <td>3726.06</td>\n",
              "      <td>NaN</td>\n",
              "    </tr>\n",
              "    <tr>\n",
              "      <th>...</th>\n",
              "      <td>...</td>\n",
              "      <td>...</td>\n",
              "      <td>...</td>\n",
              "      <td>...</td>\n",
              "      <td>...</td>\n",
              "      <td>...</td>\n",
              "      <td>...</td>\n",
              "      <td>...</td>\n",
              "      <td>...</td>\n",
              "      <td>...</td>\n",
              "      <td>...</td>\n",
              "      <td>...</td>\n",
              "    </tr>\n",
              "    <tr>\n",
              "      <th>9676</th>\n",
              "      <td>U001</td>\n",
              "      <td>0200769623</td>\n",
              "      <td>WAL-MAR in</td>\n",
              "      <td>2020-03-26 08:00:53.664062500</td>\n",
              "      <td>2020</td>\n",
              "      <td>1.930625e+09</td>\n",
              "      <td>2020-03-10</td>\n",
              "      <td>2020-03-25</td>\n",
              "      <td>2020-03-10</td>\n",
              "      <td>NAH4</td>\n",
              "      <td>13114.99</td>\n",
              "      <td>0-15</td>\n",
              "    </tr>\n",
              "    <tr>\n",
              "      <th>9677</th>\n",
              "      <td>U001</td>\n",
              "      <td>0200769623</td>\n",
              "      <td>WAL-MAR corporation</td>\n",
              "      <td>2020-05-19 08:00:53.664062500</td>\n",
              "      <td>2020</td>\n",
              "      <td>1.930851e+09</td>\n",
              "      <td>2020-05-03</td>\n",
              "      <td>2020-05-18</td>\n",
              "      <td>2020-05-03</td>\n",
              "      <td>NAH4</td>\n",
              "      <td>8899.71</td>\n",
              "      <td>0-15</td>\n",
              "    </tr>\n",
              "    <tr>\n",
              "      <th>9678</th>\n",
              "      <td>U001</td>\n",
              "      <td>0200148860</td>\n",
              "      <td>DOLLA co</td>\n",
              "      <td>2020-03-23 09:45:52.437500000</td>\n",
              "      <td>2020</td>\n",
              "      <td>1.930638e+09</td>\n",
              "      <td>2020-03-11</td>\n",
              "      <td>2020-03-26</td>\n",
              "      <td>2020-03-11</td>\n",
              "      <td>NAA8</td>\n",
              "      <td>4967.06</td>\n",
              "      <td>NaN</td>\n",
              "    </tr>\n",
              "    <tr>\n",
              "      <th>9679</th>\n",
              "      <td>U001</td>\n",
              "      <td>0200900909</td>\n",
              "      <td>SYSCO co</td>\n",
              "      <td>2020-04-13 21:29:35.093750000</td>\n",
              "      <td>2020</td>\n",
              "      <td>1.930702e+09</td>\n",
              "      <td>2020-03-25</td>\n",
              "      <td>2020-04-09</td>\n",
              "      <td>2020-03-25</td>\n",
              "      <td>NAA8</td>\n",
              "      <td>1998.64</td>\n",
              "      <td>0-15</td>\n",
              "    </tr>\n",
              "    <tr>\n",
              "      <th>9680</th>\n",
              "      <td>U001</td>\n",
              "      <td>0200561861</td>\n",
              "      <td>CO corporation</td>\n",
              "      <td>2020-05-05 15:22:37.398437500</td>\n",
              "      <td>2020</td>\n",
              "      <td>1.930797e+09</td>\n",
              "      <td>2020-04-21</td>\n",
              "      <td>2020-05-06</td>\n",
              "      <td>2020-04-21</td>\n",
              "      <td>NAA8</td>\n",
              "      <td>3187.86</td>\n",
              "      <td>NaN</td>\n",
              "    </tr>\n",
              "  </tbody>\n",
              "</table>\n",
              "<p>9681 rows × 12 columns</p>\n",
              "</div>\n",
              "      <button class=\"colab-df-convert\" onclick=\"convertToInteractive('df-f993ca90-2cb6-4247-87bb-a9bf53690385')\"\n",
              "              title=\"Convert this dataframe to an interactive table.\"\n",
              "              style=\"display:none;\">\n",
              "        \n",
              "  <svg xmlns=\"http://www.w3.org/2000/svg\" height=\"24px\"viewBox=\"0 0 24 24\"\n",
              "       width=\"24px\">\n",
              "    <path d=\"M0 0h24v24H0V0z\" fill=\"none\"/>\n",
              "    <path d=\"M18.56 5.44l.94 2.06.94-2.06 2.06-.94-2.06-.94-.94-2.06-.94 2.06-2.06.94zm-11 1L8.5 8.5l.94-2.06 2.06-.94-2.06-.94L8.5 2.5l-.94 2.06-2.06.94zm10 10l.94 2.06.94-2.06 2.06-.94-2.06-.94-.94-2.06-.94 2.06-2.06.94z\"/><path d=\"M17.41 7.96l-1.37-1.37c-.4-.4-.92-.59-1.43-.59-.52 0-1.04.2-1.43.59L10.3 9.45l-7.72 7.72c-.78.78-.78 2.05 0 2.83L4 21.41c.39.39.9.59 1.41.59.51 0 1.02-.2 1.41-.59l7.78-7.78 2.81-2.81c.8-.78.8-2.07 0-2.86zM5.41 20L4 18.59l7.72-7.72 1.47 1.35L5.41 20z\"/>\n",
              "  </svg>\n",
              "      </button>\n",
              "      \n",
              "  <style>\n",
              "    .colab-df-container {\n",
              "      display:flex;\n",
              "      flex-wrap:wrap;\n",
              "      gap: 12px;\n",
              "    }\n",
              "\n",
              "    .colab-df-convert {\n",
              "      background-color: #E8F0FE;\n",
              "      border: none;\n",
              "      border-radius: 50%;\n",
              "      cursor: pointer;\n",
              "      display: none;\n",
              "      fill: #1967D2;\n",
              "      height: 32px;\n",
              "      padding: 0 0 0 0;\n",
              "      width: 32px;\n",
              "    }\n",
              "\n",
              "    .colab-df-convert:hover {\n",
              "      background-color: #E2EBFA;\n",
              "      box-shadow: 0px 1px 2px rgba(60, 64, 67, 0.3), 0px 1px 3px 1px rgba(60, 64, 67, 0.15);\n",
              "      fill: #174EA6;\n",
              "    }\n",
              "\n",
              "    [theme=dark] .colab-df-convert {\n",
              "      background-color: #3B4455;\n",
              "      fill: #D2E3FC;\n",
              "    }\n",
              "\n",
              "    [theme=dark] .colab-df-convert:hover {\n",
              "      background-color: #434B5C;\n",
              "      box-shadow: 0px 1px 3px 1px rgba(0, 0, 0, 0.15);\n",
              "      filter: drop-shadow(0px 1px 2px rgba(0, 0, 0, 0.3));\n",
              "      fill: #FFFFFF;\n",
              "    }\n",
              "  </style>\n",
              "\n",
              "      <script>\n",
              "        const buttonEl =\n",
              "          document.querySelector('#df-f993ca90-2cb6-4247-87bb-a9bf53690385 button.colab-df-convert');\n",
              "        buttonEl.style.display =\n",
              "          google.colab.kernel.accessAllowed ? 'block' : 'none';\n",
              "\n",
              "        async function convertToInteractive(key) {\n",
              "          const element = document.querySelector('#df-f993ca90-2cb6-4247-87bb-a9bf53690385');\n",
              "          const dataTable =\n",
              "            await google.colab.kernel.invokeFunction('convertToInteractive',\n",
              "                                                     [key], {});\n",
              "          if (!dataTable) return;\n",
              "\n",
              "          const docLinkHtml = 'Like what you see? Visit the ' +\n",
              "            '<a target=\"_blank\" href=https://colab.research.google.com/notebooks/data_table.ipynb>data table notebook</a>'\n",
              "            + ' to learn more about interactive tables.';\n",
              "          element.innerHTML = '';\n",
              "          dataTable['output_type'] = 'display_data';\n",
              "          await google.colab.output.renderOutput(dataTable, element);\n",
              "          const docLink = document.createElement('div');\n",
              "          docLink.innerHTML = docLinkHtml;\n",
              "          element.appendChild(docLink);\n",
              "        }\n",
              "      </script>\n",
              "    </div>\n",
              "  </div>\n",
              "  "
            ]
          },
          "metadata": {},
          "execution_count": 305
        }
      ]
    },
    {
      "cell_type": "markdown",
      "source": [
        "### Store this dataframe into the .csv format"
      ],
      "metadata": {
        "id": "Ji7AoDCB1L_x"
      },
      "id": "Ji7AoDCB1L_x"
    },
    {
      "cell_type": "code",
      "execution_count": null,
      "id": "727d0b8d",
      "metadata": {
        "id": "727d0b8d"
      },
      "outputs": [],
      "source": [
        "# Final.to_csv('HRC70879W_JONNADA_SAI_RAHUL.csv')"
      ]
    },
    {
      "cell_type": "code",
      "source": [
        ""
      ],
      "metadata": {
        "id": "c_oKni_Fjmb6"
      },
      "id": "c_oKni_Fjmb6",
      "execution_count": null,
      "outputs": []
    },
    {
      "cell_type": "code",
      "source": [
        "import pickle\n",
        "filename = 'model.sav'\n",
        "pickle.dump(final_result, open(\"model.sav\", 'wb'))"
      ],
      "metadata": {
        "id": "DCNUQ9JwifUs"
      },
      "id": "DCNUQ9JwifUs",
      "execution_count": null,
      "outputs": []
    },
    {
      "cell_type": "code",
      "source": [
        ""
      ],
      "metadata": {
        "id": "EbOwLBBpplO4"
      },
      "id": "EbOwLBBpplO4",
      "execution_count": null,
      "outputs": []
    },
    {
      "cell_type": "markdown",
      "source": [
        ""
      ],
      "metadata": {
        "id": "7kW_eBCxplXh"
      },
      "id": "7kW_eBCxplXh"
    },
    {
      "cell_type": "code",
      "source": [
        "import pickle\n",
        "model=pickle.load(open(\"model.sav\",'rb'))\n",
        "final_result=model.predict(nulldata2)\n",
        "final_result=pd.Series(final_result,name='avg_delay')"
      ],
      "metadata": {
        "colab": {
          "base_uri": "https://localhost:8080/",
          "height": 339
        },
        "id": "kq8SthGSxwB6",
        "outputId": "00e02fc1-0753-449d-9126-8a78de00d04a"
      },
      "id": "kq8SthGSxwB6",
      "execution_count": null,
      "outputs": [
        {
          "output_type": "error",
          "ename": "AttributeError",
          "evalue": "ignored",
          "traceback": [
            "\u001b[0;31m---------------------------------------------------------------------------\u001b[0m",
            "\u001b[0;31mAttributeError\u001b[0m                            Traceback (most recent call last)",
            "\u001b[0;32m<ipython-input-308-9080c7be3a36>\u001b[0m in \u001b[0;36m<module>\u001b[0;34m()\u001b[0m\n\u001b[1;32m      1\u001b[0m \u001b[0;32mimport\u001b[0m \u001b[0mpickle\u001b[0m\u001b[0;34m\u001b[0m\u001b[0;34m\u001b[0m\u001b[0m\n\u001b[1;32m      2\u001b[0m \u001b[0mmodel\u001b[0m\u001b[0;34m=\u001b[0m\u001b[0mpickle\u001b[0m\u001b[0;34m.\u001b[0m\u001b[0mload\u001b[0m\u001b[0;34m(\u001b[0m\u001b[0mopen\u001b[0m\u001b[0;34m(\u001b[0m\u001b[0;34m\"model.sav\"\u001b[0m\u001b[0;34m,\u001b[0m\u001b[0;34m'rb'\u001b[0m\u001b[0;34m)\u001b[0m\u001b[0;34m)\u001b[0m\u001b[0;34m\u001b[0m\u001b[0;34m\u001b[0m\u001b[0m\n\u001b[0;32m----> 3\u001b[0;31m \u001b[0mfinal_result\u001b[0m\u001b[0;34m=\u001b[0m\u001b[0mmodel\u001b[0m\u001b[0;34m.\u001b[0m\u001b[0mpredict\u001b[0m\u001b[0;34m(\u001b[0m\u001b[0mnulldata2\u001b[0m\u001b[0;34m)\u001b[0m\u001b[0;34m\u001b[0m\u001b[0;34m\u001b[0m\u001b[0m\n\u001b[0m\u001b[1;32m      4\u001b[0m \u001b[0mfinal_result\u001b[0m\u001b[0;34m=\u001b[0m\u001b[0mpd\u001b[0m\u001b[0;34m.\u001b[0m\u001b[0mSeries\u001b[0m\u001b[0;34m(\u001b[0m\u001b[0mfinal_result\u001b[0m\u001b[0;34m,\u001b[0m\u001b[0mname\u001b[0m\u001b[0;34m=\u001b[0m\u001b[0;34m'avg_delay'\u001b[0m\u001b[0;34m)\u001b[0m\u001b[0;34m\u001b[0m\u001b[0;34m\u001b[0m\u001b[0m\n",
            "\u001b[0;32m/usr/local/lib/python3.7/dist-packages/pandas/core/generic.py\u001b[0m in \u001b[0;36m__getattr__\u001b[0;34m(self, name)\u001b[0m\n\u001b[1;32m   5485\u001b[0m         ):\n\u001b[1;32m   5486\u001b[0m             \u001b[0;32mreturn\u001b[0m \u001b[0mself\u001b[0m\u001b[0;34m[\u001b[0m\u001b[0mname\u001b[0m\u001b[0;34m]\u001b[0m\u001b[0;34m\u001b[0m\u001b[0;34m\u001b[0m\u001b[0m\n\u001b[0;32m-> 5487\u001b[0;31m         \u001b[0;32mreturn\u001b[0m \u001b[0mobject\u001b[0m\u001b[0;34m.\u001b[0m\u001b[0m__getattribute__\u001b[0m\u001b[0;34m(\u001b[0m\u001b[0mself\u001b[0m\u001b[0;34m,\u001b[0m \u001b[0mname\u001b[0m\u001b[0;34m)\u001b[0m\u001b[0;34m\u001b[0m\u001b[0;34m\u001b[0m\u001b[0m\n\u001b[0m\u001b[1;32m   5488\u001b[0m \u001b[0;34m\u001b[0m\u001b[0m\n\u001b[1;32m   5489\u001b[0m     \u001b[0;32mdef\u001b[0m \u001b[0m__setattr__\u001b[0m\u001b[0;34m(\u001b[0m\u001b[0mself\u001b[0m\u001b[0;34m,\u001b[0m \u001b[0mname\u001b[0m\u001b[0;34m:\u001b[0m \u001b[0mstr\u001b[0m\u001b[0;34m,\u001b[0m \u001b[0mvalue\u001b[0m\u001b[0;34m)\u001b[0m \u001b[0;34m->\u001b[0m \u001b[0;32mNone\u001b[0m\u001b[0;34m:\u001b[0m\u001b[0;34m\u001b[0m\u001b[0;34m\u001b[0m\u001b[0m\n",
            "\u001b[0;31mAttributeError\u001b[0m: 'Series' object has no attribute 'predict'"
          ]
        }
      ]
    },
    {
      "cell_type": "markdown",
      "source": [
        "# END OF THE PROJECT"
      ],
      "metadata": {
        "id": "FK0fabl61SkC"
      },
      "id": "FK0fabl61SkC"
    }
  ],
  "metadata": {
    "kernelspec": {
      "display_name": "Python 3",
      "language": "python",
      "name": "python3"
    },
    "language_info": {
      "codemirror_mode": {
        "name": "ipython",
        "version": 3
      },
      "file_extension": ".py",
      "mimetype": "text/x-python",
      "name": "python",
      "nbconvert_exporter": "python",
      "pygments_lexer": "ipython3",
      "version": "3.8.8"
    },
    "colab": {
      "name": "Payment_Date_Prediction.ipynb",
      "provenance": [],
      "collapsed_sections": [
        "LVfvuPiWPeMB",
        "GMnCaEcKReSw",
        "62633a84",
        "9488a5d9",
        "FK0fabl61SkC"
      ]
    }
  },
  "nbformat": 4,
  "nbformat_minor": 5
}